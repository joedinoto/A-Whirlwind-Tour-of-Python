{
 "cells": [
  {
   "cell_type": "code",
   "execution_count": 1,
   "id": "efd3001c",
   "metadata": {},
   "outputs": [
    {
     "name": "stdout",
     "output_type": "stream",
     "text": [
      "lower: [0, 1, 2, 3, 4, 5, 6, 7, 8, 9, 10, 11, 12, 13, 14, 15, 16, 17, 18, 19]\n",
      "upper: [20, 21, 22, 23, 24, 25, 26, 27, 28, 29, 30, 31, 32, 33, 34, 35, 36, 37, 38, 39]\n"
     ]
    }
   ],
   "source": [
    "# following example of\n",
    "# https://nbviewer.org/github/jakevdp/WhirlwindTourOfPython/blob/master/02-Basic-Python-Syntax.ipynb\n",
    "\n",
    "# set the midpoint\n",
    "midpoint = 20\n",
    "\n",
    "# make two empty lists\n",
    "lower = []; upper = []\n",
    "\n",
    "# split the numbers into lower and upper\n",
    "for i in range(40):\n",
    "    if(i < midpoint):\n",
    "        lower.append(i)\n",
    "    else:\n",
    "        upper.append(i)\n",
    "        \n",
    "print(\"lower:\",lower)\n",
    "print(\"upper:\",upper)"
   ]
  },
  {
   "cell_type": "code",
   "execution_count": 6,
   "id": "8ca22270",
   "metadata": {},
   "outputs": [
    {
     "name": "stdout",
     "output_type": "stream",
     "text": [
      "7 35\n"
     ]
    }
   ],
   "source": [
    "# indentation matters!\n",
    "x = 7\n",
    "\n",
    "if x < 10:\n",
    "    y = x*5\n",
    "    print(x,y)"
   ]
  },
  {
   "cell_type": "code",
   "execution_count": 7,
   "id": "3b8465c0",
   "metadata": {},
   "outputs": [
    {
     "name": "stdout",
     "output_type": "stream",
     "text": [
      "100 35\n"
     ]
    }
   ],
   "source": [
    "x = 100\n",
    "\n",
    "if x <10:\n",
    "    y = x*5\n",
    "print(x,y)"
   ]
  },
  {
   "cell_type": "code",
   "execution_count": 5,
   "id": "0b14393f",
   "metadata": {},
   "outputs": [
    {
     "name": "stdout",
     "output_type": "stream",
     "text": [
      "[-9, 0, 1, 2, 2, 3, 8, 8, 188]\n"
     ]
    }
   ],
   "source": [
    "L = [ 8,2,1,2,3,0,8,-9,188]\n",
    "L.sort()\n",
    "print(L)"
   ]
  },
  {
   "cell_type": "code",
   "execution_count": 8,
   "id": "17e8d579",
   "metadata": {},
   "outputs": [
    {
     "name": "stdout",
     "output_type": "stream",
     "text": [
      "[-9, 0, 1, 2, 2, 3, 8, 8, 188]\n"
     ]
    }
   ],
   "source": [
    "print(L)"
   ]
  },
  {
   "cell_type": "code",
   "execution_count": 10,
   "id": "5e6674f2",
   "metadata": {},
   "outputs": [
    {
     "name": "stdout",
     "output_type": "stream",
     "text": [
      "x= 15\n",
      "y= 10\n"
     ]
    }
   ],
   "source": [
    "# pointers not variables\n",
    "x = 10 \n",
    "y = x\n",
    "x +=5 # add 5 to x's value, assign to x\n",
    "print(\"x=\",x) # x is 10 + 5 = 15\n",
    "print(\"y=\",y) # y is still 10 b/c y points to 10"
   ]
  },
  {
   "cell_type": "code",
   "execution_count": 12,
   "id": "4c78ed47",
   "metadata": {},
   "outputs": [
    {
     "data": {
      "text/plain": [
       "int"
      ]
     },
     "execution_count": 12,
     "metadata": {},
     "output_type": "execute_result"
    }
   ],
   "source": [
    "# python has types, the types are linked to the variable names \n",
    "# NOT the objects themselves\n",
    "\n",
    "x = 4\n",
    "type(x)"
   ]
  },
  {
   "cell_type": "code",
   "execution_count": 13,
   "id": "fe21f35d",
   "metadata": {},
   "outputs": [
    {
     "data": {
      "text/plain": [
       "str"
      ]
     },
     "execution_count": 13,
     "metadata": {},
     "output_type": "execute_result"
    }
   ],
   "source": [
    "x = \"hello\"\n",
    "type(x)"
   ]
  },
  {
   "cell_type": "code",
   "execution_count": 14,
   "id": "32e82398",
   "metadata": {},
   "outputs": [
    {
     "data": {
      "text/plain": [
       "float"
      ]
     },
     "execution_count": 14,
     "metadata": {},
     "output_type": "execute_result"
    }
   ],
   "source": [
    "x = 3.12159\n",
    "type(x)"
   ]
  },
  {
   "cell_type": "code",
   "execution_count": 15,
   "id": "f3728b02",
   "metadata": {},
   "outputs": [
    {
     "name": "stdout",
     "output_type": "stream",
     "text": [
      "[1, 2, 3, 4, 5, 6]\n"
     ]
    }
   ],
   "source": [
    "L = [1,2,3,4,5]\n",
    "L.append(6)\n",
    "print(L)"
   ]
  },
  {
   "cell_type": "code",
   "execution_count": 16,
   "id": "32d08ddf",
   "metadata": {},
   "outputs": [
    {
     "name": "stdout",
     "output_type": "stream",
     "text": [
      "1 + 0 i\n"
     ]
    }
   ],
   "source": [
    "# you can pull real and imaginary parts out\n",
    "x = 1\n",
    "print(x.real,\"+\",x.imag,\"i\")"
   ]
  },
  {
   "cell_type": "code",
   "execution_count": 17,
   "id": "51e4ab17",
   "metadata": {},
   "outputs": [
    {
     "data": {
      "text/plain": [
       "False"
      ]
     },
     "execution_count": 17,
     "metadata": {},
     "output_type": "execute_result"
    }
   ],
   "source": [
    "x = 1.5\n",
    "x.is_integer()"
   ]
  },
  {
   "cell_type": "code",
   "execution_count": 18,
   "id": "77228d4f",
   "metadata": {},
   "outputs": [
    {
     "data": {
      "text/plain": [
       "True"
      ]
     },
     "execution_count": 18,
     "metadata": {},
     "output_type": "execute_result"
    }
   ],
   "source": [
    "# this is considered an integer\n",
    "x=1.0\n",
    "\n",
    "x.is_integer()"
   ]
  },
  {
   "cell_type": "code",
   "execution_count": 19,
   "id": "ece08bc3",
   "metadata": {},
   "outputs": [
    {
     "data": {
      "text/plain": [
       "builtin_function_or_method"
      ]
     },
     "execution_count": 19,
     "metadata": {},
     "output_type": "execute_result"
    }
   ],
   "source": [
    "# in python everything is an object\n",
    "# even attributes and methods of objects are objects!\n",
    "type(x.is_integer)"
   ]
  },
  {
   "cell_type": "code",
   "execution_count": 20,
   "id": "65180df7",
   "metadata": {},
   "outputs": [
    {
     "data": {
      "text/plain": [
       "23.0"
      ]
     },
     "execution_count": 20,
     "metadata": {},
     "output_type": "execute_result"
    }
   ],
   "source": [
    "# regular division\n",
    "69/3"
   ]
  },
  {
   "cell_type": "code",
   "execution_count": 21,
   "id": "cec24797",
   "metadata": {},
   "outputs": [
    {
     "data": {
      "text/plain": [
       "6"
      ]
     },
     "execution_count": 21,
     "metadata": {},
     "output_type": "execute_result"
    }
   ],
   "source": [
    "# modulus\n",
    "420%69"
   ]
  },
  {
   "cell_type": "code",
   "execution_count": 22,
   "id": "aacba8c8",
   "metadata": {},
   "outputs": [
    {
     "data": {
      "text/plain": [
       "6"
      ]
     },
     "execution_count": 22,
     "metadata": {},
     "output_type": "execute_result"
    }
   ],
   "source": [
    "# floor division\n",
    "420//69"
   ]
  },
  {
   "cell_type": "code",
   "execution_count": 23,
   "id": "d29b319f",
   "metadata": {},
   "outputs": [
    {
     "data": {
      "text/plain": [
       "22"
      ]
     },
     "execution_count": 23,
     "metadata": {},
     "output_type": "execute_result"
    }
   ],
   "source": [
    "68//3"
   ]
  },
  {
   "cell_type": "code",
   "execution_count": 24,
   "id": "d58e79ee",
   "metadata": {},
   "outputs": [
    {
     "data": {
      "text/plain": [
       "22.666666666666668"
      ]
     },
     "execution_count": 24,
     "metadata": {},
     "output_type": "execute_result"
    }
   ],
   "source": [
    "68/3"
   ]
  },
  {
   "cell_type": "code",
   "execution_count": 25,
   "id": "2fe90430",
   "metadata": {},
   "outputs": [
    {
     "data": {
      "text/plain": [
       "23"
      ]
     },
     "execution_count": 25,
     "metadata": {},
     "output_type": "execute_result"
    }
   ],
   "source": [
    "70//3"
   ]
  },
  {
   "cell_type": "code",
   "execution_count": 26,
   "id": "30d5417c",
   "metadata": {},
   "outputs": [
    {
     "data": {
      "text/plain": [
       "23.333333333333332"
      ]
     },
     "execution_count": 26,
     "metadata": {},
     "output_type": "execute_result"
    }
   ],
   "source": [
    "70/3"
   ]
  },
  {
   "cell_type": "code",
   "execution_count": 29,
   "id": "56d09aca",
   "metadata": {},
   "outputs": [
    {
     "data": {
      "text/plain": [
       "'0b1010'"
      ]
     },
     "execution_count": 29,
     "metadata": {},
     "output_type": "execute_result"
    }
   ],
   "source": [
    "# get the binary version of a decimal number\n",
    "# recall 10 = 1*2^3 + 0+2^2 + 1*10^1 + 0*2^0 = 1010\n",
    "bin(10)\n"
   ]
  },
  {
   "cell_type": "code",
   "execution_count": 31,
   "id": "76c93fbd",
   "metadata": {},
   "outputs": [
    {
     "ename": "TypeError",
     "evalue": "unsupported operand type(s) for |: 'str' and 'str'",
     "output_type": "error",
     "traceback": [
      "\u001b[1;31m---------------------------------------------------------------------------\u001b[0m",
      "\u001b[1;31mTypeError\u001b[0m                                 Traceback (most recent call last)",
      "Cell \u001b[1;32mIn[31], line 4\u001b[0m\n\u001b[0;32m      2\u001b[0m x \u001b[38;5;241m=\u001b[39m \u001b[38;5;28mbin\u001b[39m(\u001b[38;5;241m10\u001b[39m)\n\u001b[0;32m      3\u001b[0m y \u001b[38;5;241m=\u001b[39m \u001b[38;5;28mbin\u001b[39m(\u001b[38;5;241m4\u001b[39m)\n\u001b[1;32m----> 4\u001b[0m \u001b[38;5;28mbin\u001b[39m(y\u001b[38;5;241m|\u001b[39mx)\n",
      "\u001b[1;31mTypeError\u001b[0m: unsupported operand type(s) for |: 'str' and 'str'"
     ]
    }
   ],
   "source": [
    "# combining the bits of the binary versions of decimal 4 and decimal 10\n",
    "x = bin(10)\n",
    "y = bin(4)\n",
    "bin(y|x) # the binary of 10 OR 4"
   ]
  },
  {
   "cell_type": "code",
   "execution_count": 32,
   "id": "6faecba4",
   "metadata": {},
   "outputs": [
    {
     "data": {
      "text/plain": [
       "str"
      ]
     },
     "execution_count": 32,
     "metadata": {},
     "output_type": "execute_result"
    }
   ],
   "source": [
    "# bin(10) is stored as a text string\n",
    "type(bin(10))"
   ]
  },
  {
   "cell_type": "code",
   "execution_count": 36,
   "id": "7f7253eb",
   "metadata": {},
   "outputs": [
    {
     "name": "stdout",
     "output_type": "stream",
     "text": [
      "bin(10)= 0b1010\n",
      "bin(4)=   0b100\n",
      "14\n"
     ]
    },
    {
     "data": {
      "text/plain": [
       "'0b1110'"
      ]
     },
     "execution_count": 36,
     "metadata": {},
     "output_type": "execute_result"
    }
   ],
   "source": [
    "print(\"bin(10)=\", bin(10))\n",
    "print(\"bin(4)=  \",bin(4))\n",
    "print(4|10)\n",
    "bin(4|10)"
   ]
  },
  {
   "cell_type": "code",
   "execution_count": 38,
   "id": "3134efbc",
   "metadata": {},
   "outputs": [
    {
     "data": {
      "text/plain": [
       "True"
      ]
     },
     "execution_count": 38,
     "metadata": {},
     "output_type": "execute_result"
    }
   ],
   "source": [
    "# difference between \"in\" and \"==\"\n",
    "# is and not check object identity\n",
    "# object identity is not the same as equality!\n",
    "a = [1,2,3]\n",
    "b = [1,2,3]\n",
    "a ==b"
   ]
  },
  {
   "cell_type": "code",
   "execution_count": 39,
   "id": "94c56db8",
   "metadata": {},
   "outputs": [
    {
     "data": {
      "text/plain": [
       "False"
      ]
     },
     "execution_count": 39,
     "metadata": {},
     "output_type": "execute_result"
    }
   ],
   "source": [
    "a is b"
   ]
  },
  {
   "cell_type": "code",
   "execution_count": 40,
   "id": "fc503b91",
   "metadata": {},
   "outputs": [
    {
     "data": {
      "text/plain": [
       "True"
      ]
     },
     "execution_count": 40,
     "metadata": {},
     "output_type": "execute_result"
    }
   ],
   "source": [
    "a is not b"
   ]
  },
  {
   "cell_type": "code",
   "execution_count": 42,
   "id": "0b44bf63",
   "metadata": {},
   "outputs": [
    {
     "data": {
      "text/plain": [
       "True"
      ]
     },
     "execution_count": 42,
     "metadata": {},
     "output_type": "execute_result"
    }
   ],
   "source": [
    "# now try this\n",
    "# in the first case above, a and b point to different objects\n",
    "# in the second case below a and b point to the same object\n",
    "# recall that variables are pointers\n",
    "# \"is\" checks whether two variables are pointing to the same container (object)\n",
    "# \"is\" does not refer to what the container (object) actually contains\n",
    "a = [1,2,3]\n",
    "b = a\n",
    "a is b"
   ]
  },
  {
   "cell_type": "code",
   "execution_count": 43,
   "id": "5604069a",
   "metadata": {},
   "outputs": [
    {
     "data": {
      "text/plain": [
       "False"
      ]
     },
     "execution_count": 43,
     "metadata": {},
     "output_type": "execute_result"
    }
   ],
   "source": [
    "# beware of floating point precision\n",
    ".1 + .2 == .3"
   ]
  },
  {
   "cell_type": "code",
   "execution_count": 45,
   "id": "15713154",
   "metadata": {},
   "outputs": [
    {
     "name": "stdout",
     "output_type": "stream",
     "text": [
      "(1+2j)\n"
     ]
    }
   ],
   "source": [
    "# forming complex numbers\n",
    "a = complex(1,2)\n",
    "print(a)"
   ]
  },
  {
   "cell_type": "code",
   "execution_count": 47,
   "id": "85440fa7",
   "metadata": {},
   "outputs": [
    {
     "name": "stdout",
     "output_type": "stream",
     "text": [
      "(1+2j)\n"
     ]
    }
   ],
   "source": [
    "# or you can do\n",
    "a = 1+2j\n",
    "print(a)"
   ]
  },
  {
   "cell_type": "code",
   "execution_count": 48,
   "id": "3d1727b7",
   "metadata": {},
   "outputs": [
    {
     "data": {
      "text/plain": [
       "complex"
      ]
     },
     "execution_count": 48,
     "metadata": {},
     "output_type": "execute_result"
    }
   ],
   "source": [
    "type(a)"
   ]
  },
  {
   "cell_type": "code",
   "execution_count": 49,
   "id": "aa9428e3",
   "metadata": {},
   "outputs": [
    {
     "data": {
      "text/plain": [
       "1.0"
      ]
     },
     "execution_count": 49,
     "metadata": {},
     "output_type": "execute_result"
    }
   ],
   "source": [
    "a.real"
   ]
  },
  {
   "cell_type": "code",
   "execution_count": 50,
   "id": "fd18f8ae",
   "metadata": {},
   "outputs": [
    {
     "data": {
      "text/plain": [
       "2.0"
      ]
     },
     "execution_count": 50,
     "metadata": {},
     "output_type": "execute_result"
    }
   ],
   "source": [
    "a.imag"
   ]
  },
  {
   "cell_type": "code",
   "execution_count": 51,
   "id": "8661acca",
   "metadata": {},
   "outputs": [
    {
     "data": {
      "text/plain": [
       "(1-2j)"
      ]
     },
     "execution_count": 51,
     "metadata": {},
     "output_type": "execute_result"
    }
   ],
   "source": [
    "a.conjugate()"
   ]
  },
  {
   "cell_type": "code",
   "execution_count": 52,
   "id": "8534fc95",
   "metadata": {},
   "outputs": [
    {
     "data": {
      "text/plain": [
       "2.23606797749979"
      ]
     },
     "execution_count": 52,
     "metadata": {},
     "output_type": "execute_result"
    }
   ],
   "source": [
    "abs(a)"
   ]
  },
  {
   "cell_type": "code",
   "execution_count": 53,
   "id": "1a56657a",
   "metadata": {},
   "outputs": [],
   "source": [
    "# a few string tricks\n",
    "message = \"joe is awesome\"\n",
    "response = \"untrue\""
   ]
  },
  {
   "cell_type": "code",
   "execution_count": 54,
   "id": "1455d375",
   "metadata": {},
   "outputs": [
    {
     "data": {
      "text/plain": [
       "6"
      ]
     },
     "execution_count": 54,
     "metadata": {},
     "output_type": "execute_result"
    }
   ],
   "source": [
    "len(response)"
   ]
  },
  {
   "cell_type": "code",
   "execution_count": 55,
   "id": "c7737e0e",
   "metadata": {},
   "outputs": [
    {
     "data": {
      "text/plain": [
       "'JOE IS AWESOME'"
      ]
     },
     "execution_count": 55,
     "metadata": {},
     "output_type": "execute_result"
    }
   ],
   "source": [
    "message.upper()"
   ]
  },
  {
   "cell_type": "code",
   "execution_count": 56,
   "id": "6e67a5f6",
   "metadata": {},
   "outputs": [
    {
     "data": {
      "text/plain": [
       "'Joe is awesome'"
      ]
     },
     "execution_count": 56,
     "metadata": {},
     "output_type": "execute_result"
    }
   ],
   "source": [
    "message.capitalize()"
   ]
  },
  {
   "cell_type": "code",
   "execution_count": 57,
   "id": "e7b92f36",
   "metadata": {},
   "outputs": [
    {
     "data": {
      "text/plain": [
       "'joe is awesome untrue'"
      ]
     },
     "execution_count": 57,
     "metadata": {},
     "output_type": "execute_result"
    }
   ],
   "source": [
    "message + \" \" + response"
   ]
  },
  {
   "cell_type": "code",
   "execution_count": 58,
   "id": "bf2536b4",
   "metadata": {},
   "outputs": [
    {
     "data": {
      "text/plain": [
       "'joe is awesomejoe is awesomejoe is awesomejoe is awesomejoe is awesomejoe is awesomejoe is awesomejoe is awesomejoe is awesomejoe is awesome'"
      ]
     },
     "execution_count": 58,
     "metadata": {},
     "output_type": "execute_result"
    }
   ],
   "source": [
    "message * 10"
   ]
  },
  {
   "cell_type": "code",
   "execution_count": 59,
   "id": "3b099f9b",
   "metadata": {},
   "outputs": [
    {
     "data": {
      "text/plain": [
       "'joe is awesome          '"
      ]
     },
     "execution_count": 59,
     "metadata": {},
     "output_type": "execute_result"
    }
   ],
   "source": [
    "message + \" \" * 10"
   ]
  },
  {
   "cell_type": "code",
   "execution_count": 60,
   "id": "aa2d9ec3",
   "metadata": {},
   "outputs": [
    {
     "data": {
      "text/plain": [
       "'joe is awesome joe is awesome joe is awesome joe is awesome joe is awesome joe is awesome joe is awesome joe is awesome joe is awesome joe is awesome '"
      ]
     },
     "execution_count": 60,
     "metadata": {},
     "output_type": "execute_result"
    }
   ],
   "source": [
    "(message + \" \")*10"
   ]
  },
  {
   "cell_type": "code",
   "execution_count": 61,
   "id": "4938789f",
   "metadata": {},
   "outputs": [
    {
     "data": {
      "text/plain": [
       "'e'"
      ]
     },
     "execution_count": 61,
     "metadata": {},
     "output_type": "execute_result"
    }
   ],
   "source": [
    "message[2]"
   ]
  },
  {
   "cell_type": "code",
   "execution_count": 62,
   "id": "e6f6cbe7",
   "metadata": {},
   "outputs": [
    {
     "data": {
      "text/plain": [
       "'j'"
      ]
     },
     "execution_count": 62,
     "metadata": {},
     "output_type": "execute_result"
    }
   ],
   "source": [
    "message[0]"
   ]
  },
  {
   "cell_type": "code",
   "execution_count": 63,
   "id": "a553141c",
   "metadata": {},
   "outputs": [
    {
     "data": {
      "text/plain": [
       "'o'"
      ]
     },
     "execution_count": 63,
     "metadata": {},
     "output_type": "execute_result"
    }
   ],
   "source": [
    "message[1]"
   ]
  },
  {
   "cell_type": "code",
   "execution_count": 64,
   "id": "517f55ca",
   "metadata": {},
   "outputs": [
    {
     "data": {
      "text/plain": [
       "'e'"
      ]
     },
     "execution_count": 64,
     "metadata": {},
     "output_type": "execute_result"
    }
   ],
   "source": [
    "message[-1]"
   ]
  },
  {
   "cell_type": "code",
   "execution_count": 65,
   "id": "aea65dd7",
   "metadata": {},
   "outputs": [
    {
     "data": {
      "text/plain": [
       "'m'"
      ]
     },
     "execution_count": 65,
     "metadata": {},
     "output_type": "execute_result"
    }
   ],
   "source": [
    "message[-2]"
   ]
  },
  {
   "cell_type": "code",
   "execution_count": 66,
   "id": "fd3fb3e2",
   "metadata": {},
   "outputs": [
    {
     "data": {
      "text/plain": [
       "'o'"
      ]
     },
     "execution_count": 66,
     "metadata": {},
     "output_type": "execute_result"
    }
   ],
   "source": [
    "message[3-2]"
   ]
  },
  {
   "cell_type": "code",
   "execution_count": 67,
   "id": "7465460c",
   "metadata": {},
   "outputs": [
    {
     "name": "stdout",
     "output_type": "stream",
     "text": [
      "\n"
     ]
    }
   ],
   "source": [
    "print()"
   ]
  },
  {
   "cell_type": "code",
   "execution_count": 68,
   "id": "3db74fdf",
   "metadata": {},
   "outputs": [
    {
     "name": "stdout",
     "output_type": "stream",
     "text": [
      "\n"
     ]
    },
    {
     "data": {
      "text/plain": [
       "NoneType"
      ]
     },
     "execution_count": 68,
     "metadata": {},
     "output_type": "execute_result"
    }
   ],
   "source": [
    "type(print())"
   ]
  },
  {
   "cell_type": "code",
   "execution_count": 72,
   "id": "2638c912",
   "metadata": {},
   "outputs": [],
   "source": [
    "# concat lists\n",
    "L = [1,2,3]\n",
    "L= L + [4,5,6]"
   ]
  },
  {
   "cell_type": "code",
   "execution_count": 73,
   "id": "837733df",
   "metadata": {},
   "outputs": [
    {
     "data": {
      "text/plain": [
       "[2, 3, 4]"
      ]
     },
     "execution_count": 73,
     "metadata": {},
     "output_type": "execute_result"
    }
   ],
   "source": [
    "# slicing uses zero-index\n",
    "L[1:4]"
   ]
  },
  {
   "cell_type": "code",
   "execution_count": 74,
   "id": "95559d91",
   "metadata": {},
   "outputs": [
    {
     "data": {
      "text/plain": [
       "6"
      ]
     },
     "execution_count": 74,
     "metadata": {},
     "output_type": "execute_result"
    }
   ],
   "source": [
    "L[0];\n",
    "L[1];\n",
    "L[2];\n",
    "L[3];\n",
    "L[4];\n",
    "L[5]"
   ]
  },
  {
   "cell_type": "code",
   "execution_count": 75,
   "id": "6e61b05a",
   "metadata": {},
   "outputs": [
    {
     "data": {
      "text/plain": [
       "2"
      ]
     },
     "execution_count": 75,
     "metadata": {},
     "output_type": "execute_result"
    }
   ],
   "source": [
    "L[1]"
   ]
  },
  {
   "cell_type": "code",
   "execution_count": 76,
   "id": "439e66d8",
   "metadata": {},
   "outputs": [
    {
     "name": "stdout",
     "output_type": "stream",
     "text": [
      "[1, 2, 3, 4, 5, 6]\n"
     ]
    }
   ],
   "source": [
    "print(L)"
   ]
  },
  {
   "cell_type": "code",
   "execution_count": 77,
   "id": "3bdec2e0",
   "metadata": {},
   "outputs": [
    {
     "data": {
      "text/plain": [
       "4"
      ]
     },
     "execution_count": 77,
     "metadata": {},
     "output_type": "execute_result"
    }
   ],
   "source": [
    "L[3]"
   ]
  },
  {
   "cell_type": "code",
   "execution_count": 78,
   "id": "da0d6d8d",
   "metadata": {},
   "outputs": [
    {
     "data": {
      "text/plain": [
       "[1, 2, 3, 4]"
      ]
     },
     "execution_count": 78,
     "metadata": {},
     "output_type": "execute_result"
    }
   ],
   "source": [
    "L[:4]"
   ]
  },
  {
   "cell_type": "code",
   "execution_count": 79,
   "id": "31529a0d",
   "metadata": {},
   "outputs": [
    {
     "data": {
      "text/plain": [
       "[1, 2, 3, 4]"
      ]
     },
     "execution_count": 79,
     "metadata": {},
     "output_type": "execute_result"
    }
   ],
   "source": [
    "L[0:4]"
   ]
  },
  {
   "cell_type": "code",
   "execution_count": 80,
   "id": "2ddd118d",
   "metadata": {},
   "outputs": [
    {
     "data": {
      "text/plain": [
       "[3, 4, 5, 6]"
      ]
     },
     "execution_count": 80,
     "metadata": {},
     "output_type": "execute_result"
    }
   ],
   "source": [
    "L[-4:]"
   ]
  },
  {
   "cell_type": "code",
   "execution_count": 81,
   "id": "f4dcc485",
   "metadata": {},
   "outputs": [
    {
     "name": "stdout",
     "output_type": "stream",
     "text": [
      "[100, 2, 3, 4, 5, 6]\n"
     ]
    }
   ],
   "source": [
    "L[0] = 100\n",
    "print(L)"
   ]
  },
  {
   "cell_type": "code",
   "execution_count": 82,
   "id": "9c015f75",
   "metadata": {},
   "outputs": [
    {
     "data": {
      "text/plain": [
       "[6, 5, 4, 3, 2, 100]"
      ]
     },
     "execution_count": 82,
     "metadata": {},
     "output_type": "execute_result"
    }
   ],
   "source": [
    "# reversing a list\n",
    "L[::-1]"
   ]
  },
  {
   "cell_type": "code",
   "execution_count": 84,
   "id": "061cec2e",
   "metadata": {},
   "outputs": [
    {
     "data": {
      "text/plain": [
       "[100, 3, 5]"
      ]
     },
     "execution_count": 84,
     "metadata": {},
     "output_type": "execute_result"
    }
   ],
   "source": [
    "# if I wanted to start at L[0] and go to the end of the list\n",
    "# and take every other element (step = 2)\n",
    "L[::2]"
   ]
  },
  {
   "cell_type": "code",
   "execution_count": 85,
   "id": "e52698e2",
   "metadata": {},
   "outputs": [
    {
     "name": "stdout",
     "output_type": "stream",
     "text": [
      "(1, 2, 3)\n"
     ]
    }
   ],
   "source": [
    "# lists (using square brackets) are mutabe - they can be changed after they are created\n",
    "# tuples (using parenthesis) are immutable - they cannot be changed after creation\n",
    "t = (1,2,3)\n",
    "print(t)"
   ]
  },
  {
   "cell_type": "code",
   "execution_count": 86,
   "id": "dcfcdc37",
   "metadata": {},
   "outputs": [
    {
     "data": {
      "text/plain": [
       "2"
      ]
     },
     "execution_count": 86,
     "metadata": {},
     "output_type": "execute_result"
    }
   ],
   "source": [
    "t[1]"
   ]
  },
  {
   "cell_type": "code",
   "execution_count": 87,
   "id": "a6d4da98",
   "metadata": {},
   "outputs": [
    {
     "ename": "TypeError",
     "evalue": "'tuple' object does not support item assignment",
     "output_type": "error",
     "traceback": [
      "\u001b[1;31m---------------------------------------------------------------------------\u001b[0m",
      "\u001b[1;31mTypeError\u001b[0m                                 Traceback (most recent call last)",
      "Cell \u001b[1;32mIn[87], line 1\u001b[0m\n\u001b[1;32m----> 1\u001b[0m t[\u001b[38;5;241m1\u001b[39m]\u001b[38;5;241m=\u001b[39m \u001b[38;5;241m5\u001b[39m\n",
      "\u001b[1;31mTypeError\u001b[0m: 'tuple' object does not support item assignment"
     ]
    }
   ],
   "source": [
    "t[1]= 5"
   ]
  },
  {
   "cell_type": "code",
   "execution_count": 88,
   "id": "e60a6dd2",
   "metadata": {},
   "outputs": [
    {
     "data": {
      "text/plain": [
       "{1, 2, 3, 5, 7, 9, 11, 13, 15, 17}"
      ]
     },
     "execution_count": 88,
     "metadata": {},
     "output_type": "execute_result"
    }
   ],
   "source": [
    "# you can do set operations\n",
    "primes = {1,2,3,5,7,11,13,17}\n",
    "odds = {1,3,5,7,9,11,13,15}\n",
    "# union\n",
    "primes | odds"
   ]
  },
  {
   "cell_type": "code",
   "execution_count": 89,
   "id": "c1e95c7f",
   "metadata": {},
   "outputs": [
    {
     "data": {
      "text/plain": [
       "{1, 2, 3, 5, 7, 9, 11, 13, 15, 17}"
      ]
     },
     "execution_count": 89,
     "metadata": {},
     "output_type": "execute_result"
    }
   ],
   "source": [
    "primes.union(odds)"
   ]
  },
  {
   "cell_type": "code",
   "execution_count": 90,
   "id": "9873eb10",
   "metadata": {},
   "outputs": [
    {
     "data": {
      "text/plain": [
       "{1, 3, 5, 7, 11, 13}"
      ]
     },
     "execution_count": 90,
     "metadata": {},
     "output_type": "execute_result"
    }
   ],
   "source": [
    "# intersections\n",
    "primes & odds"
   ]
  },
  {
   "cell_type": "code",
   "execution_count": 91,
   "id": "b1603f0d",
   "metadata": {},
   "outputs": [
    {
     "data": {
      "text/plain": [
       "{1, 3, 5, 7, 11, 13}"
      ]
     },
     "execution_count": 91,
     "metadata": {},
     "output_type": "execute_result"
    }
   ],
   "source": [
    "primes.intersection(odds)"
   ]
  },
  {
   "cell_type": "code",
   "execution_count": 92,
   "id": "0a716043",
   "metadata": {},
   "outputs": [
    {
     "data": {
      "text/plain": [
       "{2, 17}"
      ]
     },
     "execution_count": 92,
     "metadata": {},
     "output_type": "execute_result"
    }
   ],
   "source": [
    "# difference\n",
    "primes - odds"
   ]
  },
  {
   "cell_type": "code",
   "execution_count": 93,
   "id": "ec3a35fc",
   "metadata": {},
   "outputs": [
    {
     "data": {
      "text/plain": [
       "{2, 17}"
      ]
     },
     "execution_count": 93,
     "metadata": {},
     "output_type": "execute_result"
    }
   ],
   "source": [
    "primes.difference(odds)"
   ]
  },
  {
   "cell_type": "code",
   "execution_count": 96,
   "id": "0fcacc71",
   "metadata": {},
   "outputs": [
    {
     "name": "stdout",
     "output_type": "stream",
     "text": [
      "[1, 1, 2, 3, 5, 8, 13, 21, 34, 55, 89, 144, 233, 377, 610, 987]\n"
     ]
    }
   ],
   "source": [
    "# fib sequence\n",
    "a, b = 0, 1\n",
    "amax = 1000\n",
    "L = []\n",
    "\n",
    "while True:\n",
    "    (a,b) = (b, a + b)\n",
    "    if a > amax:\n",
    "        break\n",
    "    L.append(a)\n",
    "\n",
    "print(L)"
   ]
  },
  {
   "cell_type": "code",
   "execution_count": 3,
   "id": "c4698aa8",
   "metadata": {},
   "outputs": [
    {
     "name": "stdout",
     "output_type": "stream",
     "text": [
      "[2, 3, 5, 7, 11, 13, 17, 19, 23, 29, 31, 37, 41, 43, 47, 53, 59, 61, 67, 71, 73, 79, 83, 89, 97]\n"
     ]
    }
   ],
   "source": [
    "#  Sieve of Eratosthenes (inefficient)\n",
    "# note that ELSE on its own is a rarely used control, \n",
    "# in Python, usually if-elif-else is used\n",
    "\n",
    "L = [] # empty list\n",
    "nmax = 100 # maximum value\n",
    "\n",
    "for n in range(2,nmax):\n",
    "    for factor in L:\n",
    "        if n % factor == 0:\n",
    "            #print(n)\n",
    "            break\n",
    "    else: # no break\n",
    "        L.append(n)\n",
    "print(L)"
   ]
  },
  {
   "cell_type": "code",
   "execution_count": 5,
   "id": "be92e82d",
   "metadata": {},
   "outputs": [],
   "source": [
    "# definining and using functions\n",
    "# def is good for any kind of function\n",
    "# lambda is a statement good for short anonymous functions\n",
    "# let's define the fibonacci function\n",
    "def fibonacci(N):\n",
    "    L = []\n",
    "    a, b = 0, 1\n",
    "    while len(L) < N:\n",
    "        a , b = b, a + b\n",
    "        L.append(a)\n",
    "    return L"
   ]
  },
  {
   "cell_type": "code",
   "execution_count": 6,
   "id": "cd4ae835",
   "metadata": {},
   "outputs": [
    {
     "data": {
      "text/plain": [
       "[1, 1, 2, 3, 5, 8, 13, 21, 34, 55]"
      ]
     },
     "execution_count": 6,
     "metadata": {},
     "output_type": "execute_result"
    }
   ],
   "source": [
    "fibonacci(10)"
   ]
  },
  {
   "cell_type": "code",
   "execution_count": 8,
   "id": "18f232d9",
   "metadata": {},
   "outputs": [
    {
     "data": {
      "text/plain": [
       "[1, 1, 2, 3, 5, 8, 13, 21, 34, 55, 89]"
      ]
     },
     "execution_count": 8,
     "metadata": {},
     "output_type": "execute_result"
    }
   ],
   "source": [
    "fibonacci(11)"
   ]
  },
  {
   "cell_type": "code",
   "execution_count": 9,
   "id": "e06f263c",
   "metadata": {},
   "outputs": [
    {
     "name": "stdout",
     "output_type": "stream",
     "text": [
      "3.0 4.0 (3-4j)\n"
     ]
    }
   ],
   "source": [
    "# find the real, imaginary, and conjugate of a complex number\n",
    "def real_imag_conj(val):\n",
    "    return val.real, val.imag, val.conjugate()\n",
    "\n",
    "r,i,c = real_imag_conj(3 + 4j)\n",
    "print(r, i, c)"
   ]
  },
  {
   "cell_type": "code",
   "execution_count": 10,
   "id": "37db7143",
   "metadata": {},
   "outputs": [
    {
     "data": {
      "text/plain": [
       "(5.0, -2.0, (5+2j))"
      ]
     },
     "execution_count": 10,
     "metadata": {},
     "output_type": "execute_result"
    }
   ],
   "source": [
    "real_imag_conj(5 - 2j)"
   ]
  },
  {
   "cell_type": "code",
   "execution_count": 14,
   "id": "f7e53169",
   "metadata": {},
   "outputs": [
    {
     "data": {
      "text/plain": [
       "5.385"
      ]
     },
     "execution_count": 14,
     "metadata": {},
     "output_type": "execute_result"
    }
   ],
   "source": [
    "round(abs(5 - 2j),3)"
   ]
  },
  {
   "cell_type": "code",
   "execution_count": 15,
   "id": "04829690",
   "metadata": {},
   "outputs": [],
   "source": [
    "# modifying fibonacci to start with custom a and b, with default (0,1)\n",
    "def fibonacci(N, a = 0, b = 1):\n",
    "    L = []\n",
    "    a, b = 0, 1\n",
    "    while len(L) < N:\n",
    "        a , b = b, a + b\n",
    "        L.append(a)\n",
    "    return L"
   ]
  },
  {
   "cell_type": "code",
   "execution_count": 16,
   "id": "8184c1ee",
   "metadata": {},
   "outputs": [
    {
     "data": {
      "text/plain": [
       "[1, 1, 2, 3, 5, 8, 13, 21, 34, 55]"
      ]
     },
     "execution_count": 16,
     "metadata": {},
     "output_type": "execute_result"
    }
   ],
   "source": [
    "fibonacci(10)"
   ]
  },
  {
   "cell_type": "code",
   "execution_count": 17,
   "id": "5dce08b2",
   "metadata": {},
   "outputs": [
    {
     "data": {
      "text/plain": [
       "[1, 1, 2, 3, 5, 8, 13, 21, 34, 55]"
      ]
     },
     "execution_count": 17,
     "metadata": {},
     "output_type": "execute_result"
    }
   ],
   "source": [
    "fibonacci(10,0,2)"
   ]
  },
  {
   "cell_type": "code",
   "execution_count": 18,
   "id": "19ecf88e",
   "metadata": {},
   "outputs": [
    {
     "data": {
      "text/plain": [
       "[1, 1, 2, 3, 5, 8, 13, 21, 34, 55]"
      ]
     },
     "execution_count": 18,
     "metadata": {},
     "output_type": "execute_result"
    }
   ],
   "source": [
    "fibonacci(10, b = 2, a = 1)"
   ]
  },
  {
   "cell_type": "code",
   "execution_count": 19,
   "id": "0f524b90",
   "metadata": {},
   "outputs": [
    {
     "name": "stdout",
     "output_type": "stream",
     "text": [
      "args= (1, 2, 3)\n",
      "kwargs= {'pi': 3.14159}\n"
     ]
    }
   ],
   "source": [
    "# flexible arguments\n",
    "# * prefix means expand this as a sequence (arguments)\n",
    "# ** prefix means expand this as a dictionary (keyword arguments)\n",
    "# can be used with the function definition, and with the function call\n",
    "inputs = (1,2,3)\n",
    "keywords = {'pi': 3.14159}\n",
    "\n",
    "def catch_all(*args, **kwargs):\n",
    "    print(\"args=\", args)\n",
    "    print(\"kwargs=\", kwargs)\n",
    "    \n",
    "catch_all(*inputs, **keywords)"
   ]
  },
  {
   "cell_type": "code",
   "execution_count": 20,
   "id": "45a9d12b",
   "metadata": {},
   "outputs": [
    {
     "data": {
      "text/plain": [
       "3"
      ]
     },
     "execution_count": 20,
     "metadata": {},
     "output_type": "execute_result"
    }
   ],
   "source": [
    "# lambda functions - short, one off functions\n",
    "add = lambda x, y: x + y\n",
    "add(1,2)"
   ]
  },
  {
   "cell_type": "code",
   "execution_count": 21,
   "id": "cc0af039",
   "metadata": {},
   "outputs": [
    {
     "data": {
      "text/plain": [
       "3"
      ]
     },
     "execution_count": 21,
     "metadata": {},
     "output_type": "execute_result"
    }
   ],
   "source": [
    "# this is the same as\n",
    "def add(x, y):\n",
    "    return x + y\n",
    "\n",
    "add(1,2)"
   ]
  },
  {
   "cell_type": "code",
   "execution_count": 22,
   "id": "26ea3a15",
   "metadata": {},
   "outputs": [],
   "source": [
    "# why bother? \n",
    "# functions are objects in Python so you can pass a function to a function\n",
    "data = [{'first':'Guido', 'last':'Van Rossum', 'YOB':1956},\n",
    "        {'first':'Grace', 'last':'Hopper',     'YOB':1906},\n",
    "        {'first':'Alan',  'last':'Turing',     'YOB':1912}]"
   ]
  },
  {
   "cell_type": "code",
   "execution_count": 23,
   "id": "ff897327",
   "metadata": {},
   "outputs": [
    {
     "data": {
      "text/plain": [
       "[{'first': 'Alan', 'last': 'Turing', 'YOB': 1912},\n",
       " {'first': 'Grace', 'last': 'Hopper', 'YOB': 1906},\n",
       " {'first': 'Guido', 'last': 'Van Rossum', 'YOB': 1956}]"
      ]
     },
     "execution_count": 23,
     "metadata": {},
     "output_type": "execute_result"
    }
   ],
   "source": [
    "# sort by first name alphabetically\n",
    "sorted(data, key = lambda item: item['first'])"
   ]
  },
  {
   "cell_type": "code",
   "execution_count": 24,
   "id": "944d8c9b",
   "metadata": {},
   "outputs": [
    {
     "data": {
      "text/plain": [
       "[{'first': 'Grace', 'last': 'Hopper', 'YOB': 1906},\n",
       " {'first': 'Alan', 'last': 'Turing', 'YOB': 1912},\n",
       " {'first': 'Guido', 'last': 'Van Rossum', 'YOB': 1956}]"
      ]
     },
     "execution_count": 24,
     "metadata": {},
     "output_type": "execute_result"
    }
   ],
   "source": [
    "# sorted by year of birth\n",
    "sorted(data, key = lambda item: item['YOB'])"
   ]
  },
  {
   "cell_type": "code",
   "execution_count": 27,
   "id": "57373746",
   "metadata": {},
   "outputs": [
    {
     "data": {
      "text/plain": [
       "'ERROR - division by zero'"
      ]
     },
     "execution_count": 27,
     "metadata": {},
     "output_type": "execute_result"
    }
   ],
   "source": [
    "# error handling examples\n",
    "def safe_divide(a, b):\n",
    "    try:\n",
    "        return a / b\n",
    "    except ZeroDivisionError:\n",
    "        return \"ERROR - division by zero\"\n",
    "    \n",
    "safe_divide(1,0)"
   ]
  },
  {
   "cell_type": "code",
   "execution_count": 28,
   "id": "7e4035ab",
   "metadata": {},
   "outputs": [
    {
     "ename": "TypeError",
     "evalue": "unsupported operand type(s) for /: 'int' and 'str'",
     "output_type": "error",
     "traceback": [
      "\u001b[1;31m---------------------------------------------------------------------------\u001b[0m",
      "\u001b[1;31mTypeError\u001b[0m                                 Traceback (most recent call last)",
      "Cell \u001b[1;32mIn[28], line 2\u001b[0m\n\u001b[0;32m      1\u001b[0m \u001b[38;5;66;03m# what if I have the wrong type?\u001b[39;00m\n\u001b[1;32m----> 2\u001b[0m safe_divide(\u001b[38;5;241m1\u001b[39m,\u001b[38;5;124m'\u001b[39m\u001b[38;5;124m2\u001b[39m\u001b[38;5;124m'\u001b[39m)\n",
      "Cell \u001b[1;32mIn[27], line 4\u001b[0m, in \u001b[0;36msafe_divide\u001b[1;34m(a, b)\u001b[0m\n\u001b[0;32m      2\u001b[0m \u001b[38;5;28;01mdef\u001b[39;00m \u001b[38;5;21msafe_divide\u001b[39m(a, b):\n\u001b[0;32m      3\u001b[0m     \u001b[38;5;28;01mtry\u001b[39;00m:\n\u001b[1;32m----> 4\u001b[0m         \u001b[38;5;28;01mreturn\u001b[39;00m a \u001b[38;5;241m/\u001b[39m b\n\u001b[0;32m      5\u001b[0m     \u001b[38;5;28;01mexcept\u001b[39;00m \u001b[38;5;167;01mZeroDivisionError\u001b[39;00m:\n\u001b[0;32m      6\u001b[0m         \u001b[38;5;28;01mreturn\u001b[39;00m \u001b[38;5;124m\"\u001b[39m\u001b[38;5;124mERROR - division by zero\u001b[39m\u001b[38;5;124m\"\u001b[39m\n",
      "\u001b[1;31mTypeError\u001b[0m: unsupported operand type(s) for /: 'int' and 'str'"
     ]
    }
   ],
   "source": [
    "# what if I have the wrong type?\n",
    "safe_divide(1,'2') # 2 is a character not an integer"
   ]
  },
  {
   "cell_type": "code",
   "execution_count": 29,
   "id": "fcb9ede0",
   "metadata": {},
   "outputs": [],
   "source": [
    "# to raise exceptions is to use the raise statement\n",
    "def fibonacci(N, a = 0, b = 1):\n",
    "    if N < 0:\n",
    "        raise ValueError(\"N must be non-negative\")\n",
    "    L = []\n",
    "    a, b = 0, 1\n",
    "    while len(L) < N:\n",
    "        a , b = b, a + b\n",
    "        L.append(a)\n",
    "    return L"
   ]
  },
  {
   "cell_type": "code",
   "execution_count": 30,
   "id": "ef3cb6eb",
   "metadata": {},
   "outputs": [
    {
     "data": {
      "text/plain": [
       "[1, 1, 2, 3, 5, 8, 13, 21, 34, 55]"
      ]
     },
     "execution_count": 30,
     "metadata": {},
     "output_type": "execute_result"
    }
   ],
   "source": [
    "fibonacci(10)"
   ]
  },
  {
   "cell_type": "code",
   "execution_count": 31,
   "id": "e7490dcb",
   "metadata": {},
   "outputs": [
    {
     "ename": "ValueError",
     "evalue": "N must be non-negative",
     "output_type": "error",
     "traceback": [
      "\u001b[1;31m---------------------------------------------------------------------------\u001b[0m",
      "\u001b[1;31mValueError\u001b[0m                                Traceback (most recent call last)",
      "Cell \u001b[1;32mIn[31], line 1\u001b[0m\n\u001b[1;32m----> 1\u001b[0m fibonacci(\u001b[38;5;241m-\u001b[39m\u001b[38;5;241m30\u001b[39m)\n",
      "Cell \u001b[1;32mIn[29], line 4\u001b[0m, in \u001b[0;36mfibonacci\u001b[1;34m(N, a, b)\u001b[0m\n\u001b[0;32m      2\u001b[0m \u001b[38;5;28;01mdef\u001b[39;00m \u001b[38;5;21mfibonacci\u001b[39m(N, a \u001b[38;5;241m=\u001b[39m \u001b[38;5;241m0\u001b[39m, b \u001b[38;5;241m=\u001b[39m \u001b[38;5;241m1\u001b[39m):\n\u001b[0;32m      3\u001b[0m     \u001b[38;5;28;01mif\u001b[39;00m N \u001b[38;5;241m<\u001b[39m \u001b[38;5;241m0\u001b[39m:\n\u001b[1;32m----> 4\u001b[0m         \u001b[38;5;28;01mraise\u001b[39;00m \u001b[38;5;167;01mValueError\u001b[39;00m(\u001b[38;5;124m\"\u001b[39m\u001b[38;5;124mN must be non-negative\u001b[39m\u001b[38;5;124m\"\u001b[39m)\n\u001b[0;32m      5\u001b[0m     L \u001b[38;5;241m=\u001b[39m []\n\u001b[0;32m      6\u001b[0m     a, b \u001b[38;5;241m=\u001b[39m \u001b[38;5;241m0\u001b[39m, \u001b[38;5;241m1\u001b[39m\n",
      "\u001b[1;31mValueError\u001b[0m: N must be non-negative"
     ]
    }
   ],
   "source": [
    "fibonacci(-30)"
   ]
  },
  {
   "cell_type": "code",
   "execution_count": 32,
   "id": "2a16b0ac",
   "metadata": {},
   "outputs": [
    {
     "name": "stdout",
     "output_type": "stream",
     "text": [
      "Error class is:  <class 'ZeroDivisionError'>\n",
      "Error message is: division by zero\n"
     ]
    }
   ],
   "source": [
    "# using type(err) may be useful\n",
    "try:\n",
    "    x = 1 / 0\n",
    "except ZeroDivisionError as err:\n",
    "    print(\"Error class is: \", type(err))\n",
    "    print(\"Error message is:\", err)"
   ]
  },
  {
   "cell_type": "code",
   "execution_count": 33,
   "id": "435571e2",
   "metadata": {},
   "outputs": [
    {
     "name": "stdout",
     "output_type": "stream",
     "text": [
      "try something here\n",
      "this happens only if it succeeds\n",
      "this happens no matter what\n"
     ]
    }
   ],
   "source": [
    "try:\n",
    "    print(\"try something here\")\n",
    "except:\n",
    "    print(\"this happens only if it fails\")\n",
    "else:\n",
    "    print(\"this happens only if it succeeds\")\n",
    "finally:\n",
    "    print(\"this happens no matter what\")"
   ]
  },
  {
   "cell_type": "code",
   "execution_count": 8,
   "id": "4408c657",
   "metadata": {},
   "outputs": [
    {
     "name": "stdout",
     "output_type": "stream",
     "text": [
      "0 1 2 3 4 5 6 7 8 9 "
     ]
    }
   ],
   "source": [
    "# iterators\n",
    "for i in range(10):\n",
    "    print(i, end=' ')"
   ]
  },
  {
   "cell_type": "code",
   "execution_count": 9,
   "id": "d3044054",
   "metadata": {},
   "outputs": [
    {
     "name": "stdout",
     "output_type": "stream",
     "text": [
      "3 5 7 9 11 "
     ]
    }
   ],
   "source": [
    "for value in [2, 4, 6, 8, 10]:\n",
    "    print(value + 1, end=' ')"
   ]
  },
  {
   "cell_type": "code",
   "execution_count": 10,
   "id": "a773f234",
   "metadata": {},
   "outputs": [
    {
     "data": {
      "text/plain": [
       "<list_iterator at 0x2aa20060970>"
      ]
     },
     "execution_count": 10,
     "metadata": {},
     "output_type": "execute_result"
    }
   ],
   "source": [
    "iter([2, 4, 6, 8, 10])"
   ]
  },
  {
   "cell_type": "code",
   "execution_count": 11,
   "id": "3c368d41",
   "metadata": {},
   "outputs": [
    {
     "name": "stdout",
     "output_type": "stream",
     "text": [
      "2\n"
     ]
    }
   ],
   "source": [
    "I = iter([2, 4, 6, 8, 10])\n",
    "print(next(I))"
   ]
  },
  {
   "cell_type": "code",
   "execution_count": 12,
   "id": "605b968a",
   "metadata": {},
   "outputs": [
    {
     "name": "stdout",
     "output_type": "stream",
     "text": [
      "4\n"
     ]
    }
   ],
   "source": [
    "print(next(I))"
   ]
  },
  {
   "cell_type": "code",
   "execution_count": 13,
   "id": "6057f635",
   "metadata": {},
   "outputs": [
    {
     "data": {
      "text/plain": [
       "range(0, 10)"
      ]
     },
     "execution_count": 13,
     "metadata": {},
     "output_type": "execute_result"
    }
   ],
   "source": [
    "range(10)"
   ]
  },
  {
   "cell_type": "code",
   "execution_count": 14,
   "id": "f03fedcd",
   "metadata": {},
   "outputs": [
    {
     "data": {
      "text/plain": [
       "<range_iterator at 0x2aa1ffc2ed0>"
      ]
     },
     "execution_count": 14,
     "metadata": {},
     "output_type": "execute_result"
    }
   ],
   "source": [
    "iter(range(10))"
   ]
  },
  {
   "cell_type": "code",
   "execution_count": 15,
   "id": "72add4fc",
   "metadata": {},
   "outputs": [
    {
     "name": "stdout",
     "output_type": "stream",
     "text": [
      "0 1 4 9 16 25 36 49 64 81 "
     ]
    }
   ],
   "source": [
    "# python will treat the range as if it were a list\n",
    "for i in range(10):\n",
    "    print(i ** 2, end=' ')"
   ]
  },
  {
   "cell_type": "code",
   "execution_count": 17,
   "id": "e65dde0b",
   "metadata": {},
   "outputs": [
    {
     "name": "stdout",
     "output_type": "stream",
     "text": [
      "0, 1, 2, 3, 4, 5, 6, 7, 8, 9, "
     ]
    }
   ],
   "source": [
    "# the full list is never explicitly created\n",
    "# Note the absurd value of N\n",
    "# a range from 0 to 10^12 is not actually created!\n",
    "N = 10 ** 12\n",
    "for i in range(N):\n",
    "    if i >= 10: break\n",
    "    print(i, end=', ')"
   ]
  },
  {
   "cell_type": "code",
   "execution_count": 18,
   "id": "d2108fac",
   "metadata": {},
   "outputs": [
    {
     "name": "stdout",
     "output_type": "stream",
     "text": [
      "0, 1, 2, 3, 4, 5, 6, 7, 8, 9, "
     ]
    }
   ],
   "source": [
    "# count forever using the count function from itertools\n",
    "from itertools import count\n",
    "\n",
    "for i in count():\n",
    "    if i >= 10:\n",
    "        break\n",
    "    print(i, end=', ')"
   ]
  },
  {
   "cell_type": "code",
   "execution_count": 19,
   "id": "95554808",
   "metadata": {},
   "outputs": [
    {
     "name": "stdout",
     "output_type": "stream",
     "text": [
      "0 2\n",
      "1 4\n",
      "2 6\n",
      "3 8\n",
      "4 10\n"
     ]
    }
   ],
   "source": [
    "# you can enmuerate the hardy way or the easy way\n",
    "# hard way first\n",
    "L = [2, 4, 6, 8, 10]\n",
    "for i in range(len(L)):\n",
    "    print(i, L[i])"
   ]
  },
  {
   "cell_type": "code",
   "execution_count": 20,
   "id": "8ced60b5",
   "metadata": {},
   "outputs": [
    {
     "name": "stdout",
     "output_type": "stream",
     "text": [
      "0 2\n",
      "1 4\n",
      "2 6\n",
      "3 8\n",
      "4 10\n"
     ]
    }
   ],
   "source": [
    "# now do it the easy way using the enumerate iterator\n",
    "for i, val in enumerate(L):\n",
    "    print(i,val)"
   ]
  },
  {
   "cell_type": "code",
   "execution_count": 21,
   "id": "fb39f844",
   "metadata": {},
   "outputs": [
    {
     "name": "stdout",
     "output_type": "stream",
     "text": [
      "2 3\n",
      "4 6\n",
      "6 9\n",
      "8 12\n",
      "10 15\n"
     ]
    }
   ],
   "source": [
    "# the zip iterator\n",
    "L = [2, 4, 6, 8, 10]\n",
    "R = [3, 6, 9, 12, 15]\n",
    "for lval, rval in zip(L,R):\n",
    "    print(lval, rval)"
   ]
  },
  {
   "cell_type": "code",
   "execution_count": 22,
   "id": "22703b30",
   "metadata": {},
   "outputs": [
    {
     "name": "stdout",
     "output_type": "stream",
     "text": [
      "0 1 4 9 16 25 36 49 64 81 "
     ]
    }
   ],
   "source": [
    "# map and filter\n",
    "# map takes a function, applies it to the values in an iterator\n",
    "# example: find the first 10 square numbers\n",
    "square = lambda x: x ** 2\n",
    "for val in map(square, range(10)):\n",
    "    print(val, end=' ')"
   ]
  },
  {
   "cell_type": "code",
   "execution_count": 23,
   "id": "35faae20",
   "metadata": {},
   "outputs": [
    {
     "name": "stdout",
     "output_type": "stream",
     "text": [
      "0 2 4 6 8 "
     ]
    }
   ],
   "source": [
    "# filter passes-through values for which the filter function\n",
    "# evaluates as true\n",
    "# example: find values up to 1 for which x % 2\n",
    "is_even = lambda x: x % 2 == 0\n",
    "for val in filter(is_even, range(10)):\n",
    "    print(val, end=' ')"
   ]
  },
  {
   "cell_type": "code",
   "execution_count": 24,
   "id": "73e19702",
   "metadata": {},
   "outputs": [],
   "source": [
    "# map, filter, and reduce are part of functools module\n",
    "# are fundamental components of functional progrmaming\n",
    "# which is not the dominant Python style \n",
    "# see pytoolz library for more"
   ]
  },
  {
   "cell_type": "code",
   "execution_count": 25,
   "id": "0a8f8ee3",
   "metadata": {},
   "outputs": [
    {
     "name": "stdout",
     "output_type": "stream",
     "text": [
      "0 1 2 3 4 5 6 7 8 9\n"
     ]
    }
   ],
   "source": [
    "# recall: *args and **kwargs pass sequences and dictionaries\n",
    "# to functions\n",
    "# *args works not just with sequences, but with any iterator\n",
    "print(*range(10))"
   ]
  },
  {
   "cell_type": "code",
   "execution_count": 26,
   "id": "996a3478",
   "metadata": {},
   "outputs": [
    {
     "name": "stdout",
     "output_type": "stream",
     "text": [
      "0 1 4 9 16 25 36 49 64 81\n"
     ]
    }
   ],
   "source": [
    "print(*map(lambda x: x ** 2, range(10)))"
   ]
  },
  {
   "cell_type": "code",
   "execution_count": 27,
   "id": "e0c0ac4c",
   "metadata": {},
   "outputs": [
    {
     "name": "stdout",
     "output_type": "stream",
     "text": [
      "(1, 'a') (2, 'b') (3, 'c') (4, 'd')\n"
     ]
    }
   ],
   "source": [
    "# some zip and \"unzip\" (which is just zip)\n",
    "L1 = (1, 2, 3, 4)\n",
    "L2 = ('a', 'b', 'c', 'd')\n",
    "z = zip(L1, L2)\n",
    "print(*z)"
   ]
  },
  {
   "cell_type": "code",
   "execution_count": 28,
   "id": "38344d6b",
   "metadata": {},
   "outputs": [
    {
     "name": "stdout",
     "output_type": "stream",
     "text": [
      "<zip object at 0x000002AA2006EF80>\n"
     ]
    }
   ],
   "source": [
    "print(z)"
   ]
  },
  {
   "cell_type": "code",
   "execution_count": 29,
   "id": "413a7d96",
   "metadata": {},
   "outputs": [
    {
     "name": "stdout",
     "output_type": "stream",
     "text": [
      "(1, 2, 3, 4) ('a', 'b', 'c', 'd')\n"
     ]
    }
   ],
   "source": [
    "# now to unzip\n",
    "z = zip(L1, L2)\n",
    "new_L1, new_L2 = zip(*z)\n",
    "print(new_L1, new_L2)"
   ]
  },
  {
   "cell_type": "code",
   "execution_count": 33,
   "id": "41aeed79",
   "metadata": {},
   "outputs": [
    {
     "name": "stdout",
     "output_type": "stream",
     "text": [
      "(0, 1, 2) (0, 2, 1) (1, 0, 2) (1, 2, 0) (2, 0, 1) (2, 1, 0)\n"
     ]
    }
   ],
   "source": [
    "# there is an iterator which iterates over all permutations \n",
    "# of a sequence \n",
    "from itertools import permutations\n",
    "p = permutations(range(3))\n",
    "print(*p)"
   ]
  },
  {
   "cell_type": "code",
   "execution_count": 35,
   "id": "b1f455fc",
   "metadata": {},
   "outputs": [
    {
     "name": "stdout",
     "output_type": "stream",
     "text": [
      "(0, 1) (0, 2) (0, 3) (1, 2) (1, 3) (2, 3)\n"
     ]
    }
   ],
   "source": [
    "# of coures, there is a combination version\n",
    "from itertools import combinations\n",
    "c = combinations(range(4),2)\n",
    "print(*c)"
   ]
  },
  {
   "cell_type": "code",
   "execution_count": 36,
   "id": "6c1696ef",
   "metadata": {},
   "outputs": [
    {
     "name": "stdout",
     "output_type": "stream",
     "text": [
      "('a', 0) ('a', 1) ('a', 2) ('b', 0) ('b', 1) ('b', 2)\n"
     ]
    }
   ],
   "source": [
    "# there is a product iterator as well\n",
    "from itertools import product\n",
    "p = product('ab', range(3))\n",
    "print(*p)"
   ]
  },
  {
   "cell_type": "code",
   "execution_count": 37,
   "id": "5ec54518",
   "metadata": {},
   "outputs": [
    {
     "data": {
      "text/plain": [
       "[1, 2, 4, 5, 7, 8, 10, 11, 13, 14, 16, 17, 19]"
      ]
     },
     "execution_count": 37,
     "metadata": {},
     "output_type": "execute_result"
    }
   ],
   "source": [
    "# list comprehensions (an important and useful concept and tool)\n",
    "[i for i in range(20) if i % 3 > 0] # a list excluding multiples of 3"
   ]
  },
  {
   "cell_type": "code",
   "execution_count": 38,
   "id": "d8a416ee",
   "metadata": {},
   "outputs": [
    {
     "data": {
      "text/plain": [
       "[0, 1, 4, 9, 16, 25, 36, 49, 64, 81, 100, 121]"
      ]
     },
     "execution_count": 38,
     "metadata": {},
     "output_type": "execute_result"
    }
   ],
   "source": [
    "# list comprehensions\n",
    "# compress a list-buiding for-loop into a single short readable line\n",
    "# example, a loop\n",
    "L = []\n",
    "for n in range(12):\n",
    "    L.append(n ** 2)\n",
    "L"
   ]
  },
  {
   "cell_type": "code",
   "execution_count": 39,
   "id": "8c3c14b4",
   "metadata": {},
   "outputs": [
    {
     "data": {
      "text/plain": [
       "[0, 1, 4, 9, 16, 25, 36, 49, 64, 81, 100, 121]"
      ]
     },
     "execution_count": 39,
     "metadata": {},
     "output_type": "execute_result"
    }
   ],
   "source": [
    "# or a list comprehension\n",
    "[n **2 for n in range(12)]"
   ]
  },
  {
   "cell_type": "code",
   "execution_count": 40,
   "id": "cc8c1de3",
   "metadata": {},
   "outputs": [],
   "source": [
    "# syntax is typically\n",
    "# [ expr for var in iterable]\n",
    "# expr is any valid expression\n",
    "# var is a variable name\n",
    "# iterable is any itreable python object (a lot of options!)"
   ]
  },
  {
   "cell_type": "code",
   "execution_count": 41,
   "id": "c0b637f6",
   "metadata": {},
   "outputs": [
    {
     "data": {
      "text/plain": [
       "[(0, 0), (0, 1), (0, 2), (1, 0), (1, 1), (1, 2)]"
      ]
     },
     "execution_count": 41,
     "metadata": {},
     "output_type": "execute_result"
    }
   ],
   "source": [
    "# multiple iteration\n",
    "[(i, j) for i in range(2) for j in range(3)]"
   ]
  },
  {
   "cell_type": "code",
   "execution_count": 4,
   "id": "af954c2f",
   "metadata": {},
   "outputs": [
    {
     "data": {
      "text/plain": [
       "[0, 3, 6, 9, 12, 15, 18]"
      ]
     },
     "execution_count": 4,
     "metadata": {},
     "output_type": "execute_result"
    }
   ],
   "source": [
    "# conditionals on the iterator\n",
    "L = [] # start with empty list\n",
    "for val in range(20): # for values 0 .. 19\n",
    "    if val % 3 == 0: # if the value divides 3\n",
    "        L.append(val) # append the value to the list \n",
    "L"
   ]
  },
  {
   "cell_type": "code",
   "execution_count": 2,
   "id": "60ffddfc",
   "metadata": {},
   "outputs": [
    {
     "data": {
      "text/plain": [
       "[1, 2, 4, 5, 7, 8, 10, 11, 13, 14, 16, 17, 19]"
      ]
     },
     "execution_count": 2,
     "metadata": {},
     "output_type": "execute_result"
    }
   ],
   "source": [
    "# compare the above with\n",
    "[val for val in range(20) if val % 3 > 0]"
   ]
  },
  {
   "cell_type": "code",
   "execution_count": 5,
   "id": "e1d49362",
   "metadata": {},
   "outputs": [
    {
     "data": {
      "text/plain": [
       "[1, 2, 4, 5, 7, 8, 10, 11, 13, 14, 16, 17, 19]"
      ]
     },
     "execution_count": 5,
     "metadata": {},
     "output_type": "execute_result"
    }
   ],
   "source": [
    "# compare with \n",
    "L = [] # start with empty list\n",
    "for val in range(20): # for values 0 .. 19\n",
    "    if val % 3: # if the value does NOT divide 3\n",
    "        L.append(val) # append the value to the list \n",
    "L"
   ]
  },
  {
   "cell_type": "code",
   "execution_count": 6,
   "id": "0059e052",
   "metadata": {},
   "outputs": [
    {
     "data": {
      "text/plain": [
       "[0, 3, 6, 9, 12, 15, 18]"
      ]
     },
     "execution_count": 6,
     "metadata": {},
     "output_type": "execute_result"
    }
   ],
   "source": [
    " [val for val in range(20) if val % 3 == 0]"
   ]
  },
  {
   "cell_type": "code",
   "execution_count": 7,
   "id": "7584d980",
   "metadata": {},
   "outputs": [
    {
     "data": {
      "text/plain": [
       "10"
      ]
     },
     "execution_count": 7,
     "metadata": {},
     "output_type": "execute_result"
    }
   ],
   "source": [
    "# recreate the abs() function\n",
    "val = -10\n",
    "val if val >= 0 else -val"
   ]
  },
  {
   "cell_type": "code",
   "execution_count": 9,
   "id": "bc7ca408",
   "metadata": {},
   "outputs": [
    {
     "data": {
      "text/plain": [
       "[1, -2, -4, 5, 7, -8, -10, 11, 13, -14, -16, 17, 19]"
      ]
     },
     "execution_count": 9,
     "metadata": {},
     "output_type": "execute_result"
    }
   ],
   "source": [
    "# we can put this into a list\n",
    "# for the range 0 to 19 if val is even, make it negative, \n",
    "# if val is odd make it positive\n",
    "# and exclude multiples of 3\n",
    "[ val if val % 2 else -val for val in range(20) if val % 3]"
   ]
  },
  {
   "cell_type": "code",
   "execution_count": 10,
   "id": "7e21d578",
   "metadata": {},
   "outputs": [
    {
     "data": {
      "text/plain": [
       "[1, 2, 4, 5, 7, 8, 10, 11, 13, 14, 16, 17, 19]"
      ]
     },
     "execution_count": 10,
     "metadata": {},
     "output_type": "execute_result"
    }
   ],
   "source": [
    "# what about this\n",
    "# compare the above with (this still excludes values divisible by 3)\n",
    "[val for val in range(20) if val % 3]"
   ]
  },
  {
   "cell_type": "code",
   "execution_count": 11,
   "id": "ad2e5943",
   "metadata": {},
   "outputs": [
    {
     "data": {
      "text/plain": [
       "{0, 1, 4, 9, 16, 25, 36, 49, 64, 81, 100, 121}"
      ]
     },
     "execution_count": 11,
     "metadata": {},
     "output_type": "execute_result"
    }
   ],
   "source": [
    "# set comprehension\n",
    "{n**2 for n in range(12)}"
   ]
  },
  {
   "cell_type": "code",
   "execution_count": 12,
   "id": "c96b7349",
   "metadata": {},
   "outputs": [
    {
     "data": {
      "text/plain": [
       "set"
      ]
     },
     "execution_count": 12,
     "metadata": {},
     "output_type": "execute_result"
    }
   ],
   "source": [
    "type({1,2,3})"
   ]
  },
  {
   "cell_type": "code",
   "execution_count": 13,
   "id": "5a6a9226",
   "metadata": {},
   "outputs": [
    {
     "data": {
      "text/plain": [
       "list"
      ]
     },
     "execution_count": 13,
     "metadata": {},
     "output_type": "execute_result"
    }
   ],
   "source": [
    "type([1,2,3])"
   ]
  },
  {
   "cell_type": "code",
   "execution_count": 14,
   "id": "0a14d67d",
   "metadata": {},
   "outputs": [
    {
     "data": {
      "text/plain": [
       "set"
      ]
     },
     "execution_count": 14,
     "metadata": {},
     "output_type": "execute_result"
    }
   ],
   "source": [
    "type({n ** 2 for n in range(12)})"
   ]
  },
  {
   "cell_type": "code",
   "execution_count": 21,
   "id": "fc9d1e40",
   "metadata": {},
   "outputs": [
    {
     "name": "stdout",
     "output_type": "stream",
     "text": [
      "{1, 2, 3, 4, 5} [1, 2, 2, 2, 2, 3, 4, 5]\n"
     ]
    }
   ],
   "source": [
    "# SET vs LIST\n",
    "# a set is a collection that contains no duplicates!\n",
    "X = {1,2,2,2,2,3,4,5}\n",
    "L = [1,2,2,2,2,3,4,5]\n",
    "print(X,L)"
   ]
  },
  {
   "cell_type": "code",
   "execution_count": 25,
   "id": "f40956ef",
   "metadata": {
    "scrolled": true
   },
   "outputs": [
    {
     "name": "stdout",
     "output_type": "stream",
     "text": [
      "{0, 1, 2} [0, 1, 2, 0, 1, 2, 0, 1, 2, 0, 1, 2, 0, 1, 2, 0, 1, 2, 0, 1, 2, 0, 1, 2, 0, 1, 2, 0, 1, 2, 0, 1, 2, 0, 1, 2, 0, 1, 2, 0, 1, 2, 0, 1, 2, 0, 1, 2, 0, 1, 2, 0, 1, 2, 0, 1, 2, 0, 1, 2, 0, 1, 2, 0, 1, 2, 0, 1, 2, 0, 1, 2, 0, 1, 2, 0, 1, 2, 0, 1, 2, 0, 1, 2, 0, 1, 2, 0, 1, 2, 0, 1, 2, 0, 1, 2, 0, 1, 2, 0]\n"
     ]
    }
   ],
   "source": [
    "X = {a % 3 for a in range(100)}\n",
    "L = [a % 3 for a in range(100)]\n",
    "print(X,L)"
   ]
  },
  {
   "cell_type": "code",
   "execution_count": 23,
   "id": "20c1daaa",
   "metadata": {},
   "outputs": [
    {
     "data": {
      "text/plain": [
       "{0: 0, 1: 1, 2: 4, 3: 9, 4: 16, 5: 25}"
      ]
     },
     "execution_count": 23,
     "metadata": {},
     "output_type": "execute_result"
    }
   ],
   "source": [
    "# a dict comprehension\n",
    "{n:n ** 2 for n in range(6)}"
   ]
  },
  {
   "cell_type": "code",
   "execution_count": 24,
   "id": "fd5c31dc",
   "metadata": {},
   "outputs": [
    {
     "data": {
      "text/plain": [
       "<generator object <genexpr> at 0x0000024D25C73100>"
      ]
     },
     "execution_count": 24,
     "metadata": {},
     "output_type": "execute_result"
    }
   ],
   "source": [
    "# parenthesis for a generator expression\n",
    "(n ** 2 for n in range(12))"
   ]
  },
  {
   "cell_type": "code",
   "execution_count": 1,
   "id": "3ebb4966",
   "metadata": {},
   "outputs": [],
   "source": [
    "# generator expressions are list comprehensions in which elements\n",
    "# are egnerated as-needed vs. all-at-once\n",
    "# Generator EXPRESSIONS vs Generator FUNCTIONS"
   ]
  },
  {
   "cell_type": "code",
   "execution_count": 2,
   "id": "7aabb3b6",
   "metadata": {},
   "outputs": [],
   "source": [
    "# easter egg \n",
    "# The Zen of Python"
   ]
  },
  {
   "cell_type": "code",
   "execution_count": 3,
   "id": "4b83ab3e",
   "metadata": {},
   "outputs": [
    {
     "name": "stdout",
     "output_type": "stream",
     "text": [
      "The Zen of Python, by Tim Peters\n",
      "\n",
      "Beautiful is better than ugly.\n",
      "Explicit is better than implicit.\n",
      "Simple is better than complex.\n",
      "Complex is better than complicated.\n",
      "Flat is better than nested.\n",
      "Sparse is better than dense.\n",
      "Readability counts.\n",
      "Special cases aren't special enough to break the rules.\n",
      "Although practicality beats purity.\n",
      "Errors should never pass silently.\n",
      "Unless explicitly silenced.\n",
      "In the face of ambiguity, refuse the temptation to guess.\n",
      "There should be one-- and preferably only one --obvious way to do it.\n",
      "Although that way may not be obvious at first unless you're Dutch.\n",
      "Now is better than never.\n",
      "Although never is often better than *right* now.\n",
      "If the implementation is hard to explain, it's a bad idea.\n",
      "If the implementation is easy to explain, it may be a good idea.\n",
      "Namespaces are one honking great idea -- let's do more of those!\n"
     ]
    }
   ],
   "source": [
    "import this"
   ]
  },
  {
   "cell_type": "code",
   "execution_count": 1,
   "id": "5567ff90",
   "metadata": {},
   "outputs": [
    {
     "data": {
      "text/plain": [
       "[0, 1, 4, 9, 16, 25, 36, 49, 64, 81, 100, 121, 144]"
      ]
     },
     "execution_count": 1,
     "metadata": {},
     "output_type": "execute_result"
    }
   ],
   "source": [
    "# to print the contents of a generator expression\n",
    "# is to pass it to a list\n",
    "G = (n ** 2 for n in range(13))\n",
    "list(G)"
   ]
  },
  {
   "cell_type": "code",
   "execution_count": 2,
   "id": "5f09edc4",
   "metadata": {},
   "outputs": [
    {
     "data": {
      "text/plain": [
       "<generator object <genexpr> at 0x00000191D33D3370>"
      ]
     },
     "execution_count": 2,
     "metadata": {},
     "output_type": "execute_result"
    }
   ],
   "source": [
    "G"
   ]
  },
  {
   "cell_type": "code",
   "execution_count": 3,
   "id": "208fedc1",
   "metadata": {},
   "outputs": [
    {
     "data": {
      "text/plain": [
       "generator"
      ]
     },
     "execution_count": 3,
     "metadata": {},
     "output_type": "execute_result"
    }
   ],
   "source": [
    "type(G)"
   ]
  },
  {
   "cell_type": "code",
   "execution_count": 4,
   "id": "89f7cf3c",
   "metadata": {},
   "outputs": [
    {
     "data": {
      "text/plain": [
       "count(0)"
      ]
     },
     "execution_count": 4,
     "metadata": {},
     "output_type": "execute_result"
    }
   ],
   "source": [
    "# a list is a collection of values\n",
    "# a generator is a recipe for producing values\n",
    "# creating a list costs memory (the contents of the list)\n",
    "# creating a generator does not!\n",
    "from itertools import count\n",
    "count()"
   ]
  },
  {
   "cell_type": "code",
   "execution_count": 5,
   "id": "9720076d",
   "metadata": {},
   "outputs": [
    {
     "name": "stdout",
     "output_type": "stream",
     "text": [
      "0 1 2 3 4 5 6 7 8 9 10 11 12 13 14 15 16 17 18 19 20 21 22 23 24 25 26 27 28 29 30 31 32 33 34 35 36 37 38 39 40 41 42 43 44 45 46 47 48 49 50 51 52 53 54 55 56 57 58 59 60 61 62 63 64 65 66 67 68 69 70 71 72 73 74 75 76 77 78 79 80 81 82 83 84 85 86 87 88 89 90 91 92 93 94 95 96 97 98 99 100 "
     ]
    }
   ],
   "source": [
    "# recall the count iterator will count forever\n",
    "for i in count():\n",
    "    print(i, end = ' ')\n",
    "    if i >= 100: break "
   ]
  },
  {
   "cell_type": "code",
   "execution_count": 6,
   "id": "f8345114",
   "metadata": {},
   "outputs": [
    {
     "name": "stdout",
     "output_type": "stream",
     "text": [
      "1, 23, 29, 31, 37, 41, 43, 47, 53, 59, 61, 67, 71, 73, 79, 83, 89, 97, 101, "
     ]
    }
   ],
   "source": [
    "factors = [2, 3, 5, 7, 11, 13, 17, 19]\n",
    "G = (i for i in count() if all(i % n > 0 for n in factors))\n",
    "for val in G: \n",
    "    print(val, end = ', ')\n",
    "    if val > 100: break"
   ]
  },
  {
   "cell_type": "code",
   "execution_count": 7,
   "id": "99cd4004",
   "metadata": {},
   "outputs": [
    {
     "name": "stdout",
     "output_type": "stream",
     "text": [
      "0, 1, 4, 9, 16, 25, 36, 49, 64, 81, 100, 121, 144, 169, 196, 225, 256, 289, 324, 361, \n",
      "0; 1; 4; 9; 16; 25; 36; 49; 64; 81; 100; 121; 144; 169; 196; 225; 256; 289; 324; 361; "
     ]
    }
   ],
   "source": [
    "# lists can be iteratred multiple times\n",
    "# generator expressions are single-use\n",
    "L = [n ** 2 for n in range(20)]\n",
    "for val in L: \n",
    "    print(val, end = ', ')\n",
    "print()\n",
    "\n",
    "for val in L: \n",
    "    print(val, end = '; ')"
   ]
  },
  {
   "cell_type": "code",
   "execution_count": 8,
   "id": "6cba0fb1",
   "metadata": {},
   "outputs": [
    {
     "data": {
      "text/plain": [
       "[0, 1, 4, 9, 16, 25, 36, 49, 64, 81, 100, 121]"
      ]
     },
     "execution_count": 8,
     "metadata": {},
     "output_type": "execute_result"
    }
   ],
   "source": [
    "# observe that generators are used up after one use\n",
    "G = (n ** 2 for n in range(12))\n",
    "list(G)"
   ]
  },
  {
   "cell_type": "code",
   "execution_count": 9,
   "id": "c5506295",
   "metadata": {},
   "outputs": [
    {
     "data": {
      "text/plain": [
       "[]"
      ]
     },
     "execution_count": 9,
     "metadata": {},
     "output_type": "execute_result"
    }
   ],
   "source": [
    "list(G)"
   ]
  },
  {
   "cell_type": "code",
   "execution_count": 24,
   "id": "b2e6001c",
   "metadata": {},
   "outputs": [
    {
     "name": "stdout",
     "output_type": "stream",
     "text": [
      "0 0, 1 1, 2 4, 3 9, \n",
      " blah blah blah\n",
      "4 16; 4 25; 4 36; 4 49; 4 64; 4 81; 4 100; 4 121; "
     ]
    }
   ],
   "source": [
    "# we can stop and start iterations with generators\n",
    "G = (n ** 2 for n in range(12))\n",
    "i = 0 \n",
    "for n in G: \n",
    "    print(i,n, end = ', ')\n",
    "    i = i + 1\n",
    "    if n > 5: break\n",
    "\n",
    "print(\"\\n blah blah blah\")\n",
    "\n",
    "for n in G:\n",
    "    print(i,n, end= '; ')"
   ]
  },
  {
   "cell_type": "code",
   "execution_count": 26,
   "id": "e621f7b9",
   "metadata": {},
   "outputs": [
    {
     "name": "stdout",
     "output_type": "stream",
     "text": [
      "[0, 1, 4, 9, 16, 25, 36, 49, 64, 81, 100, 121]\n",
      "[0, 1, 4, 9, 16, 25, 36, 49, 64, 81, 100, 121]\n"
     ]
    }
   ],
   "source": [
    "# list comprehensions are good for building short lists\n",
    "# for loops are better for building more complex lists\n",
    "# first we'll look at two ways to build a list\n",
    "# then we'll do a geneator\n",
    "L1 = [n ** 2 for n in range(12)]\n",
    "L2 = []\n",
    "for n in range(12):\n",
    "    L2.append(n ** 2)\n",
    "    \n",
    "print(L1)\n",
    "print(L2)"
   ]
  },
  {
   "cell_type": "code",
   "execution_count": 29,
   "id": "7f0bd5f4",
   "metadata": {},
   "outputs": [
    {
     "name": "stdout",
     "output_type": "stream",
     "text": [
      "0 1 4 9 16 25 36 49 64 81 100 121\n",
      "0 1 4 9 16 25 36 49 64 81 100 121\n"
     ]
    }
   ],
   "source": [
    "G1 = (n ** 2 for n in range(12))\n",
    "\n",
    "def gen():\n",
    "    for n in range(12):\n",
    "        yield n ** 2\n",
    "        \n",
    "G2 = gen()\n",
    "print(*G1)\n",
    "print(*G2)"
   ]
  },
  {
   "cell_type": "code",
   "execution_count": 28,
   "id": "e68b558d",
   "metadata": {},
   "outputs": [
    {
     "name": "stdout",
     "output_type": "stream",
     "text": [
      "\n"
     ]
    }
   ],
   "source": [
    "print(*G1)"
   ]
  },
  {
   "cell_type": "code",
   "execution_count": 30,
   "id": "aeabc16b",
   "metadata": {},
   "outputs": [
    {
     "name": "stdout",
     "output_type": "stream",
     "text": [
      "[2, 3, 4, 5, 6, 7, 8, 9, 10, 11, 12, 13, 14, 15, 16, 17, 18, 19, 20, 21, 22, 23, 24, 25, 26, 27, 28, 29, 30, 31, 32, 33, 34, 35, 36, 37, 38, 39, 40, 41, 42, 43, 44, 45, 46, 47, 48, 49, 50, 51, 52, 53, 54, 55, 56, 57, 58, 59, 60, 61, 62, 63, 64, 65, 66, 67, 68, 69, 70, 71, 72, 73, 74, 75, 76, 77, 78, 79, 80, 81, 82, 83, 84, 85, 86, 87, 88, 89, 90, 91, 92, 93, 94, 95, 96, 97, 98, 99]\n"
     ]
    }
   ],
   "source": [
    "# using generator functions to do the Sieve of Eratosthenes\n",
    "# build up the logic first, step by step\n",
    "L = [n for n in range(2,100)] # all numbers 2 to 99\n",
    "print(L)\n"
   ]
  },
  {
   "cell_type": "code",
   "execution_count": 31,
   "id": "4d2198e9",
   "metadata": {},
   "outputs": [
    {
     "name": "stdout",
     "output_type": "stream",
     "text": [
      "[2, 3, 5, 7, 9, 11, 13, 15, 17, 19, 21, 23, 25, 27, 29, 31, 33, 35, 37, 39, 41, 43, 45, 47, 49, 51, 53, 55, 57, 59, 61, 63, 65, 67, 69, 71, 73, 75, 77, 79, 81, 83, 85, 87, 89, 91, 93, 95, 97, 99]\n"
     ]
    }
   ],
   "source": [
    "# remove all multiples of 2 (the first value)\n",
    "L = [n for n in L if n == L[0] or n % L[0] > 0]\n",
    "print(L)"
   ]
  },
  {
   "cell_type": "code",
   "execution_count": 32,
   "id": "4ffedeae",
   "metadata": {},
   "outputs": [
    {
     "name": "stdout",
     "output_type": "stream",
     "text": [
      "[2, 3, 5, 7, 11, 13, 17, 19, 23, 25, 29, 31, 35, 37, 41, 43, 47, 49, 53, 55, 59, 61, 65, 67, 71, 73, 77, 79, 83, 85, 89, 91, 95, 97]\n"
     ]
    }
   ],
   "source": [
    "# remove all multiples of the second value\n",
    "L = [n for n in L if n == L[1] or n % L[1] > 0]\n",
    "print(L)"
   ]
  },
  {
   "cell_type": "code",
   "execution_count": 33,
   "id": "b1ca6ae4",
   "metadata": {},
   "outputs": [
    {
     "name": "stdout",
     "output_type": "stream",
     "text": [
      "[2, 3, 5, 7, 11, 13, 17, 19, 23, 29, 31, 37, 41, 43, 47, 49, 53, 59, 61, 67, 71, 73, 77, 79, 83, 89, 91, 97]\n"
     ]
    }
   ],
   "source": [
    "# remove all multiples of the third value\n",
    "L = [n for n in L if n == L[2] or n % L[2] > 0]\n",
    "print(L)"
   ]
  },
  {
   "cell_type": "code",
   "execution_count": 34,
   "id": "c50aa099",
   "metadata": {},
   "outputs": [
    {
     "name": "stdout",
     "output_type": "stream",
     "text": [
      "[2, 3, 5, 7, 11, 13, 17, 19, 23, 29, 31, 37, 41, 43, 47, 53, 59, 61, 67, 71, 73, 79, 83, 89, 97]\n"
     ]
    }
   ],
   "source": [
    "# remove all multiples of the fourth value\n",
    "L = [n for n in L if n == L[3] or n % L[3] > 0]\n",
    "print(L)"
   ]
  },
  {
   "cell_type": "code",
   "execution_count": 35,
   "id": "a0cae5aa",
   "metadata": {},
   "outputs": [
    {
     "name": "stdout",
     "output_type": "stream",
     "text": [
      "2 3 5 7 11 13 17 19 23 29 31 37 41 43 47 53 59 61 67 71 73 79 83 89 97\n"
     ]
    }
   ],
   "source": [
    "# let's put it all together\n",
    "def SOE(N):\n",
    "    \"\"\"Geneates primes, up to N\"\"\"\n",
    "    # three quotes are equal to a comment I guess\n",
    "    primes = set()\n",
    "    for n in range(2, N):\n",
    "        if all(n % p > 0 for p in primes):\n",
    "            primes.add(n)\n",
    "            yield n\n",
    "            \n",
    "print(*SOE(100))"
   ]
  },
  {
   "cell_type": "code",
   "execution_count": 36,
   "id": "af57772e",
   "metadata": {},
   "outputs": [
    {
     "data": {
      "text/plain": [
       "-1.0"
      ]
     },
     "execution_count": 36,
     "metadata": {},
     "output_type": "execute_result"
    }
   ],
   "source": [
    "# modules and packages\n",
    "# several ways, from most recommended to least\n",
    "# \n",
    "# explicit\n",
    "import math\n",
    "math.cos(math.pi)"
   ]
  },
  {
   "cell_type": "code",
   "execution_count": 37,
   "id": "b10aa5d0",
   "metadata": {},
   "outputs": [
    {
     "data": {
      "text/plain": [
       "-1.0"
      ]
     },
     "execution_count": 37,
     "metadata": {},
     "output_type": "execute_result"
    }
   ],
   "source": [
    "# explicit - by alias\n",
    "import numpy as np\n",
    "np.cos(np.pi)"
   ]
  },
  {
   "cell_type": "code",
   "execution_count": 39,
   "id": "067dac83",
   "metadata": {},
   "outputs": [
    {
     "data": {
      "text/plain": [
       "1.0"
      ]
     },
     "execution_count": 39,
     "metadata": {},
     "output_type": "execute_result"
    }
   ],
   "source": [
    "# implicit import of module contents\n",
    "from math import * # (the * means import it all!)\n",
    "sin(pi) ** 2 + cos(pi) ** 2\n",
    "# warning - this can overwrite existing functions\n",
    "# best to use it sparingly"
   ]
  },
  {
   "cell_type": "code",
   "execution_count": 40,
   "id": "8587f9d4",
   "metadata": {},
   "outputs": [
    {
     "name": "stdout",
     "output_type": "stream",
     "text": [
      "Help on built-in function sum in module builtins:\n",
      "\n",
      "sum(iterable, /, start=0)\n",
      "    Return the sum of a 'start' value (default: 0) plus an iterable of numbers\n",
      "    \n",
      "    When the iterable is empty, return the start value.\n",
      "    This function is intended specifically for use with numeric values and may\n",
      "    reject non-numeric types.\n",
      "\n"
     ]
    }
   ],
   "source": [
    "# look at the mess we make with implicit import!\n",
    "help(sum)"
   ]
  },
  {
   "cell_type": "code",
   "execution_count": 41,
   "id": "3e653a2d",
   "metadata": {},
   "outputs": [
    {
     "data": {
      "text/plain": [
       "9"
      ]
     },
     "execution_count": 41,
     "metadata": {},
     "output_type": "execute_result"
    }
   ],
   "source": [
    "sum(range(5),-1)"
   ]
  },
  {
   "cell_type": "code",
   "execution_count": 42,
   "id": "08da9030",
   "metadata": {},
   "outputs": [
    {
     "data": {
      "text/plain": [
       "10"
      ]
     },
     "execution_count": 42,
     "metadata": {},
     "output_type": "execute_result"
    }
   ],
   "source": [
    "# call the exact same function sum() using * from numpy\n",
    "from numpy import *\n",
    "sum(range(5),-1)"
   ]
  },
  {
   "cell_type": "code",
   "execution_count": 43,
   "id": "250137ba",
   "metadata": {},
   "outputs": [
    {
     "data": {
      "text/plain": [
       "10"
      ]
     },
     "execution_count": 43,
     "metadata": {},
     "output_type": "execute_result"
    }
   ],
   "source": [
    "sum(range(5),-1)"
   ]
  },
  {
   "cell_type": "code",
   "execution_count": 45,
   "id": "c6757255",
   "metadata": {},
   "outputs": [
    {
     "name": "stdout",
     "output_type": "stream",
     "text": [
      "Help on function sum in module numpy:\n",
      "\n",
      "sum(a, axis=None, dtype=None, out=None, keepdims=<no value>, initial=<no value>, where=<no value>)\n",
      "    Sum of array elements over a given axis.\n",
      "    \n",
      "    Parameters\n",
      "    ----------\n",
      "    a : array_like\n",
      "        Elements to sum.\n",
      "    axis : None or int or tuple of ints, optional\n",
      "        Axis or axes along which a sum is performed.  The default,\n",
      "        axis=None, will sum all of the elements of the input array.  If\n",
      "        axis is negative it counts from the last to the first axis.\n",
      "    \n",
      "        .. versionadded:: 1.7.0\n",
      "    \n",
      "        If axis is a tuple of ints, a sum is performed on all of the axes\n",
      "        specified in the tuple instead of a single axis or all the axes as\n",
      "        before.\n",
      "    dtype : dtype, optional\n",
      "        The type of the returned array and of the accumulator in which the\n",
      "        elements are summed.  The dtype of `a` is used by default unless `a`\n",
      "        has an integer dtype of less precision than the default platform\n",
      "        integer.  In that case, if `a` is signed then the platform integer\n",
      "        is used while if `a` is unsigned then an unsigned integer of the\n",
      "        same precision as the platform integer is used.\n",
      "    out : ndarray, optional\n",
      "        Alternative output array in which to place the result. It must have\n",
      "        the same shape as the expected output, but the type of the output\n",
      "        values will be cast if necessary.\n",
      "    keepdims : bool, optional\n",
      "        If this is set to True, the axes which are reduced are left\n",
      "        in the result as dimensions with size one. With this option,\n",
      "        the result will broadcast correctly against the input array.\n",
      "    \n",
      "        If the default value is passed, then `keepdims` will not be\n",
      "        passed through to the `sum` method of sub-classes of\n",
      "        `ndarray`, however any non-default value will be.  If the\n",
      "        sub-class' method does not implement `keepdims` any\n",
      "        exceptions will be raised.\n",
      "    initial : scalar, optional\n",
      "        Starting value for the sum. See `~numpy.ufunc.reduce` for details.\n",
      "    \n",
      "        .. versionadded:: 1.15.0\n",
      "    \n",
      "    where : array_like of bool, optional\n",
      "        Elements to include in the sum. See `~numpy.ufunc.reduce` for details.\n",
      "    \n",
      "        .. versionadded:: 1.17.0\n",
      "    \n",
      "    Returns\n",
      "    -------\n",
      "    sum_along_axis : ndarray\n",
      "        An array with the same shape as `a`, with the specified\n",
      "        axis removed.   If `a` is a 0-d array, or if `axis` is None, a scalar\n",
      "        is returned.  If an output array is specified, a reference to\n",
      "        `out` is returned.\n",
      "    \n",
      "    See Also\n",
      "    --------\n",
      "    ndarray.sum : Equivalent method.\n",
      "    \n",
      "    add.reduce : Equivalent functionality of `add`.\n",
      "    \n",
      "    cumsum : Cumulative sum of array elements.\n",
      "    \n",
      "    trapz : Integration of array values using the composite trapezoidal rule.\n",
      "    \n",
      "    mean, average\n",
      "    \n",
      "    Notes\n",
      "    -----\n",
      "    Arithmetic is modular when using integer types, and no error is\n",
      "    raised on overflow.\n",
      "    \n",
      "    The sum of an empty array is the neutral element 0:\n",
      "    \n",
      "    >>> np.sum([])\n",
      "    0.0\n",
      "    \n",
      "    For floating point numbers the numerical precision of sum (and\n",
      "    ``np.add.reduce``) is in general limited by directly adding each number\n",
      "    individually to the result causing rounding errors in every step.\n",
      "    However, often numpy will use a  numerically better approach (partial\n",
      "    pairwise summation) leading to improved precision in many use-cases.\n",
      "    This improved precision is always provided when no ``axis`` is given.\n",
      "    When ``axis`` is given, it will depend on which axis is summed.\n",
      "    Technically, to provide the best speed possible, the improved precision\n",
      "    is only used when the summation is along the fast axis in memory.\n",
      "    Note that the exact precision may vary depending on other parameters.\n",
      "    In contrast to NumPy, Python's ``math.fsum`` function uses a slower but\n",
      "    more precise approach to summation.\n",
      "    Especially when summing a large number of lower precision floating point\n",
      "    numbers, such as ``float32``, numerical errors can become significant.\n",
      "    In such cases it can be advisable to use `dtype=\"float64\"` to use a higher\n",
      "    precision for the output.\n",
      "    \n",
      "    Examples\n",
      "    --------\n",
      "    >>> np.sum([0.5, 1.5])\n",
      "    2.0\n",
      "    >>> np.sum([0.5, 0.7, 0.2, 1.5], dtype=np.int32)\n",
      "    1\n",
      "    >>> np.sum([[0, 1], [0, 5]])\n",
      "    6\n",
      "    >>> np.sum([[0, 1], [0, 5]], axis=0)\n",
      "    array([0, 6])\n",
      "    >>> np.sum([[0, 1], [0, 5]], axis=1)\n",
      "    array([1, 5])\n",
      "    >>> np.sum([[0, 1], [np.nan, 5]], where=[False, True], axis=1)\n",
      "    array([1., 5.])\n",
      "    \n",
      "    If the accumulator is too small, overflow occurs:\n",
      "    \n",
      "    >>> np.ones(128, dtype=np.int8).sum(dtype=np.int8)\n",
      "    -128\n",
      "    \n",
      "    You can also start the sum with a value other than zero:\n",
      "    \n",
      "    >>> np.sum([10], initial=5)\n",
      "    15\n",
      "\n"
     ]
    }
   ],
   "source": [
    "help(sum)"
   ]
  },
  {
   "cell_type": "code",
   "execution_count": 1,
   "id": "e1265e2d",
   "metadata": {},
   "outputs": [
    {
     "data": {
      "text/plain": [
       "True"
      ]
     },
     "execution_count": 1,
     "metadata": {},
     "output_type": "execute_result"
    }
   ],
   "source": [
    "# String manipulation and regular expressions\n",
    "x = 'a string'\n",
    "y = 'a string'\n",
    "x == y"
   ]
  },
  {
   "cell_type": "code",
   "execution_count": 2,
   "id": "9874fe54",
   "metadata": {},
   "outputs": [
    {
     "data": {
      "text/plain": [
       "'\\nabc\\ndef\\nghi\\n'"
      ]
     },
     "execution_count": 2,
     "metadata": {},
     "output_type": "execute_result"
    }
   ],
   "source": [
    "# multi line strings using triple quotes\n",
    "multiline = \"\"\"\n",
    "abc\n",
    "def\n",
    "ghi\n",
    "\"\"\"\n",
    "multiline"
   ]
  },
  {
   "cell_type": "code",
   "execution_count": 3,
   "id": "d016ca8f",
   "metadata": {},
   "outputs": [
    {
     "data": {
      "text/plain": [
       "'THE QUICK BROWN FOX.'"
      ]
     },
     "execution_count": 3,
     "metadata": {},
     "output_type": "execute_result"
    }
   ],
   "source": [
    "# adjusting case\n",
    "fox = \"thE QuiCK broWn FoX.\"\n",
    "fox.upper()"
   ]
  },
  {
   "cell_type": "code",
   "execution_count": 4,
   "id": "b0cb2458",
   "metadata": {},
   "outputs": [
    {
     "data": {
      "text/plain": [
       "'the quick brown fox.'"
      ]
     },
     "execution_count": 4,
     "metadata": {},
     "output_type": "execute_result"
    }
   ],
   "source": [
    "fox.lower()"
   ]
  },
  {
   "cell_type": "code",
   "execution_count": 5,
   "id": "a87373e2",
   "metadata": {},
   "outputs": [
    {
     "data": {
      "text/plain": [
       "'The Quick Brown Fox.'"
      ]
     },
     "execution_count": 5,
     "metadata": {},
     "output_type": "execute_result"
    }
   ],
   "source": [
    "fox.title()"
   ]
  },
  {
   "cell_type": "code",
   "execution_count": 6,
   "id": "8ad75a75",
   "metadata": {},
   "outputs": [
    {
     "data": {
      "text/plain": [
       "'The quick brown fox.'"
      ]
     },
     "execution_count": 6,
     "metadata": {},
     "output_type": "execute_result"
    }
   ],
   "source": [
    "fox.capitalize()"
   ]
  },
  {
   "cell_type": "code",
   "execution_count": 7,
   "id": "51704a8d",
   "metadata": {},
   "outputs": [
    {
     "data": {
      "text/plain": [
       "'THe qUIck BROwN fOx.'"
      ]
     },
     "execution_count": 7,
     "metadata": {},
     "output_type": "execute_result"
    }
   ],
   "source": [
    "fox.swapcase()"
   ]
  },
  {
   "cell_type": "code",
   "execution_count": 8,
   "id": "22e2ae63",
   "metadata": {},
   "outputs": [
    {
     "data": {
      "text/plain": [
       "'lots of spaces here'"
      ]
     },
     "execution_count": 8,
     "metadata": {},
     "output_type": "execute_result"
    }
   ],
   "source": [
    "# adding and removing spaces\n",
    "line = '                      lots of spaces here                    '\n",
    "line.strip()"
   ]
  },
  {
   "cell_type": "code",
   "execution_count": 9,
   "id": "c1c5fa8b",
   "metadata": {},
   "outputs": [
    {
     "data": {
      "text/plain": [
       "'                      lots of spaces here                    '"
      ]
     },
     "execution_count": 9,
     "metadata": {},
     "output_type": "execute_result"
    }
   ],
   "source": [
    "line"
   ]
  },
  {
   "cell_type": "code",
   "execution_count": 10,
   "id": "76bd9fd6",
   "metadata": {},
   "outputs": [
    {
     "data": {
      "text/plain": [
       "'lots of spaces here                    '"
      ]
     },
     "execution_count": 10,
     "metadata": {},
     "output_type": "execute_result"
    }
   ],
   "source": [
    "line.lstrip()"
   ]
  },
  {
   "cell_type": "code",
   "execution_count": 11,
   "id": "b9a8a54d",
   "metadata": {},
   "outputs": [
    {
     "data": {
      "text/plain": [
       "'                      lots of spaces here'"
      ]
     },
     "execution_count": 11,
     "metadata": {},
     "output_type": "execute_result"
    }
   ],
   "source": [
    "line.rstrip()"
   ]
  },
  {
   "cell_type": "code",
   "execution_count": 12,
   "id": "32629f3e",
   "metadata": {},
   "outputs": [
    {
     "data": {
      "text/plain": [
       "'78978'"
      ]
     },
     "execution_count": 12,
     "metadata": {},
     "output_type": "execute_result"
    }
   ],
   "source": [
    "# you can strip specified characters\n",
    "num = '0000000000000000000000000078978'\n",
    "num.strip('0')"
   ]
  },
  {
   "cell_type": "code",
   "execution_count": 13,
   "id": "79b2edbc",
   "metadata": {},
   "outputs": [
    {
     "data": {
      "text/plain": [
       "'      this is my content      '"
      ]
     },
     "execution_count": 13,
     "metadata": {},
     "output_type": "execute_result"
    }
   ],
   "source": [
    "line = \"this is my content\"\n",
    "line.center(30)"
   ]
  },
  {
   "cell_type": "code",
   "execution_count": 14,
   "id": "8cfffe09",
   "metadata": {},
   "outputs": [
    {
     "data": {
      "text/plain": [
       "'this is my content            '"
      ]
     },
     "execution_count": 14,
     "metadata": {},
     "output_type": "execute_result"
    }
   ],
   "source": [
    "line.ljust(30)"
   ]
  },
  {
   "cell_type": "code",
   "execution_count": 15,
   "id": "101903ea",
   "metadata": {},
   "outputs": [
    {
     "data": {
      "text/plain": [
       "'            this is my content'"
      ]
     },
     "execution_count": 15,
     "metadata": {},
     "output_type": "execute_result"
    }
   ],
   "source": [
    "line.rjust(30)"
   ]
  },
  {
   "cell_type": "code",
   "execution_count": 16,
   "id": "0dce0cdb",
   "metadata": {},
   "outputs": [
    {
     "data": {
      "text/plain": [
       "'0000000123'"
      ]
     },
     "execution_count": 16,
     "metadata": {},
     "output_type": "execute_result"
    }
   ],
   "source": [
    "# you can mix and match\n",
    "'123'.rjust(10,'0')"
   ]
  },
  {
   "cell_type": "code",
   "execution_count": 17,
   "id": "8459d86f",
   "metadata": {},
   "outputs": [
    {
     "data": {
      "text/plain": [
       "'0000000123'"
      ]
     },
     "execution_count": 17,
     "metadata": {},
     "output_type": "execute_result"
    }
   ],
   "source": [
    "'123'.zfill(10)"
   ]
  },
  {
   "cell_type": "code",
   "execution_count": 18,
   "id": "299791fa",
   "metadata": {},
   "outputs": [
    {
     "data": {
      "text/plain": [
       "16"
      ]
     },
     "execution_count": 18,
     "metadata": {},
     "output_type": "execute_result"
    }
   ],
   "source": [
    "# find and index\n",
    "line = \"the quick brown fox jumped over a lazy dog\"\n",
    "line.find('fox')"
   ]
  },
  {
   "cell_type": "code",
   "execution_count": 19,
   "id": "20ff786e",
   "metadata": {},
   "outputs": [
    {
     "data": {
      "text/plain": [
       "16"
      ]
     },
     "execution_count": 19,
     "metadata": {},
     "output_type": "execute_result"
    }
   ],
   "source": [
    "line.index('fox')"
   ]
  },
  {
   "cell_type": "code",
   "execution_count": 21,
   "id": "d143af2b",
   "metadata": {},
   "outputs": [
    {
     "data": {
      "text/plain": [
       "-1"
      ]
     },
     "execution_count": 21,
     "metadata": {},
     "output_type": "execute_result"
    }
   ],
   "source": [
    "# when the string is not found...\n",
    "line.find('bear')\n"
   ]
  },
  {
   "cell_type": "code",
   "execution_count": 22,
   "id": "0f3af8b6",
   "metadata": {},
   "outputs": [
    {
     "ename": "ValueError",
     "evalue": "substring not found",
     "output_type": "error",
     "traceback": [
      "\u001b[1;31m---------------------------------------------------------------------------\u001b[0m",
      "\u001b[1;31mValueError\u001b[0m                                Traceback (most recent call last)",
      "Cell \u001b[1;32mIn[22], line 1\u001b[0m\n\u001b[1;32m----> 1\u001b[0m line\u001b[38;5;241m.\u001b[39mindex(\u001b[38;5;124m'\u001b[39m\u001b[38;5;124mbear\u001b[39m\u001b[38;5;124m'\u001b[39m)\n",
      "\u001b[1;31mValueError\u001b[0m: substring not found"
     ]
    }
   ],
   "source": [
    "line.index('bear')"
   ]
  },
  {
   "cell_type": "code",
   "execution_count": 23,
   "id": "05144d66",
   "metadata": {},
   "outputs": [
    {
     "data": {
      "text/plain": [
       "35"
      ]
     },
     "execution_count": 23,
     "metadata": {},
     "output_type": "execute_result"
    }
   ],
   "source": [
    "line.rfind('a')"
   ]
  },
  {
   "cell_type": "code",
   "execution_count": 27,
   "id": "03bfcc88",
   "metadata": {},
   "outputs": [
    {
     "data": {
      "text/plain": [
       "True"
      ]
     },
     "execution_count": 27,
     "metadata": {},
     "output_type": "execute_result"
    }
   ],
   "source": [
    "line.endswith('dog')"
   ]
  },
  {
   "cell_type": "code",
   "execution_count": 25,
   "id": "e9200d69",
   "metadata": {},
   "outputs": [
    {
     "data": {
      "text/plain": [
       "False"
      ]
     },
     "execution_count": 25,
     "metadata": {},
     "output_type": "execute_result"
    }
   ],
   "source": [
    "line.startswith('fox')"
   ]
  },
  {
   "cell_type": "code",
   "execution_count": 28,
   "id": "cabb9e1c",
   "metadata": {},
   "outputs": [
    {
     "data": {
      "text/plain": [
       "'the quick red and chumbly fox jumped over a lazy dog'"
      ]
     },
     "execution_count": 28,
     "metadata": {},
     "output_type": "execute_result"
    }
   ],
   "source": [
    "# replacement\n",
    "line.replace('brown','red and chumbly')"
   ]
  },
  {
   "cell_type": "code",
   "execution_count": 29,
   "id": "5c030f54",
   "metadata": {},
   "outputs": [
    {
     "data": {
      "text/plain": [
       "'the quick br--wn f--x jumped --ver a lazy d--g'"
      ]
     },
     "execution_count": 29,
     "metadata": {},
     "output_type": "execute_result"
    }
   ],
   "source": [
    "line.replace('o','--')"
   ]
  },
  {
   "cell_type": "code",
   "execution_count": 30,
   "id": "e8818bcb",
   "metadata": {},
   "outputs": [
    {
     "data": {
      "text/plain": [
       "('the quick brown ', 'fox', ' jumped over a lazy dog')"
      ]
     },
     "execution_count": 30,
     "metadata": {},
     "output_type": "execute_result"
    }
   ],
   "source": [
    "# split and partition strings\n",
    "line.partition('fox')"
   ]
  },
  {
   "cell_type": "code",
   "execution_count": 31,
   "id": "61c03e52",
   "metadata": {},
   "outputs": [
    {
     "data": {
      "text/plain": [
       "['the', 'quick', 'brown', 'fox', 'jumped', 'over', 'a', 'lazy', 'dog']"
      ]
     },
     "execution_count": 31,
     "metadata": {},
     "output_type": "execute_result"
    }
   ],
   "source": [
    "line.split()"
   ]
  },
  {
   "cell_type": "code",
   "execution_count": 32,
   "id": "2057c501",
   "metadata": {
    "scrolled": true
   },
   "outputs": [
    {
     "data": {
      "text/plain": [
       "['matsushima-ya', 'aah matsushima-ya', 'matsushima-ya']"
      ]
     },
     "execution_count": 32,
     "metadata": {},
     "output_type": "execute_result"
    }
   ],
   "source": [
    "haiku = \"\"\"matsushima-ya\n",
    "aah matsushima-ya\n",
    "matsushima-ya\"\"\"\n",
    "haiku.splitlines()"
   ]
  },
  {
   "cell_type": "code",
   "execution_count": 33,
   "id": "3d782cbf",
   "metadata": {},
   "outputs": [
    {
     "data": {
      "text/plain": [
       "'1--2--3--4'"
      ]
     },
     "execution_count": 33,
     "metadata": {},
     "output_type": "execute_result"
    }
   ],
   "source": [
    "'--'.join(['1','2','3','4'])"
   ]
  },
  {
   "cell_type": "code",
   "execution_count": 34,
   "id": "5c66b02c",
   "metadata": {},
   "outputs": [
    {
     "name": "stdout",
     "output_type": "stream",
     "text": [
      "matsushima-ya\n",
      "aah matsushima-ya\n",
      "matsushima-ya\n"
     ]
    }
   ],
   "source": [
    "# to recover and re-join something that's been split\n",
    "print(\"\\n\".join(['matsushima-ya', 'aah matsushima-ya', 'matsushima-ya']))"
   ]
  },
  {
   "cell_type": "code",
   "execution_count": 35,
   "id": "3f1fe62a",
   "metadata": {},
   "outputs": [
    {
     "name": "stdout",
     "output_type": "stream",
     "text": [
      "matsushima-ya\n",
      "aah matsushima-ya\n",
      "matsushima-ya\n"
     ]
    }
   ],
   "source": [
    "print(haiku)"
   ]
  },
  {
   "cell_type": "code",
   "execution_count": 36,
   "id": "c924029d",
   "metadata": {},
   "outputs": [
    {
     "data": {
      "text/plain": [
       "'3.1415935'"
      ]
     },
     "execution_count": 36,
     "metadata": {},
     "output_type": "execute_result"
    }
   ],
   "source": [
    "# format strings\n",
    "pi = 3.1415935\n",
    "str(pi)"
   ]
  },
  {
   "cell_type": "code",
   "execution_count": 38,
   "id": "46d34ae0",
   "metadata": {},
   "outputs": [
    {
     "data": {
      "text/plain": [
       "'The value of pi is 3.1415935'"
      ]
     },
     "execution_count": 38,
     "metadata": {},
     "output_type": "execute_result"
    }
   ],
   "source": [
    "\"The value of pi is {}\".format(pi)"
   ]
  },
  {
   "cell_type": "code",
   "execution_count": 39,
   "id": "ae48c0c7",
   "metadata": {},
   "outputs": [
    {
     "data": {
      "text/plain": [
       "'First letter: A. Last letter: Z.'"
      ]
     },
     "execution_count": 39,
     "metadata": {},
     "output_type": "execute_result"
    }
   ],
   "source": [
    "\"\"\"First letter: {0}. Last letter: {1}.\"\"\".format('A', 'Z')"
   ]
  },
  {
   "cell_type": "code",
   "execution_count": 41,
   "id": "fa2d7ee7",
   "metadata": {},
   "outputs": [
    {
     "data": {
      "text/plain": [
       "'First letter: A. Last letter: Z.'"
      ]
     },
     "execution_count": 41,
     "metadata": {},
     "output_type": "execute_result"
    }
   ],
   "source": [
    "\"\"\"First letter: {first}. Last letter: {last}.\"\"\".format(last = 'Z', first = 'A')"
   ]
  },
  {
   "cell_type": "code",
   "execution_count": 43,
   "id": "e44320f4",
   "metadata": {},
   "outputs": [
    {
     "data": {
      "text/plain": [
       "'pi = 3.142'"
      ]
     },
     "execution_count": 43,
     "metadata": {},
     "output_type": "execute_result"
    }
   ],
   "source": [
    "# print a number as a floating point with three digits after the decimal\n",
    "\"pi = {0:.3f}\".format(pi)"
   ]
  },
  {
   "cell_type": "code",
   "execution_count": 44,
   "id": "06b56f75",
   "metadata": {},
   "outputs": [
    {
     "data": {
      "text/plain": [
       "'pi = 3.1415935000'"
      ]
     },
     "execution_count": 44,
     "metadata": {},
     "output_type": "execute_result"
    }
   ],
   "source": [
    "\"pi = {0:.10f}\".format(pi)"
   ]
  },
  {
   "cell_type": "code",
   "execution_count": 45,
   "id": "6c166b42",
   "metadata": {},
   "outputs": [
    {
     "ename": "NameError",
     "evalue": "name 'sqrt' is not defined",
     "output_type": "error",
     "traceback": [
      "\u001b[1;31m---------------------------------------------------------------------------\u001b[0m",
      "\u001b[1;31mNameError\u001b[0m                                 Traceback (most recent call last)",
      "Cell \u001b[1;32mIn[45], line 1\u001b[0m\n\u001b[1;32m----> 1\u001b[0m sqrt(\u001b[38;5;241m2\u001b[39m)\n",
      "\u001b[1;31mNameError\u001b[0m: name 'sqrt' is not defined"
     ]
    }
   ],
   "source": []
  },
  {
   "cell_type": "code",
   "execution_count": 46,
   "id": "6b4b1243",
   "metadata": {},
   "outputs": [
    {
     "name": "stderr",
     "output_type": "stream",
     "text": [
      "'ls' is not recognized as an internal or external command,\n",
      "operable program or batch file.\n"
     ]
    }
   ],
   "source": [
    "# here we go\n",
    "# REGULAR EXPRESSIONS\n",
    "# already added Mastering Regular Expressions 3rd edition on Abebooks\n",
    "# https://www.abebooks.com/servlet/BookDetailsPL?bi=31595861974\n",
    "!ls *Python*.ipynb"
   ]
  },
  {
   "cell_type": "code",
   "execution_count": 2,
   "id": "8c9aa288",
   "metadata": {},
   "outputs": [
    {
     "ename": "NameError",
     "evalue": "name 'line' is not defined",
     "output_type": "error",
     "traceback": [
      "\u001b[1;31m---------------------------------------------------------------------------\u001b[0m",
      "\u001b[1;31mNameError\u001b[0m                                 Traceback (most recent call last)",
      "Cell \u001b[1;32mIn[2], line 3\u001b[0m\n\u001b[0;32m      1\u001b[0m \u001b[38;5;28;01mimport\u001b[39;00m \u001b[38;5;21;01mre\u001b[39;00m\n\u001b[0;32m      2\u001b[0m regex \u001b[38;5;241m=\u001b[39m re\u001b[38;5;241m.\u001b[39mcompile(\u001b[38;5;124m'\u001b[39m\u001b[38;5;124m\\\u001b[39m\u001b[38;5;124ms+\u001b[39m\u001b[38;5;124m'\u001b[39m)\n\u001b[1;32m----> 3\u001b[0m regex\u001b[38;5;241m.\u001b[39msplit(line)\n",
      "\u001b[1;31mNameError\u001b[0m: name 'line' is not defined"
     ]
    }
   ],
   "source": [
    "import re\n",
    "regex = re.compile('\\s+')\n",
    "regex.split(line)"
   ]
  },
  {
   "cell_type": "code",
   "execution_count": 3,
   "id": "50b40289",
   "metadata": {},
   "outputs": [
    {
     "name": "stdout",
     "output_type": "stream",
     "text": [
      "'      ' matches\n",
      "'abc   ' no match\n",
      "'   abc' matches\n"
     ]
    }
   ],
   "source": [
    "# not sure what's going on here\n",
    "for s in [\"      \",\"abc   \",\"   abc\"]:\n",
    "    if regex.match(s):\n",
    "        print(repr(s),\"matches\")\n",
    "    else:\n",
    "        print(repr(s),\"no match\")"
   ]
  },
  {
   "cell_type": "code",
   "execution_count": 51,
   "id": "45bf63e6",
   "metadata": {},
   "outputs": [
    {
     "data": {
      "text/plain": [
       "'the quick brown fox jumped over a lazy dog'"
      ]
     },
     "execution_count": 51,
     "metadata": {},
     "output_type": "execute_result"
    }
   ],
   "source": [
    "line"
   ]
  },
  {
   "cell_type": "code",
   "execution_count": 52,
   "id": "2a4ebefd",
   "metadata": {},
   "outputs": [
    {
     "data": {
      "text/plain": [
       "16"
      ]
     },
     "execution_count": 52,
     "metadata": {},
     "output_type": "execute_result"
    }
   ],
   "source": [
    "line.index('fox')"
   ]
  },
  {
   "cell_type": "code",
   "execution_count": 53,
   "id": "7d966374",
   "metadata": {},
   "outputs": [
    {
     "data": {
      "text/plain": [
       "16"
      ]
     },
     "execution_count": 53,
     "metadata": {},
     "output_type": "execute_result"
    }
   ],
   "source": [
    "regex = re.compile('fox')\n",
    "match = regex.search(line)\n",
    "match.start()"
   ]
  },
  {
   "cell_type": "code",
   "execution_count": 54,
   "id": "166d9633",
   "metadata": {},
   "outputs": [
    {
     "data": {
      "text/plain": [
       "'the quick brown GIANT GRIZZLY jumped over a lazy dog'"
      ]
     },
     "execution_count": 54,
     "metadata": {},
     "output_type": "execute_result"
    }
   ],
   "source": [
    "line.replace('fox',\"GIANT GRIZZLY\")"
   ]
  },
  {
   "cell_type": "code",
   "execution_count": 55,
   "id": "bf3b8841",
   "metadata": {},
   "outputs": [
    {
     "data": {
      "text/plain": [
       "'the quick brown GIANT GRIZZLY jumped over a lazy dog'"
      ]
     },
     "execution_count": 55,
     "metadata": {},
     "output_type": "execute_result"
    }
   ],
   "source": [
    "regex.sub(\"GIANT GRIZZLY\", line)"
   ]
  },
  {
   "cell_type": "code",
   "execution_count": 57,
   "id": "56af446e",
   "metadata": {},
   "outputs": [
    {
     "data": {
      "text/plain": [
       "['jumbo@python.org', 'jumbo_Tron88@gmail.com']"
      ]
     },
     "execution_count": 57,
     "metadata": {},
     "output_type": "execute_result"
    }
   ],
   "source": [
    "# the flexibility of regex is why we use their more complex forms\n",
    "text = \"to email Jumbo try jumbo@python.org or jumbo_Tron88@gmail.com\"\n",
    "email = re.compile('\\w+@\\w+\\.[a-z]{3}')\n",
    "email.findall(text)"
   ]
  },
  {
   "cell_type": "code",
   "execution_count": 58,
   "id": "f084e67e",
   "metadata": {},
   "outputs": [
    {
     "data": {
      "text/plain": [
       "'to email Jumbo try ---@--- or ---@---'"
      ]
     },
     "execution_count": 58,
     "metadata": {},
     "output_type": "execute_result"
    }
   ],
   "source": [
    "email.sub('---@---',text)"
   ]
  },
  {
   "cell_type": "code",
   "execution_count": 60,
   "id": "daf6f191",
   "metadata": {},
   "outputs": [
    {
     "data": {
      "text/plain": [
       "['obama@whitehouse.gov']"
      ]
     },
     "execution_count": 60,
     "metadata": {},
     "output_type": "execute_result"
    }
   ],
   "source": [
    "# beware...\n",
    "email.findall('barack.obama@whitehouse.gov')"
   ]
  },
  {
   "cell_type": "code",
   "execution_count": 62,
   "id": "99a16d0e",
   "metadata": {},
   "outputs": [
    {
     "name": "stdout",
     "output_type": "stream",
     "text": [
      "a\tb\tc\n"
     ]
    }
   ],
   "source": [
    "# \\n newline\n",
    "# \\s any whitespace character\n",
    "# \\t tab\n",
    "# \\w any alphanumeric character\n",
    "# \\D match any non digit\n",
    "# \\S match any non whitespace\n",
    "# \\W match any non alphanumeric char\n",
    "print('a\\tb\\tc')"
   ]
  },
  {
   "cell_type": "code",
   "execution_count": 63,
   "id": "e91be398",
   "metadata": {},
   "outputs": [
    {
     "name": "stdout",
     "output_type": "stream",
     "text": [
      "a\\tb\\tc\n"
     ]
    }
   ],
   "source": [
    "# to print the raw...\n",
    "print(r'a\\tb\\tc')"
   ]
  },
  {
   "cell_type": "code",
   "execution_count": 64,
   "id": "18c1620d",
   "metadata": {},
   "outputs": [
    {
     "data": {
      "text/plain": [
       "['e f', 'x i', 's 9', 's o']"
      ]
     },
     "execution_count": 64,
     "metadata": {},
     "output_type": "execute_result"
    }
   ],
   "source": [
    "regex = re.compile(r'\\w\\s\\w')\n",
    "regex.findall(\"the fox is 9 years old\")"
   ]
  },
  {
   "cell_type": "code",
   "execution_count": 4,
   "id": "59df502f",
   "metadata": {},
   "outputs": [
    {
     "data": {
      "text/plain": [
       "['c', 'ns', 'q', '', 'nt', '', 'l ', 'nd s', 'q', '', '', '', '']"
      ]
     },
     "execution_count": 4,
     "metadata": {},
     "output_type": "execute_result"
    }
   ],
   "source": [
    "# capturing any lowercase vowel\n",
    "regex = re.compile('[aeiou]')\n",
    "regex.split('consequential and sequoia')"
   ]
  },
  {
   "cell_type": "code",
   "execution_count": 6,
   "id": "41870ff5",
   "metadata": {},
   "outputs": [
    {
     "data": {
      "text/plain": [
       "['A4', 'G6', 'G8', 'H1', 'N1']"
      ]
     },
     "execution_count": 6,
     "metadata": {},
     "output_type": "execute_result"
    }
   ],
   "source": [
    "# [a-z] will match any lowercase letter\n",
    "# [1-3] will match any of 1, 2 or 3\n",
    "# what if you wanted a capial letter followed by a digit\n",
    "regex = re.compile('[A-Z][0-9]')\n",
    "regex.findall('1231A465, G6, G8, H1N1')"
   ]
  },
  {
   "cell_type": "code",
   "execution_count": 7,
   "id": "c3bcbea1",
   "metadata": {},
   "outputs": [
    {
     "data": {
      "text/plain": [
       "['The',\n",
       " 'qui',\n",
       " 'bro',\n",
       " 'fox',\n",
       " 'jum',\n",
       " 'ped',\n",
       " 'ove',\n",
       " 'the',\n",
       " 'sad',\n",
       " 'lit',\n",
       " 'tle',\n",
       " 'dog',\n",
       " 'tod']"
      ]
     },
     "execution_count": 7,
     "metadata": {},
     "output_type": "execute_result"
    }
   ],
   "source": [
    "# finding 3 letter words, use wildcards\n",
    "regex = re.compile(r'\\w{3}')\n",
    "regex.findall(\"The quick brown fox jumped over the sad little dog today.\")"
   ]
  },
  {
   "cell_type": "code",
   "execution_count": 9,
   "id": "91efe16c",
   "metadata": {},
   "outputs": [
    {
     "data": {
      "text/plain": [
       "['the', 'quick', 'brown', 'fox']"
      ]
     },
     "execution_count": 9,
     "metadata": {},
     "output_type": "execute_result"
    }
   ],
   "source": [
    "regex = re.compile(r'\\w+')\n",
    "regex.findall('the quick brown fox')"
   ]
  },
  {
   "cell_type": "code",
   "execution_count": 10,
   "id": "ab84592c",
   "metadata": {},
   "outputs": [
    {
     "data": {
      "text/plain": [
       "['obama@whitehouse.gov']"
      ]
     },
     "execution_count": 10,
     "metadata": {},
     "output_type": "execute_result"
    }
   ],
   "source": [
    "# modifying the email regex\n",
    "email = re.compile(r'\\w+@\\w+\\.[a-z]{3}')\n",
    "email2 = re.compile(r'[\\w.]+@\\w+\\.[a-z]{3}')\n",
    "email.findall('barack.obama@whitehouse.gov')"
   ]
  },
  {
   "cell_type": "code",
   "execution_count": 11,
   "id": "ff0cb22c",
   "metadata": {},
   "outputs": [
    {
     "data": {
      "text/plain": [
       "['barack.obama@whitehouse.gov']"
      ]
     },
     "execution_count": 11,
     "metadata": {},
     "output_type": "execute_result"
    }
   ],
   "source": [
    "email2.findall('barack.obama@whitehouse.gov')"
   ]
  },
  {
   "cell_type": "code",
   "execution_count": 12,
   "id": "fa2762b4",
   "metadata": {},
   "outputs": [
    {
     "data": {
      "text/plain": [
       "[('guido', 'python', 'org'), ('guido', 'google', 'com')]"
      ]
     },
     "execution_count": 12,
     "metadata": {},
     "output_type": "execute_result"
    }
   ],
   "source": [
    "# [\\w.]+ means match any alphanumeric character OR a priod. \n",
    "# let's go deeper!\n",
    "# introduce grouping with parenthesis\n",
    "email3 = re.compile(r'([\\w.]+)@(\\w+)\\.([a-z]{3})')\n",
    "text = \"To email guido, try guido@python.org or the old address guido@google.com\"\n",
    "email3.findall(text)"
   ]
  },
  {
   "cell_type": "code",
   "execution_count": 13,
   "id": "7fad6a13",
   "metadata": {},
   "outputs": [
    {
     "data": {
      "text/plain": [
       "{'user': 'guido', 'domain': 'python', 'suffix': 'org'}"
      ]
     },
     "execution_count": 13,
     "metadata": {},
     "output_type": "execute_result"
    }
   ],
   "source": [
    "# dictionaries now come into play...\n",
    "email4 = re.compile(r'(?P<user>[\\w.]+)@(?P<domain>\\w+)\\.(?P<suffix>[a-z]{3})')\n",
    "match = email4.match('guido@python.org')\n",
    "match.groupdict()"
   ]
  },
  {
   "cell_type": "code",
   "execution_count": 14,
   "id": "44e871e0",
   "metadata": {},
   "outputs": [
    {
     "data": {
      "text/plain": [
       "<re.Match object; span=(0, 16), match='guido@google.com'>"
      ]
     },
     "execution_count": 14,
     "metadata": {},
     "output_type": "execute_result"
    }
   ],
   "source": [
    "email4.match('guido@google.com')"
   ]
  },
  {
   "cell_type": "code",
   "execution_count": 17,
   "id": "a16eab89",
   "metadata": {},
   "outputs": [
    {
     "data": {
      "text/plain": [
       "{'user': 'prez.usa', 'domain': 'whitehouse', 'suffix': 'gov'}"
      ]
     },
     "execution_count": 17,
     "metadata": {},
     "output_type": "execute_result"
    }
   ],
   "source": [
    "match = email4.match('prez.usa@whitehouse.gov')\n",
    "match.groupdict()"
   ]
  },
  {
   "cell_type": "code",
   "execution_count": 18,
   "id": "12b14044",
   "metadata": {},
   "outputs": [
    {
     "ename": "SyntaxError",
     "evalue": "invalid syntax (353274537.py, line 1)",
     "output_type": "error",
     "traceback": [
      "\u001b[1;36m  Cell \u001b[1;32mIn[18], line 1\u001b[1;36m\u001b[0m\n\u001b[1;33m    install numpy\u001b[0m\n\u001b[1;37m            ^\u001b[0m\n\u001b[1;31mSyntaxError\u001b[0m\u001b[1;31m:\u001b[0m invalid syntax\n"
     ]
    }
   ],
   "source": [
    "install numpy"
   ]
  },
  {
   "cell_type": "code",
   "execution_count": 20,
   "id": "4ab05e0e",
   "metadata": {},
   "outputs": [
    {
     "data": {
      "text/plain": [
       "array([1, 2, 3, 4, 5, 6, 7, 8, 9])"
      ]
     },
     "execution_count": 20,
     "metadata": {},
     "output_type": "execute_result"
    }
   ],
   "source": [
    "import numpy as np\n",
    "x = np.arange(1,10)\n",
    "x"
   ]
  },
  {
   "cell_type": "code",
   "execution_count": 23,
   "id": "bbaafe93",
   "metadata": {},
   "outputs": [
    {
     "data": {
      "text/plain": [
       "array([ 1,  4,  9, 16, 25, 36, 49, 64, 81])"
      ]
     },
     "execution_count": 23,
     "metadata": {},
     "output_type": "execute_result"
    }
   ],
   "source": [
    "x ** 2"
   ]
  },
  {
   "cell_type": "code",
   "execution_count": 22,
   "id": "54d4f937",
   "metadata": {},
   "outputs": [
    {
     "data": {
      "text/plain": [
       "[1, 4, 9, 16, 25, 36, 49, 64, 81]"
      ]
     },
     "execution_count": 22,
     "metadata": {},
     "output_type": "execute_result"
    }
   ],
   "source": [
    "[val ** 2 for val in range(1,10)]"
   ]
  },
  {
   "cell_type": "code",
   "execution_count": 24,
   "id": "df6402e8",
   "metadata": {},
   "outputs": [
    {
     "data": {
      "text/plain": [
       "array([[1, 2, 3],\n",
       "       [4, 5, 6],\n",
       "       [7, 8, 9]])"
      ]
     },
     "execution_count": 24,
     "metadata": {},
     "output_type": "execute_result"
    }
   ],
   "source": [
    "M = x.reshape((3,3))\n",
    "M"
   ]
  },
  {
   "cell_type": "code",
   "execution_count": 25,
   "id": "5cdfb5a1",
   "metadata": {},
   "outputs": [
    {
     "data": {
      "text/plain": [
       "array([[1, 4, 7],\n",
       "       [2, 5, 8],\n",
       "       [3, 6, 9]])"
      ]
     },
     "execution_count": 25,
     "metadata": {},
     "output_type": "execute_result"
    }
   ],
   "source": [
    "M.T"
   ]
  },
  {
   "cell_type": "code",
   "execution_count": 26,
   "id": "d5fd98b7",
   "metadata": {},
   "outputs": [
    {
     "data": {
      "text/plain": [
       "array([ 38,  92, 146])"
      ]
     },
     "execution_count": 26,
     "metadata": {},
     "output_type": "execute_result"
    }
   ],
   "source": [
    "np.dot(M,[5,6,7])"
   ]
  },
  {
   "cell_type": "code",
   "execution_count": 27,
   "id": "51a887df",
   "metadata": {},
   "outputs": [
    {
     "data": {
      "text/plain": [
       "array([ 1.61168440e+01, -1.11684397e+00, -3.38433605e-16])"
      ]
     },
     "execution_count": 27,
     "metadata": {},
     "output_type": "execute_result"
    }
   ],
   "source": [
    "np.linalg.eigvals(M)"
   ]
  },
  {
   "cell_type": "code",
   "execution_count": 28,
   "id": "a310ad48",
   "metadata": {},
   "outputs": [],
   "source": [
    "# pandas\n",
    "# built on top of numpy\n",
    "# pandas provides a labeled interface to multi-dimensionsional data\n",
    "# in the form of a DatFrame object (like R)"
   ]
  },
  {
   "cell_type": "code",
   "execution_count": 29,
   "id": "c6d600af",
   "metadata": {},
   "outputs": [
    {
     "data": {
      "text/html": [
       "<div>\n",
       "<style scoped>\n",
       "    .dataframe tbody tr th:only-of-type {\n",
       "        vertical-align: middle;\n",
       "    }\n",
       "\n",
       "    .dataframe tbody tr th {\n",
       "        vertical-align: top;\n",
       "    }\n",
       "\n",
       "    .dataframe thead th {\n",
       "        text-align: right;\n",
       "    }\n",
       "</style>\n",
       "<table border=\"1\" class=\"dataframe\">\n",
       "  <thead>\n",
       "    <tr style=\"text-align: right;\">\n",
       "      <th></th>\n",
       "      <th>label</th>\n",
       "      <th>value</th>\n",
       "    </tr>\n",
       "  </thead>\n",
       "  <tbody>\n",
       "    <tr>\n",
       "      <th>0</th>\n",
       "      <td>A</td>\n",
       "      <td>1</td>\n",
       "    </tr>\n",
       "    <tr>\n",
       "      <th>1</th>\n",
       "      <td>B</td>\n",
       "      <td>2</td>\n",
       "    </tr>\n",
       "    <tr>\n",
       "      <th>2</th>\n",
       "      <td>C</td>\n",
       "      <td>3</td>\n",
       "    </tr>\n",
       "    <tr>\n",
       "      <th>3</th>\n",
       "      <td>A</td>\n",
       "      <td>4</td>\n",
       "    </tr>\n",
       "    <tr>\n",
       "      <th>4</th>\n",
       "      <td>B</td>\n",
       "      <td>5</td>\n",
       "    </tr>\n",
       "    <tr>\n",
       "      <th>5</th>\n",
       "      <td>C</td>\n",
       "      <td>6</td>\n",
       "    </tr>\n",
       "  </tbody>\n",
       "</table>\n",
       "</div>"
      ],
      "text/plain": [
       "  label  value\n",
       "0     A      1\n",
       "1     B      2\n",
       "2     C      3\n",
       "3     A      4\n",
       "4     B      5\n",
       "5     C      6"
      ]
     },
     "execution_count": 29,
     "metadata": {},
     "output_type": "execute_result"
    }
   ],
   "source": [
    "import pandas as pd\n",
    "df = pd.DataFrame({'label': ['A','B','C','A','B','C'],\n",
    "                  'value': [1,2,3,4,5,6,]})\n",
    "df"
   ]
  },
  {
   "cell_type": "code",
   "execution_count": 30,
   "id": "e3401360",
   "metadata": {},
   "outputs": [
    {
     "data": {
      "text/plain": [
       "0    A\n",
       "1    B\n",
       "2    C\n",
       "3    A\n",
       "4    B\n",
       "5    C\n",
       "Name: label, dtype: object"
      ]
     },
     "execution_count": 30,
     "metadata": {},
     "output_type": "execute_result"
    }
   ],
   "source": [
    "df['label']"
   ]
  },
  {
   "cell_type": "code",
   "execution_count": 31,
   "id": "5f6fc9a0",
   "metadata": {},
   "outputs": [
    {
     "data": {
      "text/plain": [
       "0    a\n",
       "1    b\n",
       "2    c\n",
       "3    a\n",
       "4    b\n",
       "5    c\n",
       "Name: label, dtype: object"
      ]
     },
     "execution_count": 31,
     "metadata": {},
     "output_type": "execute_result"
    }
   ],
   "source": [
    "df['label'].str.lower()"
   ]
  },
  {
   "cell_type": "code",
   "execution_count": 32,
   "id": "8bda9c77",
   "metadata": {},
   "outputs": [
    {
     "data": {
      "text/plain": [
       "21"
      ]
     },
     "execution_count": 32,
     "metadata": {},
     "output_type": "execute_result"
    }
   ],
   "source": [
    "df['value'].sum()"
   ]
  },
  {
   "cell_type": "code",
   "execution_count": 33,
   "id": "3fdb51c7",
   "metadata": {},
   "outputs": [
    {
     "data": {
      "text/html": [
       "<div>\n",
       "<style scoped>\n",
       "    .dataframe tbody tr th:only-of-type {\n",
       "        vertical-align: middle;\n",
       "    }\n",
       "\n",
       "    .dataframe tbody tr th {\n",
       "        vertical-align: top;\n",
       "    }\n",
       "\n",
       "    .dataframe thead th {\n",
       "        text-align: right;\n",
       "    }\n",
       "</style>\n",
       "<table border=\"1\" class=\"dataframe\">\n",
       "  <thead>\n",
       "    <tr style=\"text-align: right;\">\n",
       "      <th></th>\n",
       "      <th>value</th>\n",
       "    </tr>\n",
       "    <tr>\n",
       "      <th>label</th>\n",
       "      <th></th>\n",
       "    </tr>\n",
       "  </thead>\n",
       "  <tbody>\n",
       "    <tr>\n",
       "      <th>A</th>\n",
       "      <td>5</td>\n",
       "    </tr>\n",
       "    <tr>\n",
       "      <th>B</th>\n",
       "      <td>7</td>\n",
       "    </tr>\n",
       "    <tr>\n",
       "      <th>C</th>\n",
       "      <td>9</td>\n",
       "    </tr>\n",
       "  </tbody>\n",
       "</table>\n",
       "</div>"
      ],
      "text/plain": [
       "       value\n",
       "label       \n",
       "A          5\n",
       "B          7\n",
       "C          9"
      ]
     },
     "execution_count": 33,
     "metadata": {},
     "output_type": "execute_result"
    }
   ],
   "source": [
    "df.groupby('label').sum()"
   ]
  },
  {
   "cell_type": "code",
   "execution_count": 34,
   "id": "d2f4f994",
   "metadata": {},
   "outputs": [],
   "source": [
    "# matplotlib\n",
    "# run this if using jupyter notebook\n",
    "%matplotlib notebook"
   ]
  },
  {
   "cell_type": "code",
   "execution_count": 35,
   "id": "e49e1c66",
   "metadata": {},
   "outputs": [],
   "source": [
    "import matplotlib.pyplot as plt\n",
    "plt.style.use('ggplot') # makes graphs in the style of R's ggplot"
   ]
  },
  {
   "cell_type": "code",
   "execution_count": 36,
   "id": "782399c2",
   "metadata": {},
   "outputs": [
    {
     "data": {
      "application/javascript": [
       "/* Put everything inside the global mpl namespace */\n",
       "/* global mpl */\n",
       "window.mpl = {};\n",
       "\n",
       "mpl.get_websocket_type = function () {\n",
       "    if (typeof WebSocket !== 'undefined') {\n",
       "        return WebSocket;\n",
       "    } else if (typeof MozWebSocket !== 'undefined') {\n",
       "        return MozWebSocket;\n",
       "    } else {\n",
       "        alert(\n",
       "            'Your browser does not have WebSocket support. ' +\n",
       "                'Please try Chrome, Safari or Firefox ≥ 6. ' +\n",
       "                'Firefox 4 and 5 are also supported but you ' +\n",
       "                'have to enable WebSockets in about:config.'\n",
       "        );\n",
       "    }\n",
       "};\n",
       "\n",
       "mpl.figure = function (figure_id, websocket, ondownload, parent_element) {\n",
       "    this.id = figure_id;\n",
       "\n",
       "    this.ws = websocket;\n",
       "\n",
       "    this.supports_binary = this.ws.binaryType !== undefined;\n",
       "\n",
       "    if (!this.supports_binary) {\n",
       "        var warnings = document.getElementById('mpl-warnings');\n",
       "        if (warnings) {\n",
       "            warnings.style.display = 'block';\n",
       "            warnings.textContent =\n",
       "                'This browser does not support binary websocket messages. ' +\n",
       "                'Performance may be slow.';\n",
       "        }\n",
       "    }\n",
       "\n",
       "    this.imageObj = new Image();\n",
       "\n",
       "    this.context = undefined;\n",
       "    this.message = undefined;\n",
       "    this.canvas = undefined;\n",
       "    this.rubberband_canvas = undefined;\n",
       "    this.rubberband_context = undefined;\n",
       "    this.format_dropdown = undefined;\n",
       "\n",
       "    this.image_mode = 'full';\n",
       "\n",
       "    this.root = document.createElement('div');\n",
       "    this.root.setAttribute('style', 'display: inline-block');\n",
       "    this._root_extra_style(this.root);\n",
       "\n",
       "    parent_element.appendChild(this.root);\n",
       "\n",
       "    this._init_header(this);\n",
       "    this._init_canvas(this);\n",
       "    this._init_toolbar(this);\n",
       "\n",
       "    var fig = this;\n",
       "\n",
       "    this.waiting = false;\n",
       "\n",
       "    this.ws.onopen = function () {\n",
       "        fig.send_message('supports_binary', { value: fig.supports_binary });\n",
       "        fig.send_message('send_image_mode', {});\n",
       "        if (fig.ratio !== 1) {\n",
       "            fig.send_message('set_device_pixel_ratio', {\n",
       "                device_pixel_ratio: fig.ratio,\n",
       "            });\n",
       "        }\n",
       "        fig.send_message('refresh', {});\n",
       "    };\n",
       "\n",
       "    this.imageObj.onload = function () {\n",
       "        if (fig.image_mode === 'full') {\n",
       "            // Full images could contain transparency (where diff images\n",
       "            // almost always do), so we need to clear the canvas so that\n",
       "            // there is no ghosting.\n",
       "            fig.context.clearRect(0, 0, fig.canvas.width, fig.canvas.height);\n",
       "        }\n",
       "        fig.context.drawImage(fig.imageObj, 0, 0);\n",
       "    };\n",
       "\n",
       "    this.imageObj.onunload = function () {\n",
       "        fig.ws.close();\n",
       "    };\n",
       "\n",
       "    this.ws.onmessage = this._make_on_message_function(this);\n",
       "\n",
       "    this.ondownload = ondownload;\n",
       "};\n",
       "\n",
       "mpl.figure.prototype._init_header = function () {\n",
       "    var titlebar = document.createElement('div');\n",
       "    titlebar.classList =\n",
       "        'ui-dialog-titlebar ui-widget-header ui-corner-all ui-helper-clearfix';\n",
       "    var titletext = document.createElement('div');\n",
       "    titletext.classList = 'ui-dialog-title';\n",
       "    titletext.setAttribute(\n",
       "        'style',\n",
       "        'width: 100%; text-align: center; padding: 3px;'\n",
       "    );\n",
       "    titlebar.appendChild(titletext);\n",
       "    this.root.appendChild(titlebar);\n",
       "    this.header = titletext;\n",
       "};\n",
       "\n",
       "mpl.figure.prototype._canvas_extra_style = function (_canvas_div) {};\n",
       "\n",
       "mpl.figure.prototype._root_extra_style = function (_canvas_div) {};\n",
       "\n",
       "mpl.figure.prototype._init_canvas = function () {\n",
       "    var fig = this;\n",
       "\n",
       "    var canvas_div = (this.canvas_div = document.createElement('div'));\n",
       "    canvas_div.setAttribute('tabindex', '0');\n",
       "    canvas_div.setAttribute(\n",
       "        'style',\n",
       "        'border: 1px solid #ddd;' +\n",
       "            'box-sizing: content-box;' +\n",
       "            'clear: both;' +\n",
       "            'min-height: 1px;' +\n",
       "            'min-width: 1px;' +\n",
       "            'outline: 0;' +\n",
       "            'overflow: hidden;' +\n",
       "            'position: relative;' +\n",
       "            'resize: both;' +\n",
       "            'z-index: 2;'\n",
       "    );\n",
       "\n",
       "    function on_keyboard_event_closure(name) {\n",
       "        return function (event) {\n",
       "            return fig.key_event(event, name);\n",
       "        };\n",
       "    }\n",
       "\n",
       "    canvas_div.addEventListener(\n",
       "        'keydown',\n",
       "        on_keyboard_event_closure('key_press')\n",
       "    );\n",
       "    canvas_div.addEventListener(\n",
       "        'keyup',\n",
       "        on_keyboard_event_closure('key_release')\n",
       "    );\n",
       "\n",
       "    this._canvas_extra_style(canvas_div);\n",
       "    this.root.appendChild(canvas_div);\n",
       "\n",
       "    var canvas = (this.canvas = document.createElement('canvas'));\n",
       "    canvas.classList.add('mpl-canvas');\n",
       "    canvas.setAttribute(\n",
       "        'style',\n",
       "        'box-sizing: content-box;' +\n",
       "            'pointer-events: none;' +\n",
       "            'position: relative;' +\n",
       "            'z-index: 0;'\n",
       "    );\n",
       "\n",
       "    this.context = canvas.getContext('2d');\n",
       "\n",
       "    var backingStore =\n",
       "        this.context.backingStorePixelRatio ||\n",
       "        this.context.webkitBackingStorePixelRatio ||\n",
       "        this.context.mozBackingStorePixelRatio ||\n",
       "        this.context.msBackingStorePixelRatio ||\n",
       "        this.context.oBackingStorePixelRatio ||\n",
       "        this.context.backingStorePixelRatio ||\n",
       "        1;\n",
       "\n",
       "    this.ratio = (window.devicePixelRatio || 1) / backingStore;\n",
       "\n",
       "    var rubberband_canvas = (this.rubberband_canvas = document.createElement(\n",
       "        'canvas'\n",
       "    ));\n",
       "    rubberband_canvas.setAttribute(\n",
       "        'style',\n",
       "        'box-sizing: content-box;' +\n",
       "            'left: 0;' +\n",
       "            'pointer-events: none;' +\n",
       "            'position: absolute;' +\n",
       "            'top: 0;' +\n",
       "            'z-index: 1;'\n",
       "    );\n",
       "\n",
       "    // Apply a ponyfill if ResizeObserver is not implemented by browser.\n",
       "    if (this.ResizeObserver === undefined) {\n",
       "        if (window.ResizeObserver !== undefined) {\n",
       "            this.ResizeObserver = window.ResizeObserver;\n",
       "        } else {\n",
       "            var obs = _JSXTOOLS_RESIZE_OBSERVER({});\n",
       "            this.ResizeObserver = obs.ResizeObserver;\n",
       "        }\n",
       "    }\n",
       "\n",
       "    this.resizeObserverInstance = new this.ResizeObserver(function (entries) {\n",
       "        var nentries = entries.length;\n",
       "        for (var i = 0; i < nentries; i++) {\n",
       "            var entry = entries[i];\n",
       "            var width, height;\n",
       "            if (entry.contentBoxSize) {\n",
       "                if (entry.contentBoxSize instanceof Array) {\n",
       "                    // Chrome 84 implements new version of spec.\n",
       "                    width = entry.contentBoxSize[0].inlineSize;\n",
       "                    height = entry.contentBoxSize[0].blockSize;\n",
       "                } else {\n",
       "                    // Firefox implements old version of spec.\n",
       "                    width = entry.contentBoxSize.inlineSize;\n",
       "                    height = entry.contentBoxSize.blockSize;\n",
       "                }\n",
       "            } else {\n",
       "                // Chrome <84 implements even older version of spec.\n",
       "                width = entry.contentRect.width;\n",
       "                height = entry.contentRect.height;\n",
       "            }\n",
       "\n",
       "            // Keep the size of the canvas and rubber band canvas in sync with\n",
       "            // the canvas container.\n",
       "            if (entry.devicePixelContentBoxSize) {\n",
       "                // Chrome 84 implements new version of spec.\n",
       "                canvas.setAttribute(\n",
       "                    'width',\n",
       "                    entry.devicePixelContentBoxSize[0].inlineSize\n",
       "                );\n",
       "                canvas.setAttribute(\n",
       "                    'height',\n",
       "                    entry.devicePixelContentBoxSize[0].blockSize\n",
       "                );\n",
       "            } else {\n",
       "                canvas.setAttribute('width', width * fig.ratio);\n",
       "                canvas.setAttribute('height', height * fig.ratio);\n",
       "            }\n",
       "            /* This rescales the canvas back to display pixels, so that it\n",
       "             * appears correct on HiDPI screens. */\n",
       "            canvas.style.width = width + 'px';\n",
       "            canvas.style.height = height + 'px';\n",
       "\n",
       "            rubberband_canvas.setAttribute('width', width);\n",
       "            rubberband_canvas.setAttribute('height', height);\n",
       "\n",
       "            // And update the size in Python. We ignore the initial 0/0 size\n",
       "            // that occurs as the element is placed into the DOM, which should\n",
       "            // otherwise not happen due to the minimum size styling.\n",
       "            if (fig.ws.readyState == 1 && width != 0 && height != 0) {\n",
       "                fig.request_resize(width, height);\n",
       "            }\n",
       "        }\n",
       "    });\n",
       "    this.resizeObserverInstance.observe(canvas_div);\n",
       "\n",
       "    function on_mouse_event_closure(name) {\n",
       "        /* User Agent sniffing is bad, but WebKit is busted:\n",
       "         * https://bugs.webkit.org/show_bug.cgi?id=144526\n",
       "         * https://bugs.webkit.org/show_bug.cgi?id=181818\n",
       "         * The worst that happens here is that they get an extra browser\n",
       "         * selection when dragging, if this check fails to catch them.\n",
       "         */\n",
       "        var UA = navigator.userAgent;\n",
       "        var isWebKit = /AppleWebKit/.test(UA) && !/Chrome/.test(UA);\n",
       "        if(isWebKit) {\n",
       "            return function (event) {\n",
       "                /* This prevents the web browser from automatically changing to\n",
       "                 * the text insertion cursor when the button is pressed. We\n",
       "                 * want to control all of the cursor setting manually through\n",
       "                 * the 'cursor' event from matplotlib */\n",
       "                event.preventDefault()\n",
       "                return fig.mouse_event(event, name);\n",
       "            };\n",
       "        } else {\n",
       "            return function (event) {\n",
       "                return fig.mouse_event(event, name);\n",
       "            };\n",
       "        }\n",
       "    }\n",
       "\n",
       "    canvas_div.addEventListener(\n",
       "        'mousedown',\n",
       "        on_mouse_event_closure('button_press')\n",
       "    );\n",
       "    canvas_div.addEventListener(\n",
       "        'mouseup',\n",
       "        on_mouse_event_closure('button_release')\n",
       "    );\n",
       "    canvas_div.addEventListener(\n",
       "        'dblclick',\n",
       "        on_mouse_event_closure('dblclick')\n",
       "    );\n",
       "    // Throttle sequential mouse events to 1 every 20ms.\n",
       "    canvas_div.addEventListener(\n",
       "        'mousemove',\n",
       "        on_mouse_event_closure('motion_notify')\n",
       "    );\n",
       "\n",
       "    canvas_div.addEventListener(\n",
       "        'mouseenter',\n",
       "        on_mouse_event_closure('figure_enter')\n",
       "    );\n",
       "    canvas_div.addEventListener(\n",
       "        'mouseleave',\n",
       "        on_mouse_event_closure('figure_leave')\n",
       "    );\n",
       "\n",
       "    canvas_div.addEventListener('wheel', function (event) {\n",
       "        if (event.deltaY < 0) {\n",
       "            event.step = 1;\n",
       "        } else {\n",
       "            event.step = -1;\n",
       "        }\n",
       "        on_mouse_event_closure('scroll')(event);\n",
       "    });\n",
       "\n",
       "    canvas_div.appendChild(canvas);\n",
       "    canvas_div.appendChild(rubberband_canvas);\n",
       "\n",
       "    this.rubberband_context = rubberband_canvas.getContext('2d');\n",
       "    this.rubberband_context.strokeStyle = '#000000';\n",
       "\n",
       "    this._resize_canvas = function (width, height, forward) {\n",
       "        if (forward) {\n",
       "            canvas_div.style.width = width + 'px';\n",
       "            canvas_div.style.height = height + 'px';\n",
       "        }\n",
       "    };\n",
       "\n",
       "    // Disable right mouse context menu.\n",
       "    canvas_div.addEventListener('contextmenu', function (_e) {\n",
       "        event.preventDefault();\n",
       "        return false;\n",
       "    });\n",
       "\n",
       "    function set_focus() {\n",
       "        canvas.focus();\n",
       "        canvas_div.focus();\n",
       "    }\n",
       "\n",
       "    window.setTimeout(set_focus, 100);\n",
       "};\n",
       "\n",
       "mpl.figure.prototype._init_toolbar = function () {\n",
       "    var fig = this;\n",
       "\n",
       "    var toolbar = document.createElement('div');\n",
       "    toolbar.classList = 'mpl-toolbar';\n",
       "    this.root.appendChild(toolbar);\n",
       "\n",
       "    function on_click_closure(name) {\n",
       "        return function (_event) {\n",
       "            return fig.toolbar_button_onclick(name);\n",
       "        };\n",
       "    }\n",
       "\n",
       "    function on_mouseover_closure(tooltip) {\n",
       "        return function (event) {\n",
       "            if (!event.currentTarget.disabled) {\n",
       "                return fig.toolbar_button_onmouseover(tooltip);\n",
       "            }\n",
       "        };\n",
       "    }\n",
       "\n",
       "    fig.buttons = {};\n",
       "    var buttonGroup = document.createElement('div');\n",
       "    buttonGroup.classList = 'mpl-button-group';\n",
       "    for (var toolbar_ind in mpl.toolbar_items) {\n",
       "        var name = mpl.toolbar_items[toolbar_ind][0];\n",
       "        var tooltip = mpl.toolbar_items[toolbar_ind][1];\n",
       "        var image = mpl.toolbar_items[toolbar_ind][2];\n",
       "        var method_name = mpl.toolbar_items[toolbar_ind][3];\n",
       "\n",
       "        if (!name) {\n",
       "            /* Instead of a spacer, we start a new button group. */\n",
       "            if (buttonGroup.hasChildNodes()) {\n",
       "                toolbar.appendChild(buttonGroup);\n",
       "            }\n",
       "            buttonGroup = document.createElement('div');\n",
       "            buttonGroup.classList = 'mpl-button-group';\n",
       "            continue;\n",
       "        }\n",
       "\n",
       "        var button = (fig.buttons[name] = document.createElement('button'));\n",
       "        button.classList = 'mpl-widget';\n",
       "        button.setAttribute('role', 'button');\n",
       "        button.setAttribute('aria-disabled', 'false');\n",
       "        button.addEventListener('click', on_click_closure(method_name));\n",
       "        button.addEventListener('mouseover', on_mouseover_closure(tooltip));\n",
       "\n",
       "        var icon_img = document.createElement('img');\n",
       "        icon_img.src = '_images/' + image + '.png';\n",
       "        icon_img.srcset = '_images/' + image + '_large.png 2x';\n",
       "        icon_img.alt = tooltip;\n",
       "        button.appendChild(icon_img);\n",
       "\n",
       "        buttonGroup.appendChild(button);\n",
       "    }\n",
       "\n",
       "    if (buttonGroup.hasChildNodes()) {\n",
       "        toolbar.appendChild(buttonGroup);\n",
       "    }\n",
       "\n",
       "    var fmt_picker = document.createElement('select');\n",
       "    fmt_picker.classList = 'mpl-widget';\n",
       "    toolbar.appendChild(fmt_picker);\n",
       "    this.format_dropdown = fmt_picker;\n",
       "\n",
       "    for (var ind in mpl.extensions) {\n",
       "        var fmt = mpl.extensions[ind];\n",
       "        var option = document.createElement('option');\n",
       "        option.selected = fmt === mpl.default_extension;\n",
       "        option.innerHTML = fmt;\n",
       "        fmt_picker.appendChild(option);\n",
       "    }\n",
       "\n",
       "    var status_bar = document.createElement('span');\n",
       "    status_bar.classList = 'mpl-message';\n",
       "    toolbar.appendChild(status_bar);\n",
       "    this.message = status_bar;\n",
       "};\n",
       "\n",
       "mpl.figure.prototype.request_resize = function (x_pixels, y_pixels) {\n",
       "    // Request matplotlib to resize the figure. Matplotlib will then trigger a resize in the client,\n",
       "    // which will in turn request a refresh of the image.\n",
       "    this.send_message('resize', { width: x_pixels, height: y_pixels });\n",
       "};\n",
       "\n",
       "mpl.figure.prototype.send_message = function (type, properties) {\n",
       "    properties['type'] = type;\n",
       "    properties['figure_id'] = this.id;\n",
       "    this.ws.send(JSON.stringify(properties));\n",
       "};\n",
       "\n",
       "mpl.figure.prototype.send_draw_message = function () {\n",
       "    if (!this.waiting) {\n",
       "        this.waiting = true;\n",
       "        this.ws.send(JSON.stringify({ type: 'draw', figure_id: this.id }));\n",
       "    }\n",
       "};\n",
       "\n",
       "mpl.figure.prototype.handle_save = function (fig, _msg) {\n",
       "    var format_dropdown = fig.format_dropdown;\n",
       "    var format = format_dropdown.options[format_dropdown.selectedIndex].value;\n",
       "    fig.ondownload(fig, format);\n",
       "};\n",
       "\n",
       "mpl.figure.prototype.handle_resize = function (fig, msg) {\n",
       "    var size = msg['size'];\n",
       "    if (size[0] !== fig.canvas.width || size[1] !== fig.canvas.height) {\n",
       "        fig._resize_canvas(size[0], size[1], msg['forward']);\n",
       "        fig.send_message('refresh', {});\n",
       "    }\n",
       "};\n",
       "\n",
       "mpl.figure.prototype.handle_rubberband = function (fig, msg) {\n",
       "    var x0 = msg['x0'] / fig.ratio;\n",
       "    var y0 = (fig.canvas.height - msg['y0']) / fig.ratio;\n",
       "    var x1 = msg['x1'] / fig.ratio;\n",
       "    var y1 = (fig.canvas.height - msg['y1']) / fig.ratio;\n",
       "    x0 = Math.floor(x0) + 0.5;\n",
       "    y0 = Math.floor(y0) + 0.5;\n",
       "    x1 = Math.floor(x1) + 0.5;\n",
       "    y1 = Math.floor(y1) + 0.5;\n",
       "    var min_x = Math.min(x0, x1);\n",
       "    var min_y = Math.min(y0, y1);\n",
       "    var width = Math.abs(x1 - x0);\n",
       "    var height = Math.abs(y1 - y0);\n",
       "\n",
       "    fig.rubberband_context.clearRect(\n",
       "        0,\n",
       "        0,\n",
       "        fig.canvas.width / fig.ratio,\n",
       "        fig.canvas.height / fig.ratio\n",
       "    );\n",
       "\n",
       "    fig.rubberband_context.strokeRect(min_x, min_y, width, height);\n",
       "};\n",
       "\n",
       "mpl.figure.prototype.handle_figure_label = function (fig, msg) {\n",
       "    // Updates the figure title.\n",
       "    fig.header.textContent = msg['label'];\n",
       "};\n",
       "\n",
       "mpl.figure.prototype.handle_cursor = function (fig, msg) {\n",
       "    fig.canvas_div.style.cursor = msg['cursor'];\n",
       "};\n",
       "\n",
       "mpl.figure.prototype.handle_message = function (fig, msg) {\n",
       "    fig.message.textContent = msg['message'];\n",
       "};\n",
       "\n",
       "mpl.figure.prototype.handle_draw = function (fig, _msg) {\n",
       "    // Request the server to send over a new figure.\n",
       "    fig.send_draw_message();\n",
       "};\n",
       "\n",
       "mpl.figure.prototype.handle_image_mode = function (fig, msg) {\n",
       "    fig.image_mode = msg['mode'];\n",
       "};\n",
       "\n",
       "mpl.figure.prototype.handle_history_buttons = function (fig, msg) {\n",
       "    for (var key in msg) {\n",
       "        if (!(key in fig.buttons)) {\n",
       "            continue;\n",
       "        }\n",
       "        fig.buttons[key].disabled = !msg[key];\n",
       "        fig.buttons[key].setAttribute('aria-disabled', !msg[key]);\n",
       "    }\n",
       "};\n",
       "\n",
       "mpl.figure.prototype.handle_navigate_mode = function (fig, msg) {\n",
       "    if (msg['mode'] === 'PAN') {\n",
       "        fig.buttons['Pan'].classList.add('active');\n",
       "        fig.buttons['Zoom'].classList.remove('active');\n",
       "    } else if (msg['mode'] === 'ZOOM') {\n",
       "        fig.buttons['Pan'].classList.remove('active');\n",
       "        fig.buttons['Zoom'].classList.add('active');\n",
       "    } else {\n",
       "        fig.buttons['Pan'].classList.remove('active');\n",
       "        fig.buttons['Zoom'].classList.remove('active');\n",
       "    }\n",
       "};\n",
       "\n",
       "mpl.figure.prototype.updated_canvas_event = function () {\n",
       "    // Called whenever the canvas gets updated.\n",
       "    this.send_message('ack', {});\n",
       "};\n",
       "\n",
       "// A function to construct a web socket function for onmessage handling.\n",
       "// Called in the figure constructor.\n",
       "mpl.figure.prototype._make_on_message_function = function (fig) {\n",
       "    return function socket_on_message(evt) {\n",
       "        if (evt.data instanceof Blob) {\n",
       "            var img = evt.data;\n",
       "            if (img.type !== 'image/png') {\n",
       "                /* FIXME: We get \"Resource interpreted as Image but\n",
       "                 * transferred with MIME type text/plain:\" errors on\n",
       "                 * Chrome.  But how to set the MIME type?  It doesn't seem\n",
       "                 * to be part of the websocket stream */\n",
       "                img.type = 'image/png';\n",
       "            }\n",
       "\n",
       "            /* Free the memory for the previous frames */\n",
       "            if (fig.imageObj.src) {\n",
       "                (window.URL || window.webkitURL).revokeObjectURL(\n",
       "                    fig.imageObj.src\n",
       "                );\n",
       "            }\n",
       "\n",
       "            fig.imageObj.src = (window.URL || window.webkitURL).createObjectURL(\n",
       "                img\n",
       "            );\n",
       "            fig.updated_canvas_event();\n",
       "            fig.waiting = false;\n",
       "            return;\n",
       "        } else if (\n",
       "            typeof evt.data === 'string' &&\n",
       "            evt.data.slice(0, 21) === 'data:image/png;base64'\n",
       "        ) {\n",
       "            fig.imageObj.src = evt.data;\n",
       "            fig.updated_canvas_event();\n",
       "            fig.waiting = false;\n",
       "            return;\n",
       "        }\n",
       "\n",
       "        var msg = JSON.parse(evt.data);\n",
       "        var msg_type = msg['type'];\n",
       "\n",
       "        // Call the  \"handle_{type}\" callback, which takes\n",
       "        // the figure and JSON message as its only arguments.\n",
       "        try {\n",
       "            var callback = fig['handle_' + msg_type];\n",
       "        } catch (e) {\n",
       "            console.log(\n",
       "                \"No handler for the '\" + msg_type + \"' message type: \",\n",
       "                msg\n",
       "            );\n",
       "            return;\n",
       "        }\n",
       "\n",
       "        if (callback) {\n",
       "            try {\n",
       "                // console.log(\"Handling '\" + msg_type + \"' message: \", msg);\n",
       "                callback(fig, msg);\n",
       "            } catch (e) {\n",
       "                console.log(\n",
       "                    \"Exception inside the 'handler_\" + msg_type + \"' callback:\",\n",
       "                    e,\n",
       "                    e.stack,\n",
       "                    msg\n",
       "                );\n",
       "            }\n",
       "        }\n",
       "    };\n",
       "};\n",
       "\n",
       "function getModifiers(event) {\n",
       "    var mods = [];\n",
       "    if (event.ctrlKey) {\n",
       "        mods.push('ctrl');\n",
       "    }\n",
       "    if (event.altKey) {\n",
       "        mods.push('alt');\n",
       "    }\n",
       "    if (event.shiftKey) {\n",
       "        mods.push('shift');\n",
       "    }\n",
       "    if (event.metaKey) {\n",
       "        mods.push('meta');\n",
       "    }\n",
       "    return mods;\n",
       "}\n",
       "\n",
       "/*\n",
       " * return a copy of an object with only non-object keys\n",
       " * we need this to avoid circular references\n",
       " * https://stackoverflow.com/a/24161582/3208463\n",
       " */\n",
       "function simpleKeys(original) {\n",
       "    return Object.keys(original).reduce(function (obj, key) {\n",
       "        if (typeof original[key] !== 'object') {\n",
       "            obj[key] = original[key];\n",
       "        }\n",
       "        return obj;\n",
       "    }, {});\n",
       "}\n",
       "\n",
       "mpl.figure.prototype.mouse_event = function (event, name) {\n",
       "    if (name === 'button_press') {\n",
       "        this.canvas.focus();\n",
       "        this.canvas_div.focus();\n",
       "    }\n",
       "\n",
       "    // from https://stackoverflow.com/q/1114465\n",
       "    var boundingRect = this.canvas.getBoundingClientRect();\n",
       "    var x = (event.clientX - boundingRect.left) * this.ratio;\n",
       "    var y = (event.clientY - boundingRect.top) * this.ratio;\n",
       "\n",
       "    this.send_message(name, {\n",
       "        x: x,\n",
       "        y: y,\n",
       "        button: event.button,\n",
       "        step: event.step,\n",
       "        modifiers: getModifiers(event),\n",
       "        guiEvent: simpleKeys(event),\n",
       "    });\n",
       "\n",
       "    return false;\n",
       "};\n",
       "\n",
       "mpl.figure.prototype._key_event_extra = function (_event, _name) {\n",
       "    // Handle any extra behaviour associated with a key event\n",
       "};\n",
       "\n",
       "mpl.figure.prototype.key_event = function (event, name) {\n",
       "    // Prevent repeat events\n",
       "    if (name === 'key_press') {\n",
       "        if (event.key === this._key) {\n",
       "            return;\n",
       "        } else {\n",
       "            this._key = event.key;\n",
       "        }\n",
       "    }\n",
       "    if (name === 'key_release') {\n",
       "        this._key = null;\n",
       "    }\n",
       "\n",
       "    var value = '';\n",
       "    if (event.ctrlKey && event.key !== 'Control') {\n",
       "        value += 'ctrl+';\n",
       "    }\n",
       "    else if (event.altKey && event.key !== 'Alt') {\n",
       "        value += 'alt+';\n",
       "    }\n",
       "    else if (event.shiftKey && event.key !== 'Shift') {\n",
       "        value += 'shift+';\n",
       "    }\n",
       "\n",
       "    value += 'k' + event.key;\n",
       "\n",
       "    this._key_event_extra(event, name);\n",
       "\n",
       "    this.send_message(name, { key: value, guiEvent: simpleKeys(event) });\n",
       "    return false;\n",
       "};\n",
       "\n",
       "mpl.figure.prototype.toolbar_button_onclick = function (name) {\n",
       "    if (name === 'download') {\n",
       "        this.handle_save(this, null);\n",
       "    } else {\n",
       "        this.send_message('toolbar_button', { name: name });\n",
       "    }\n",
       "};\n",
       "\n",
       "mpl.figure.prototype.toolbar_button_onmouseover = function (tooltip) {\n",
       "    this.message.textContent = tooltip;\n",
       "};\n",
       "\n",
       "///////////////// REMAINING CONTENT GENERATED BY embed_js.py /////////////////\n",
       "// prettier-ignore\n",
       "var _JSXTOOLS_RESIZE_OBSERVER=function(A){var t,i=new WeakMap,n=new WeakMap,a=new WeakMap,r=new WeakMap,o=new Set;function s(e){if(!(this instanceof s))throw new TypeError(\"Constructor requires 'new' operator\");i.set(this,e)}function h(){throw new TypeError(\"Function is not a constructor\")}function c(e,t,i,n){e=0 in arguments?Number(arguments[0]):0,t=1 in arguments?Number(arguments[1]):0,i=2 in arguments?Number(arguments[2]):0,n=3 in arguments?Number(arguments[3]):0,this.right=(this.x=this.left=e)+(this.width=i),this.bottom=(this.y=this.top=t)+(this.height=n),Object.freeze(this)}function d(){t=requestAnimationFrame(d);var s=new WeakMap,p=new Set;o.forEach((function(t){r.get(t).forEach((function(i){var r=t instanceof window.SVGElement,o=a.get(t),d=r?0:parseFloat(o.paddingTop),f=r?0:parseFloat(o.paddingRight),l=r?0:parseFloat(o.paddingBottom),u=r?0:parseFloat(o.paddingLeft),g=r?0:parseFloat(o.borderTopWidth),m=r?0:parseFloat(o.borderRightWidth),w=r?0:parseFloat(o.borderBottomWidth),b=u+f,F=d+l,v=(r?0:parseFloat(o.borderLeftWidth))+m,W=g+w,y=r?0:t.offsetHeight-W-t.clientHeight,E=r?0:t.offsetWidth-v-t.clientWidth,R=b+v,z=F+W,M=r?t.width:parseFloat(o.width)-R-E,O=r?t.height:parseFloat(o.height)-z-y;if(n.has(t)){var k=n.get(t);if(k[0]===M&&k[1]===O)return}n.set(t,[M,O]);var S=Object.create(h.prototype);S.target=t,S.contentRect=new c(u,d,M,O),s.has(i)||(s.set(i,[]),p.add(i)),s.get(i).push(S)}))})),p.forEach((function(e){i.get(e).call(e,s.get(e),e)}))}return s.prototype.observe=function(i){if(i instanceof window.Element){r.has(i)||(r.set(i,new Set),o.add(i),a.set(i,window.getComputedStyle(i)));var n=r.get(i);n.has(this)||n.add(this),cancelAnimationFrame(t),t=requestAnimationFrame(d)}},s.prototype.unobserve=function(i){if(i instanceof window.Element&&r.has(i)){var n=r.get(i);n.has(this)&&(n.delete(this),n.size||(r.delete(i),o.delete(i))),n.size||r.delete(i),o.size||cancelAnimationFrame(t)}},A.DOMRectReadOnly=c,A.ResizeObserver=s,A.ResizeObserverEntry=h,A}; // eslint-disable-line\n",
       "mpl.toolbar_items = [[\"Home\", \"Reset original view\", \"fa fa-home\", \"home\"], [\"Back\", \"Back to previous view\", \"fa fa-arrow-left\", \"back\"], [\"Forward\", \"Forward to next view\", \"fa fa-arrow-right\", \"forward\"], [\"\", \"\", \"\", \"\"], [\"Pan\", \"Left button pans, Right button zooms\\nx/y fixes axis, CTRL fixes aspect\", \"fa fa-arrows\", \"pan\"], [\"Zoom\", \"Zoom to rectangle\\nx/y fixes axis\", \"fa fa-square-o\", \"zoom\"], [\"\", \"\", \"\", \"\"], [\"Download\", \"Download plot\", \"fa fa-floppy-o\", \"download\"]];\n",
       "\n",
       "mpl.extensions = [\"eps\", \"jpeg\", \"pgf\", \"pdf\", \"png\", \"ps\", \"raw\", \"svg\", \"tif\", \"webp\"];\n",
       "\n",
       "mpl.default_extension = \"png\";/* global mpl */\n",
       "\n",
       "var comm_websocket_adapter = function (comm) {\n",
       "    // Create a \"websocket\"-like object which calls the given IPython comm\n",
       "    // object with the appropriate methods. Currently this is a non binary\n",
       "    // socket, so there is still some room for performance tuning.\n",
       "    var ws = {};\n",
       "\n",
       "    ws.binaryType = comm.kernel.ws.binaryType;\n",
       "    ws.readyState = comm.kernel.ws.readyState;\n",
       "    function updateReadyState(_event) {\n",
       "        if (comm.kernel.ws) {\n",
       "            ws.readyState = comm.kernel.ws.readyState;\n",
       "        } else {\n",
       "            ws.readyState = 3; // Closed state.\n",
       "        }\n",
       "    }\n",
       "    comm.kernel.ws.addEventListener('open', updateReadyState);\n",
       "    comm.kernel.ws.addEventListener('close', updateReadyState);\n",
       "    comm.kernel.ws.addEventListener('error', updateReadyState);\n",
       "\n",
       "    ws.close = function () {\n",
       "        comm.close();\n",
       "    };\n",
       "    ws.send = function (m) {\n",
       "        //console.log('sending', m);\n",
       "        comm.send(m);\n",
       "    };\n",
       "    // Register the callback with on_msg.\n",
       "    comm.on_msg(function (msg) {\n",
       "        //console.log('receiving', msg['content']['data'], msg);\n",
       "        var data = msg['content']['data'];\n",
       "        if (data['blob'] !== undefined) {\n",
       "            data = {\n",
       "                data: new Blob(msg['buffers'], { type: data['blob'] }),\n",
       "            };\n",
       "        }\n",
       "        // Pass the mpl event to the overridden (by mpl) onmessage function.\n",
       "        ws.onmessage(data);\n",
       "    });\n",
       "    return ws;\n",
       "};\n",
       "\n",
       "mpl.mpl_figure_comm = function (comm, msg) {\n",
       "    // This is the function which gets called when the mpl process\n",
       "    // starts-up an IPython Comm through the \"matplotlib\" channel.\n",
       "\n",
       "    var id = msg.content.data.id;\n",
       "    // Get hold of the div created by the display call when the Comm\n",
       "    // socket was opened in Python.\n",
       "    var element = document.getElementById(id);\n",
       "    var ws_proxy = comm_websocket_adapter(comm);\n",
       "\n",
       "    function ondownload(figure, _format) {\n",
       "        window.open(figure.canvas.toDataURL());\n",
       "    }\n",
       "\n",
       "    var fig = new mpl.figure(id, ws_proxy, ondownload, element);\n",
       "\n",
       "    // Call onopen now - mpl needs it, as it is assuming we've passed it a real\n",
       "    // web socket which is closed, not our websocket->open comm proxy.\n",
       "    ws_proxy.onopen();\n",
       "\n",
       "    fig.parent_element = element;\n",
       "    fig.cell_info = mpl.find_output_cell(\"<div id='\" + id + \"'></div>\");\n",
       "    if (!fig.cell_info) {\n",
       "        console.error('Failed to find cell for figure', id, fig);\n",
       "        return;\n",
       "    }\n",
       "    fig.cell_info[0].output_area.element.on(\n",
       "        'cleared',\n",
       "        { fig: fig },\n",
       "        fig._remove_fig_handler\n",
       "    );\n",
       "};\n",
       "\n",
       "mpl.figure.prototype.handle_close = function (fig, msg) {\n",
       "    var width = fig.canvas.width / fig.ratio;\n",
       "    fig.cell_info[0].output_area.element.off(\n",
       "        'cleared',\n",
       "        fig._remove_fig_handler\n",
       "    );\n",
       "    fig.resizeObserverInstance.unobserve(fig.canvas_div);\n",
       "\n",
       "    // Update the output cell to use the data from the current canvas.\n",
       "    fig.push_to_output();\n",
       "    var dataURL = fig.canvas.toDataURL();\n",
       "    // Re-enable the keyboard manager in IPython - without this line, in FF,\n",
       "    // the notebook keyboard shortcuts fail.\n",
       "    IPython.keyboard_manager.enable();\n",
       "    fig.parent_element.innerHTML =\n",
       "        '<img src=\"' + dataURL + '\" width=\"' + width + '\">';\n",
       "    fig.close_ws(fig, msg);\n",
       "};\n",
       "\n",
       "mpl.figure.prototype.close_ws = function (fig, msg) {\n",
       "    fig.send_message('closing', msg);\n",
       "    // fig.ws.close()\n",
       "};\n",
       "\n",
       "mpl.figure.prototype.push_to_output = function (_remove_interactive) {\n",
       "    // Turn the data on the canvas into data in the output cell.\n",
       "    var width = this.canvas.width / this.ratio;\n",
       "    var dataURL = this.canvas.toDataURL();\n",
       "    this.cell_info[1]['text/html'] =\n",
       "        '<img src=\"' + dataURL + '\" width=\"' + width + '\">';\n",
       "};\n",
       "\n",
       "mpl.figure.prototype.updated_canvas_event = function () {\n",
       "    // Tell IPython that the notebook contents must change.\n",
       "    IPython.notebook.set_dirty(true);\n",
       "    this.send_message('ack', {});\n",
       "    var fig = this;\n",
       "    // Wait a second, then push the new image to the DOM so\n",
       "    // that it is saved nicely (might be nice to debounce this).\n",
       "    setTimeout(function () {\n",
       "        fig.push_to_output();\n",
       "    }, 1000);\n",
       "};\n",
       "\n",
       "mpl.figure.prototype._init_toolbar = function () {\n",
       "    var fig = this;\n",
       "\n",
       "    var toolbar = document.createElement('div');\n",
       "    toolbar.classList = 'btn-toolbar';\n",
       "    this.root.appendChild(toolbar);\n",
       "\n",
       "    function on_click_closure(name) {\n",
       "        return function (_event) {\n",
       "            return fig.toolbar_button_onclick(name);\n",
       "        };\n",
       "    }\n",
       "\n",
       "    function on_mouseover_closure(tooltip) {\n",
       "        return function (event) {\n",
       "            if (!event.currentTarget.disabled) {\n",
       "                return fig.toolbar_button_onmouseover(tooltip);\n",
       "            }\n",
       "        };\n",
       "    }\n",
       "\n",
       "    fig.buttons = {};\n",
       "    var buttonGroup = document.createElement('div');\n",
       "    buttonGroup.classList = 'btn-group';\n",
       "    var button;\n",
       "    for (var toolbar_ind in mpl.toolbar_items) {\n",
       "        var name = mpl.toolbar_items[toolbar_ind][0];\n",
       "        var tooltip = mpl.toolbar_items[toolbar_ind][1];\n",
       "        var image = mpl.toolbar_items[toolbar_ind][2];\n",
       "        var method_name = mpl.toolbar_items[toolbar_ind][3];\n",
       "\n",
       "        if (!name) {\n",
       "            /* Instead of a spacer, we start a new button group. */\n",
       "            if (buttonGroup.hasChildNodes()) {\n",
       "                toolbar.appendChild(buttonGroup);\n",
       "            }\n",
       "            buttonGroup = document.createElement('div');\n",
       "            buttonGroup.classList = 'btn-group';\n",
       "            continue;\n",
       "        }\n",
       "\n",
       "        button = fig.buttons[name] = document.createElement('button');\n",
       "        button.classList = 'btn btn-default';\n",
       "        button.href = '#';\n",
       "        button.title = name;\n",
       "        button.innerHTML = '<i class=\"fa ' + image + ' fa-lg\"></i>';\n",
       "        button.addEventListener('click', on_click_closure(method_name));\n",
       "        button.addEventListener('mouseover', on_mouseover_closure(tooltip));\n",
       "        buttonGroup.appendChild(button);\n",
       "    }\n",
       "\n",
       "    if (buttonGroup.hasChildNodes()) {\n",
       "        toolbar.appendChild(buttonGroup);\n",
       "    }\n",
       "\n",
       "    // Add the status bar.\n",
       "    var status_bar = document.createElement('span');\n",
       "    status_bar.classList = 'mpl-message pull-right';\n",
       "    toolbar.appendChild(status_bar);\n",
       "    this.message = status_bar;\n",
       "\n",
       "    // Add the close button to the window.\n",
       "    var buttongrp = document.createElement('div');\n",
       "    buttongrp.classList = 'btn-group inline pull-right';\n",
       "    button = document.createElement('button');\n",
       "    button.classList = 'btn btn-mini btn-primary';\n",
       "    button.href = '#';\n",
       "    button.title = 'Stop Interaction';\n",
       "    button.innerHTML = '<i class=\"fa fa-power-off icon-remove icon-large\"></i>';\n",
       "    button.addEventListener('click', function (_evt) {\n",
       "        fig.handle_close(fig, {});\n",
       "    });\n",
       "    button.addEventListener(\n",
       "        'mouseover',\n",
       "        on_mouseover_closure('Stop Interaction')\n",
       "    );\n",
       "    buttongrp.appendChild(button);\n",
       "    var titlebar = this.root.querySelector('.ui-dialog-titlebar');\n",
       "    titlebar.insertBefore(buttongrp, titlebar.firstChild);\n",
       "};\n",
       "\n",
       "mpl.figure.prototype._remove_fig_handler = function (event) {\n",
       "    var fig = event.data.fig;\n",
       "    if (event.target !== this) {\n",
       "        // Ignore bubbled events from children.\n",
       "        return;\n",
       "    }\n",
       "    fig.close_ws(fig, {});\n",
       "};\n",
       "\n",
       "mpl.figure.prototype._root_extra_style = function (el) {\n",
       "    el.style.boxSizing = 'content-box'; // override notebook setting of border-box.\n",
       "};\n",
       "\n",
       "mpl.figure.prototype._canvas_extra_style = function (el) {\n",
       "    // this is important to make the div 'focusable\n",
       "    el.setAttribute('tabindex', 0);\n",
       "    // reach out to IPython and tell the keyboard manager to turn it's self\n",
       "    // off when our div gets focus\n",
       "\n",
       "    // location in version 3\n",
       "    if (IPython.notebook.keyboard_manager) {\n",
       "        IPython.notebook.keyboard_manager.register_events(el);\n",
       "    } else {\n",
       "        // location in version 2\n",
       "        IPython.keyboard_manager.register_events(el);\n",
       "    }\n",
       "};\n",
       "\n",
       "mpl.figure.prototype._key_event_extra = function (event, _name) {\n",
       "    // Check for shift+enter\n",
       "    if (event.shiftKey && event.which === 13) {\n",
       "        this.canvas_div.blur();\n",
       "        // select the cell after this one\n",
       "        var index = IPython.notebook.find_cell_index(this.cell_info[0]);\n",
       "        IPython.notebook.select(index + 1);\n",
       "    }\n",
       "};\n",
       "\n",
       "mpl.figure.prototype.handle_save = function (fig, _msg) {\n",
       "    fig.ondownload(fig, null);\n",
       "};\n",
       "\n",
       "mpl.find_output_cell = function (html_output) {\n",
       "    // Return the cell and output element which can be found *uniquely* in the notebook.\n",
       "    // Note - this is a bit hacky, but it is done because the \"notebook_saving.Notebook\"\n",
       "    // IPython event is triggered only after the cells have been serialised, which for\n",
       "    // our purposes (turning an active figure into a static one), is too late.\n",
       "    var cells = IPython.notebook.get_cells();\n",
       "    var ncells = cells.length;\n",
       "    for (var i = 0; i < ncells; i++) {\n",
       "        var cell = cells[i];\n",
       "        if (cell.cell_type === 'code') {\n",
       "            for (var j = 0; j < cell.output_area.outputs.length; j++) {\n",
       "                var data = cell.output_area.outputs[j];\n",
       "                if (data.data) {\n",
       "                    // IPython >= 3 moved mimebundle to data attribute of output\n",
       "                    data = data.data;\n",
       "                }\n",
       "                if (data['text/html'] === html_output) {\n",
       "                    return [cell, data, j];\n",
       "                }\n",
       "            }\n",
       "        }\n",
       "    }\n",
       "};\n",
       "\n",
       "// Register the function which deals with the matplotlib target/channel.\n",
       "// The kernel may be null if the page has been refreshed.\n",
       "if (IPython.notebook.kernel !== null) {\n",
       "    IPython.notebook.kernel.comm_manager.register_target(\n",
       "        'matplotlib',\n",
       "        mpl.mpl_figure_comm\n",
       "    );\n",
       "}\n"
      ],
      "text/plain": [
       "<IPython.core.display.Javascript object>"
      ]
     },
     "metadata": {},
     "output_type": "display_data"
    },
    {
     "data": {
      "text/html": [
       "<img src=\"data:image/png;base64,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\" width=\"640\">"
      ],
      "text/plain": [
       "<IPython.core.display.HTML object>"
      ]
     },
     "metadata": {},
     "output_type": "display_data"
    }
   ],
   "source": [
    "# create data (as numpy arrays) and plot results\n",
    "x = np.linspace(0,10) # range of values from 0 to 10\n",
    "y = np.sin(x) # sin of those values\n",
    "plt.plot(x,y); # plot as a line"
   ]
  },
  {
   "cell_type": "code",
   "execution_count": 37,
   "id": "38e1e955",
   "metadata": {},
   "outputs": [],
   "source": [
    "# scipy has a library of numerical computation packages\n",
    "\n",
    "    # scipy.fftpack: Fast Fourier transforms\n",
    "    # scipy.integrate: Numerical integration\n",
    "    # scipy.interpolate: Numerical interpolation\n",
    "    # scipy.linalg: Linear algebra routines\n",
    "    # scipy.optimize: Numerical optimization of functions\n",
    "    # scipy.sparse: Sparse matrix storage and linear algebra\n",
    "    # scipy.stats: Statistical analysis routines\n"
   ]
  },
  {
   "cell_type": "code",
   "execution_count": 38,
   "id": "00c1a8bb",
   "metadata": {},
   "outputs": [
    {
     "data": {
      "application/javascript": [
       "/* Put everything inside the global mpl namespace */\n",
       "/* global mpl */\n",
       "window.mpl = {};\n",
       "\n",
       "mpl.get_websocket_type = function () {\n",
       "    if (typeof WebSocket !== 'undefined') {\n",
       "        return WebSocket;\n",
       "    } else if (typeof MozWebSocket !== 'undefined') {\n",
       "        return MozWebSocket;\n",
       "    } else {\n",
       "        alert(\n",
       "            'Your browser does not have WebSocket support. ' +\n",
       "                'Please try Chrome, Safari or Firefox ≥ 6. ' +\n",
       "                'Firefox 4 and 5 are also supported but you ' +\n",
       "                'have to enable WebSockets in about:config.'\n",
       "        );\n",
       "    }\n",
       "};\n",
       "\n",
       "mpl.figure = function (figure_id, websocket, ondownload, parent_element) {\n",
       "    this.id = figure_id;\n",
       "\n",
       "    this.ws = websocket;\n",
       "\n",
       "    this.supports_binary = this.ws.binaryType !== undefined;\n",
       "\n",
       "    if (!this.supports_binary) {\n",
       "        var warnings = document.getElementById('mpl-warnings');\n",
       "        if (warnings) {\n",
       "            warnings.style.display = 'block';\n",
       "            warnings.textContent =\n",
       "                'This browser does not support binary websocket messages. ' +\n",
       "                'Performance may be slow.';\n",
       "        }\n",
       "    }\n",
       "\n",
       "    this.imageObj = new Image();\n",
       "\n",
       "    this.context = undefined;\n",
       "    this.message = undefined;\n",
       "    this.canvas = undefined;\n",
       "    this.rubberband_canvas = undefined;\n",
       "    this.rubberband_context = undefined;\n",
       "    this.format_dropdown = undefined;\n",
       "\n",
       "    this.image_mode = 'full';\n",
       "\n",
       "    this.root = document.createElement('div');\n",
       "    this.root.setAttribute('style', 'display: inline-block');\n",
       "    this._root_extra_style(this.root);\n",
       "\n",
       "    parent_element.appendChild(this.root);\n",
       "\n",
       "    this._init_header(this);\n",
       "    this._init_canvas(this);\n",
       "    this._init_toolbar(this);\n",
       "\n",
       "    var fig = this;\n",
       "\n",
       "    this.waiting = false;\n",
       "\n",
       "    this.ws.onopen = function () {\n",
       "        fig.send_message('supports_binary', { value: fig.supports_binary });\n",
       "        fig.send_message('send_image_mode', {});\n",
       "        if (fig.ratio !== 1) {\n",
       "            fig.send_message('set_device_pixel_ratio', {\n",
       "                device_pixel_ratio: fig.ratio,\n",
       "            });\n",
       "        }\n",
       "        fig.send_message('refresh', {});\n",
       "    };\n",
       "\n",
       "    this.imageObj.onload = function () {\n",
       "        if (fig.image_mode === 'full') {\n",
       "            // Full images could contain transparency (where diff images\n",
       "            // almost always do), so we need to clear the canvas so that\n",
       "            // there is no ghosting.\n",
       "            fig.context.clearRect(0, 0, fig.canvas.width, fig.canvas.height);\n",
       "        }\n",
       "        fig.context.drawImage(fig.imageObj, 0, 0);\n",
       "    };\n",
       "\n",
       "    this.imageObj.onunload = function () {\n",
       "        fig.ws.close();\n",
       "    };\n",
       "\n",
       "    this.ws.onmessage = this._make_on_message_function(this);\n",
       "\n",
       "    this.ondownload = ondownload;\n",
       "};\n",
       "\n",
       "mpl.figure.prototype._init_header = function () {\n",
       "    var titlebar = document.createElement('div');\n",
       "    titlebar.classList =\n",
       "        'ui-dialog-titlebar ui-widget-header ui-corner-all ui-helper-clearfix';\n",
       "    var titletext = document.createElement('div');\n",
       "    titletext.classList = 'ui-dialog-title';\n",
       "    titletext.setAttribute(\n",
       "        'style',\n",
       "        'width: 100%; text-align: center; padding: 3px;'\n",
       "    );\n",
       "    titlebar.appendChild(titletext);\n",
       "    this.root.appendChild(titlebar);\n",
       "    this.header = titletext;\n",
       "};\n",
       "\n",
       "mpl.figure.prototype._canvas_extra_style = function (_canvas_div) {};\n",
       "\n",
       "mpl.figure.prototype._root_extra_style = function (_canvas_div) {};\n",
       "\n",
       "mpl.figure.prototype._init_canvas = function () {\n",
       "    var fig = this;\n",
       "\n",
       "    var canvas_div = (this.canvas_div = document.createElement('div'));\n",
       "    canvas_div.setAttribute('tabindex', '0');\n",
       "    canvas_div.setAttribute(\n",
       "        'style',\n",
       "        'border: 1px solid #ddd;' +\n",
       "            'box-sizing: content-box;' +\n",
       "            'clear: both;' +\n",
       "            'min-height: 1px;' +\n",
       "            'min-width: 1px;' +\n",
       "            'outline: 0;' +\n",
       "            'overflow: hidden;' +\n",
       "            'position: relative;' +\n",
       "            'resize: both;' +\n",
       "            'z-index: 2;'\n",
       "    );\n",
       "\n",
       "    function on_keyboard_event_closure(name) {\n",
       "        return function (event) {\n",
       "            return fig.key_event(event, name);\n",
       "        };\n",
       "    }\n",
       "\n",
       "    canvas_div.addEventListener(\n",
       "        'keydown',\n",
       "        on_keyboard_event_closure('key_press')\n",
       "    );\n",
       "    canvas_div.addEventListener(\n",
       "        'keyup',\n",
       "        on_keyboard_event_closure('key_release')\n",
       "    );\n",
       "\n",
       "    this._canvas_extra_style(canvas_div);\n",
       "    this.root.appendChild(canvas_div);\n",
       "\n",
       "    var canvas = (this.canvas = document.createElement('canvas'));\n",
       "    canvas.classList.add('mpl-canvas');\n",
       "    canvas.setAttribute(\n",
       "        'style',\n",
       "        'box-sizing: content-box;' +\n",
       "            'pointer-events: none;' +\n",
       "            'position: relative;' +\n",
       "            'z-index: 0;'\n",
       "    );\n",
       "\n",
       "    this.context = canvas.getContext('2d');\n",
       "\n",
       "    var backingStore =\n",
       "        this.context.backingStorePixelRatio ||\n",
       "        this.context.webkitBackingStorePixelRatio ||\n",
       "        this.context.mozBackingStorePixelRatio ||\n",
       "        this.context.msBackingStorePixelRatio ||\n",
       "        this.context.oBackingStorePixelRatio ||\n",
       "        this.context.backingStorePixelRatio ||\n",
       "        1;\n",
       "\n",
       "    this.ratio = (window.devicePixelRatio || 1) / backingStore;\n",
       "\n",
       "    var rubberband_canvas = (this.rubberband_canvas = document.createElement(\n",
       "        'canvas'\n",
       "    ));\n",
       "    rubberband_canvas.setAttribute(\n",
       "        'style',\n",
       "        'box-sizing: content-box;' +\n",
       "            'left: 0;' +\n",
       "            'pointer-events: none;' +\n",
       "            'position: absolute;' +\n",
       "            'top: 0;' +\n",
       "            'z-index: 1;'\n",
       "    );\n",
       "\n",
       "    // Apply a ponyfill if ResizeObserver is not implemented by browser.\n",
       "    if (this.ResizeObserver === undefined) {\n",
       "        if (window.ResizeObserver !== undefined) {\n",
       "            this.ResizeObserver = window.ResizeObserver;\n",
       "        } else {\n",
       "            var obs = _JSXTOOLS_RESIZE_OBSERVER({});\n",
       "            this.ResizeObserver = obs.ResizeObserver;\n",
       "        }\n",
       "    }\n",
       "\n",
       "    this.resizeObserverInstance = new this.ResizeObserver(function (entries) {\n",
       "        var nentries = entries.length;\n",
       "        for (var i = 0; i < nentries; i++) {\n",
       "            var entry = entries[i];\n",
       "            var width, height;\n",
       "            if (entry.contentBoxSize) {\n",
       "                if (entry.contentBoxSize instanceof Array) {\n",
       "                    // Chrome 84 implements new version of spec.\n",
       "                    width = entry.contentBoxSize[0].inlineSize;\n",
       "                    height = entry.contentBoxSize[0].blockSize;\n",
       "                } else {\n",
       "                    // Firefox implements old version of spec.\n",
       "                    width = entry.contentBoxSize.inlineSize;\n",
       "                    height = entry.contentBoxSize.blockSize;\n",
       "                }\n",
       "            } else {\n",
       "                // Chrome <84 implements even older version of spec.\n",
       "                width = entry.contentRect.width;\n",
       "                height = entry.contentRect.height;\n",
       "            }\n",
       "\n",
       "            // Keep the size of the canvas and rubber band canvas in sync with\n",
       "            // the canvas container.\n",
       "            if (entry.devicePixelContentBoxSize) {\n",
       "                // Chrome 84 implements new version of spec.\n",
       "                canvas.setAttribute(\n",
       "                    'width',\n",
       "                    entry.devicePixelContentBoxSize[0].inlineSize\n",
       "                );\n",
       "                canvas.setAttribute(\n",
       "                    'height',\n",
       "                    entry.devicePixelContentBoxSize[0].blockSize\n",
       "                );\n",
       "            } else {\n",
       "                canvas.setAttribute('width', width * fig.ratio);\n",
       "                canvas.setAttribute('height', height * fig.ratio);\n",
       "            }\n",
       "            /* This rescales the canvas back to display pixels, so that it\n",
       "             * appears correct on HiDPI screens. */\n",
       "            canvas.style.width = width + 'px';\n",
       "            canvas.style.height = height + 'px';\n",
       "\n",
       "            rubberband_canvas.setAttribute('width', width);\n",
       "            rubberband_canvas.setAttribute('height', height);\n",
       "\n",
       "            // And update the size in Python. We ignore the initial 0/0 size\n",
       "            // that occurs as the element is placed into the DOM, which should\n",
       "            // otherwise not happen due to the minimum size styling.\n",
       "            if (fig.ws.readyState == 1 && width != 0 && height != 0) {\n",
       "                fig.request_resize(width, height);\n",
       "            }\n",
       "        }\n",
       "    });\n",
       "    this.resizeObserverInstance.observe(canvas_div);\n",
       "\n",
       "    function on_mouse_event_closure(name) {\n",
       "        /* User Agent sniffing is bad, but WebKit is busted:\n",
       "         * https://bugs.webkit.org/show_bug.cgi?id=144526\n",
       "         * https://bugs.webkit.org/show_bug.cgi?id=181818\n",
       "         * The worst that happens here is that they get an extra browser\n",
       "         * selection when dragging, if this check fails to catch them.\n",
       "         */\n",
       "        var UA = navigator.userAgent;\n",
       "        var isWebKit = /AppleWebKit/.test(UA) && !/Chrome/.test(UA);\n",
       "        if(isWebKit) {\n",
       "            return function (event) {\n",
       "                /* This prevents the web browser from automatically changing to\n",
       "                 * the text insertion cursor when the button is pressed. We\n",
       "                 * want to control all of the cursor setting manually through\n",
       "                 * the 'cursor' event from matplotlib */\n",
       "                event.preventDefault()\n",
       "                return fig.mouse_event(event, name);\n",
       "            };\n",
       "        } else {\n",
       "            return function (event) {\n",
       "                return fig.mouse_event(event, name);\n",
       "            };\n",
       "        }\n",
       "    }\n",
       "\n",
       "    canvas_div.addEventListener(\n",
       "        'mousedown',\n",
       "        on_mouse_event_closure('button_press')\n",
       "    );\n",
       "    canvas_div.addEventListener(\n",
       "        'mouseup',\n",
       "        on_mouse_event_closure('button_release')\n",
       "    );\n",
       "    canvas_div.addEventListener(\n",
       "        'dblclick',\n",
       "        on_mouse_event_closure('dblclick')\n",
       "    );\n",
       "    // Throttle sequential mouse events to 1 every 20ms.\n",
       "    canvas_div.addEventListener(\n",
       "        'mousemove',\n",
       "        on_mouse_event_closure('motion_notify')\n",
       "    );\n",
       "\n",
       "    canvas_div.addEventListener(\n",
       "        'mouseenter',\n",
       "        on_mouse_event_closure('figure_enter')\n",
       "    );\n",
       "    canvas_div.addEventListener(\n",
       "        'mouseleave',\n",
       "        on_mouse_event_closure('figure_leave')\n",
       "    );\n",
       "\n",
       "    canvas_div.addEventListener('wheel', function (event) {\n",
       "        if (event.deltaY < 0) {\n",
       "            event.step = 1;\n",
       "        } else {\n",
       "            event.step = -1;\n",
       "        }\n",
       "        on_mouse_event_closure('scroll')(event);\n",
       "    });\n",
       "\n",
       "    canvas_div.appendChild(canvas);\n",
       "    canvas_div.appendChild(rubberband_canvas);\n",
       "\n",
       "    this.rubberband_context = rubberband_canvas.getContext('2d');\n",
       "    this.rubberband_context.strokeStyle = '#000000';\n",
       "\n",
       "    this._resize_canvas = function (width, height, forward) {\n",
       "        if (forward) {\n",
       "            canvas_div.style.width = width + 'px';\n",
       "            canvas_div.style.height = height + 'px';\n",
       "        }\n",
       "    };\n",
       "\n",
       "    // Disable right mouse context menu.\n",
       "    canvas_div.addEventListener('contextmenu', function (_e) {\n",
       "        event.preventDefault();\n",
       "        return false;\n",
       "    });\n",
       "\n",
       "    function set_focus() {\n",
       "        canvas.focus();\n",
       "        canvas_div.focus();\n",
       "    }\n",
       "\n",
       "    window.setTimeout(set_focus, 100);\n",
       "};\n",
       "\n",
       "mpl.figure.prototype._init_toolbar = function () {\n",
       "    var fig = this;\n",
       "\n",
       "    var toolbar = document.createElement('div');\n",
       "    toolbar.classList = 'mpl-toolbar';\n",
       "    this.root.appendChild(toolbar);\n",
       "\n",
       "    function on_click_closure(name) {\n",
       "        return function (_event) {\n",
       "            return fig.toolbar_button_onclick(name);\n",
       "        };\n",
       "    }\n",
       "\n",
       "    function on_mouseover_closure(tooltip) {\n",
       "        return function (event) {\n",
       "            if (!event.currentTarget.disabled) {\n",
       "                return fig.toolbar_button_onmouseover(tooltip);\n",
       "            }\n",
       "        };\n",
       "    }\n",
       "\n",
       "    fig.buttons = {};\n",
       "    var buttonGroup = document.createElement('div');\n",
       "    buttonGroup.classList = 'mpl-button-group';\n",
       "    for (var toolbar_ind in mpl.toolbar_items) {\n",
       "        var name = mpl.toolbar_items[toolbar_ind][0];\n",
       "        var tooltip = mpl.toolbar_items[toolbar_ind][1];\n",
       "        var image = mpl.toolbar_items[toolbar_ind][2];\n",
       "        var method_name = mpl.toolbar_items[toolbar_ind][3];\n",
       "\n",
       "        if (!name) {\n",
       "            /* Instead of a spacer, we start a new button group. */\n",
       "            if (buttonGroup.hasChildNodes()) {\n",
       "                toolbar.appendChild(buttonGroup);\n",
       "            }\n",
       "            buttonGroup = document.createElement('div');\n",
       "            buttonGroup.classList = 'mpl-button-group';\n",
       "            continue;\n",
       "        }\n",
       "\n",
       "        var button = (fig.buttons[name] = document.createElement('button'));\n",
       "        button.classList = 'mpl-widget';\n",
       "        button.setAttribute('role', 'button');\n",
       "        button.setAttribute('aria-disabled', 'false');\n",
       "        button.addEventListener('click', on_click_closure(method_name));\n",
       "        button.addEventListener('mouseover', on_mouseover_closure(tooltip));\n",
       "\n",
       "        var icon_img = document.createElement('img');\n",
       "        icon_img.src = '_images/' + image + '.png';\n",
       "        icon_img.srcset = '_images/' + image + '_large.png 2x';\n",
       "        icon_img.alt = tooltip;\n",
       "        button.appendChild(icon_img);\n",
       "\n",
       "        buttonGroup.appendChild(button);\n",
       "    }\n",
       "\n",
       "    if (buttonGroup.hasChildNodes()) {\n",
       "        toolbar.appendChild(buttonGroup);\n",
       "    }\n",
       "\n",
       "    var fmt_picker = document.createElement('select');\n",
       "    fmt_picker.classList = 'mpl-widget';\n",
       "    toolbar.appendChild(fmt_picker);\n",
       "    this.format_dropdown = fmt_picker;\n",
       "\n",
       "    for (var ind in mpl.extensions) {\n",
       "        var fmt = mpl.extensions[ind];\n",
       "        var option = document.createElement('option');\n",
       "        option.selected = fmt === mpl.default_extension;\n",
       "        option.innerHTML = fmt;\n",
       "        fmt_picker.appendChild(option);\n",
       "    }\n",
       "\n",
       "    var status_bar = document.createElement('span');\n",
       "    status_bar.classList = 'mpl-message';\n",
       "    toolbar.appendChild(status_bar);\n",
       "    this.message = status_bar;\n",
       "};\n",
       "\n",
       "mpl.figure.prototype.request_resize = function (x_pixels, y_pixels) {\n",
       "    // Request matplotlib to resize the figure. Matplotlib will then trigger a resize in the client,\n",
       "    // which will in turn request a refresh of the image.\n",
       "    this.send_message('resize', { width: x_pixels, height: y_pixels });\n",
       "};\n",
       "\n",
       "mpl.figure.prototype.send_message = function (type, properties) {\n",
       "    properties['type'] = type;\n",
       "    properties['figure_id'] = this.id;\n",
       "    this.ws.send(JSON.stringify(properties));\n",
       "};\n",
       "\n",
       "mpl.figure.prototype.send_draw_message = function () {\n",
       "    if (!this.waiting) {\n",
       "        this.waiting = true;\n",
       "        this.ws.send(JSON.stringify({ type: 'draw', figure_id: this.id }));\n",
       "    }\n",
       "};\n",
       "\n",
       "mpl.figure.prototype.handle_save = function (fig, _msg) {\n",
       "    var format_dropdown = fig.format_dropdown;\n",
       "    var format = format_dropdown.options[format_dropdown.selectedIndex].value;\n",
       "    fig.ondownload(fig, format);\n",
       "};\n",
       "\n",
       "mpl.figure.prototype.handle_resize = function (fig, msg) {\n",
       "    var size = msg['size'];\n",
       "    if (size[0] !== fig.canvas.width || size[1] !== fig.canvas.height) {\n",
       "        fig._resize_canvas(size[0], size[1], msg['forward']);\n",
       "        fig.send_message('refresh', {});\n",
       "    }\n",
       "};\n",
       "\n",
       "mpl.figure.prototype.handle_rubberband = function (fig, msg) {\n",
       "    var x0 = msg['x0'] / fig.ratio;\n",
       "    var y0 = (fig.canvas.height - msg['y0']) / fig.ratio;\n",
       "    var x1 = msg['x1'] / fig.ratio;\n",
       "    var y1 = (fig.canvas.height - msg['y1']) / fig.ratio;\n",
       "    x0 = Math.floor(x0) + 0.5;\n",
       "    y0 = Math.floor(y0) + 0.5;\n",
       "    x1 = Math.floor(x1) + 0.5;\n",
       "    y1 = Math.floor(y1) + 0.5;\n",
       "    var min_x = Math.min(x0, x1);\n",
       "    var min_y = Math.min(y0, y1);\n",
       "    var width = Math.abs(x1 - x0);\n",
       "    var height = Math.abs(y1 - y0);\n",
       "\n",
       "    fig.rubberband_context.clearRect(\n",
       "        0,\n",
       "        0,\n",
       "        fig.canvas.width / fig.ratio,\n",
       "        fig.canvas.height / fig.ratio\n",
       "    );\n",
       "\n",
       "    fig.rubberband_context.strokeRect(min_x, min_y, width, height);\n",
       "};\n",
       "\n",
       "mpl.figure.prototype.handle_figure_label = function (fig, msg) {\n",
       "    // Updates the figure title.\n",
       "    fig.header.textContent = msg['label'];\n",
       "};\n",
       "\n",
       "mpl.figure.prototype.handle_cursor = function (fig, msg) {\n",
       "    fig.canvas_div.style.cursor = msg['cursor'];\n",
       "};\n",
       "\n",
       "mpl.figure.prototype.handle_message = function (fig, msg) {\n",
       "    fig.message.textContent = msg['message'];\n",
       "};\n",
       "\n",
       "mpl.figure.prototype.handle_draw = function (fig, _msg) {\n",
       "    // Request the server to send over a new figure.\n",
       "    fig.send_draw_message();\n",
       "};\n",
       "\n",
       "mpl.figure.prototype.handle_image_mode = function (fig, msg) {\n",
       "    fig.image_mode = msg['mode'];\n",
       "};\n",
       "\n",
       "mpl.figure.prototype.handle_history_buttons = function (fig, msg) {\n",
       "    for (var key in msg) {\n",
       "        if (!(key in fig.buttons)) {\n",
       "            continue;\n",
       "        }\n",
       "        fig.buttons[key].disabled = !msg[key];\n",
       "        fig.buttons[key].setAttribute('aria-disabled', !msg[key]);\n",
       "    }\n",
       "};\n",
       "\n",
       "mpl.figure.prototype.handle_navigate_mode = function (fig, msg) {\n",
       "    if (msg['mode'] === 'PAN') {\n",
       "        fig.buttons['Pan'].classList.add('active');\n",
       "        fig.buttons['Zoom'].classList.remove('active');\n",
       "    } else if (msg['mode'] === 'ZOOM') {\n",
       "        fig.buttons['Pan'].classList.remove('active');\n",
       "        fig.buttons['Zoom'].classList.add('active');\n",
       "    } else {\n",
       "        fig.buttons['Pan'].classList.remove('active');\n",
       "        fig.buttons['Zoom'].classList.remove('active');\n",
       "    }\n",
       "};\n",
       "\n",
       "mpl.figure.prototype.updated_canvas_event = function () {\n",
       "    // Called whenever the canvas gets updated.\n",
       "    this.send_message('ack', {});\n",
       "};\n",
       "\n",
       "// A function to construct a web socket function for onmessage handling.\n",
       "// Called in the figure constructor.\n",
       "mpl.figure.prototype._make_on_message_function = function (fig) {\n",
       "    return function socket_on_message(evt) {\n",
       "        if (evt.data instanceof Blob) {\n",
       "            var img = evt.data;\n",
       "            if (img.type !== 'image/png') {\n",
       "                /* FIXME: We get \"Resource interpreted as Image but\n",
       "                 * transferred with MIME type text/plain:\" errors on\n",
       "                 * Chrome.  But how to set the MIME type?  It doesn't seem\n",
       "                 * to be part of the websocket stream */\n",
       "                img.type = 'image/png';\n",
       "            }\n",
       "\n",
       "            /* Free the memory for the previous frames */\n",
       "            if (fig.imageObj.src) {\n",
       "                (window.URL || window.webkitURL).revokeObjectURL(\n",
       "                    fig.imageObj.src\n",
       "                );\n",
       "            }\n",
       "\n",
       "            fig.imageObj.src = (window.URL || window.webkitURL).createObjectURL(\n",
       "                img\n",
       "            );\n",
       "            fig.updated_canvas_event();\n",
       "            fig.waiting = false;\n",
       "            return;\n",
       "        } else if (\n",
       "            typeof evt.data === 'string' &&\n",
       "            evt.data.slice(0, 21) === 'data:image/png;base64'\n",
       "        ) {\n",
       "            fig.imageObj.src = evt.data;\n",
       "            fig.updated_canvas_event();\n",
       "            fig.waiting = false;\n",
       "            return;\n",
       "        }\n",
       "\n",
       "        var msg = JSON.parse(evt.data);\n",
       "        var msg_type = msg['type'];\n",
       "\n",
       "        // Call the  \"handle_{type}\" callback, which takes\n",
       "        // the figure and JSON message as its only arguments.\n",
       "        try {\n",
       "            var callback = fig['handle_' + msg_type];\n",
       "        } catch (e) {\n",
       "            console.log(\n",
       "                \"No handler for the '\" + msg_type + \"' message type: \",\n",
       "                msg\n",
       "            );\n",
       "            return;\n",
       "        }\n",
       "\n",
       "        if (callback) {\n",
       "            try {\n",
       "                // console.log(\"Handling '\" + msg_type + \"' message: \", msg);\n",
       "                callback(fig, msg);\n",
       "            } catch (e) {\n",
       "                console.log(\n",
       "                    \"Exception inside the 'handler_\" + msg_type + \"' callback:\",\n",
       "                    e,\n",
       "                    e.stack,\n",
       "                    msg\n",
       "                );\n",
       "            }\n",
       "        }\n",
       "    };\n",
       "};\n",
       "\n",
       "function getModifiers(event) {\n",
       "    var mods = [];\n",
       "    if (event.ctrlKey) {\n",
       "        mods.push('ctrl');\n",
       "    }\n",
       "    if (event.altKey) {\n",
       "        mods.push('alt');\n",
       "    }\n",
       "    if (event.shiftKey) {\n",
       "        mods.push('shift');\n",
       "    }\n",
       "    if (event.metaKey) {\n",
       "        mods.push('meta');\n",
       "    }\n",
       "    return mods;\n",
       "}\n",
       "\n",
       "/*\n",
       " * return a copy of an object with only non-object keys\n",
       " * we need this to avoid circular references\n",
       " * https://stackoverflow.com/a/24161582/3208463\n",
       " */\n",
       "function simpleKeys(original) {\n",
       "    return Object.keys(original).reduce(function (obj, key) {\n",
       "        if (typeof original[key] !== 'object') {\n",
       "            obj[key] = original[key];\n",
       "        }\n",
       "        return obj;\n",
       "    }, {});\n",
       "}\n",
       "\n",
       "mpl.figure.prototype.mouse_event = function (event, name) {\n",
       "    if (name === 'button_press') {\n",
       "        this.canvas.focus();\n",
       "        this.canvas_div.focus();\n",
       "    }\n",
       "\n",
       "    // from https://stackoverflow.com/q/1114465\n",
       "    var boundingRect = this.canvas.getBoundingClientRect();\n",
       "    var x = (event.clientX - boundingRect.left) * this.ratio;\n",
       "    var y = (event.clientY - boundingRect.top) * this.ratio;\n",
       "\n",
       "    this.send_message(name, {\n",
       "        x: x,\n",
       "        y: y,\n",
       "        button: event.button,\n",
       "        step: event.step,\n",
       "        modifiers: getModifiers(event),\n",
       "        guiEvent: simpleKeys(event),\n",
       "    });\n",
       "\n",
       "    return false;\n",
       "};\n",
       "\n",
       "mpl.figure.prototype._key_event_extra = function (_event, _name) {\n",
       "    // Handle any extra behaviour associated with a key event\n",
       "};\n",
       "\n",
       "mpl.figure.prototype.key_event = function (event, name) {\n",
       "    // Prevent repeat events\n",
       "    if (name === 'key_press') {\n",
       "        if (event.key === this._key) {\n",
       "            return;\n",
       "        } else {\n",
       "            this._key = event.key;\n",
       "        }\n",
       "    }\n",
       "    if (name === 'key_release') {\n",
       "        this._key = null;\n",
       "    }\n",
       "\n",
       "    var value = '';\n",
       "    if (event.ctrlKey && event.key !== 'Control') {\n",
       "        value += 'ctrl+';\n",
       "    }\n",
       "    else if (event.altKey && event.key !== 'Alt') {\n",
       "        value += 'alt+';\n",
       "    }\n",
       "    else if (event.shiftKey && event.key !== 'Shift') {\n",
       "        value += 'shift+';\n",
       "    }\n",
       "\n",
       "    value += 'k' + event.key;\n",
       "\n",
       "    this._key_event_extra(event, name);\n",
       "\n",
       "    this.send_message(name, { key: value, guiEvent: simpleKeys(event) });\n",
       "    return false;\n",
       "};\n",
       "\n",
       "mpl.figure.prototype.toolbar_button_onclick = function (name) {\n",
       "    if (name === 'download') {\n",
       "        this.handle_save(this, null);\n",
       "    } else {\n",
       "        this.send_message('toolbar_button', { name: name });\n",
       "    }\n",
       "};\n",
       "\n",
       "mpl.figure.prototype.toolbar_button_onmouseover = function (tooltip) {\n",
       "    this.message.textContent = tooltip;\n",
       "};\n",
       "\n",
       "///////////////// REMAINING CONTENT GENERATED BY embed_js.py /////////////////\n",
       "// prettier-ignore\n",
       "var _JSXTOOLS_RESIZE_OBSERVER=function(A){var t,i=new WeakMap,n=new WeakMap,a=new WeakMap,r=new WeakMap,o=new Set;function s(e){if(!(this instanceof s))throw new TypeError(\"Constructor requires 'new' operator\");i.set(this,e)}function h(){throw new TypeError(\"Function is not a constructor\")}function c(e,t,i,n){e=0 in arguments?Number(arguments[0]):0,t=1 in arguments?Number(arguments[1]):0,i=2 in arguments?Number(arguments[2]):0,n=3 in arguments?Number(arguments[3]):0,this.right=(this.x=this.left=e)+(this.width=i),this.bottom=(this.y=this.top=t)+(this.height=n),Object.freeze(this)}function d(){t=requestAnimationFrame(d);var s=new WeakMap,p=new Set;o.forEach((function(t){r.get(t).forEach((function(i){var r=t instanceof window.SVGElement,o=a.get(t),d=r?0:parseFloat(o.paddingTop),f=r?0:parseFloat(o.paddingRight),l=r?0:parseFloat(o.paddingBottom),u=r?0:parseFloat(o.paddingLeft),g=r?0:parseFloat(o.borderTopWidth),m=r?0:parseFloat(o.borderRightWidth),w=r?0:parseFloat(o.borderBottomWidth),b=u+f,F=d+l,v=(r?0:parseFloat(o.borderLeftWidth))+m,W=g+w,y=r?0:t.offsetHeight-W-t.clientHeight,E=r?0:t.offsetWidth-v-t.clientWidth,R=b+v,z=F+W,M=r?t.width:parseFloat(o.width)-R-E,O=r?t.height:parseFloat(o.height)-z-y;if(n.has(t)){var k=n.get(t);if(k[0]===M&&k[1]===O)return}n.set(t,[M,O]);var S=Object.create(h.prototype);S.target=t,S.contentRect=new c(u,d,M,O),s.has(i)||(s.set(i,[]),p.add(i)),s.get(i).push(S)}))})),p.forEach((function(e){i.get(e).call(e,s.get(e),e)}))}return s.prototype.observe=function(i){if(i instanceof window.Element){r.has(i)||(r.set(i,new Set),o.add(i),a.set(i,window.getComputedStyle(i)));var n=r.get(i);n.has(this)||n.add(this),cancelAnimationFrame(t),t=requestAnimationFrame(d)}},s.prototype.unobserve=function(i){if(i instanceof window.Element&&r.has(i)){var n=r.get(i);n.has(this)&&(n.delete(this),n.size||(r.delete(i),o.delete(i))),n.size||r.delete(i),o.size||cancelAnimationFrame(t)}},A.DOMRectReadOnly=c,A.ResizeObserver=s,A.ResizeObserverEntry=h,A}; // eslint-disable-line\n",
       "mpl.toolbar_items = [[\"Home\", \"Reset original view\", \"fa fa-home\", \"home\"], [\"Back\", \"Back to previous view\", \"fa fa-arrow-left\", \"back\"], [\"Forward\", \"Forward to next view\", \"fa fa-arrow-right\", \"forward\"], [\"\", \"\", \"\", \"\"], [\"Pan\", \"Left button pans, Right button zooms\\nx/y fixes axis, CTRL fixes aspect\", \"fa fa-arrows\", \"pan\"], [\"Zoom\", \"Zoom to rectangle\\nx/y fixes axis\", \"fa fa-square-o\", \"zoom\"], [\"\", \"\", \"\", \"\"], [\"Download\", \"Download plot\", \"fa fa-floppy-o\", \"download\"]];\n",
       "\n",
       "mpl.extensions = [\"eps\", \"jpeg\", \"pgf\", \"pdf\", \"png\", \"ps\", \"raw\", \"svg\", \"tif\", \"webp\"];\n",
       "\n",
       "mpl.default_extension = \"png\";/* global mpl */\n",
       "\n",
       "var comm_websocket_adapter = function (comm) {\n",
       "    // Create a \"websocket\"-like object which calls the given IPython comm\n",
       "    // object with the appropriate methods. Currently this is a non binary\n",
       "    // socket, so there is still some room for performance tuning.\n",
       "    var ws = {};\n",
       "\n",
       "    ws.binaryType = comm.kernel.ws.binaryType;\n",
       "    ws.readyState = comm.kernel.ws.readyState;\n",
       "    function updateReadyState(_event) {\n",
       "        if (comm.kernel.ws) {\n",
       "            ws.readyState = comm.kernel.ws.readyState;\n",
       "        } else {\n",
       "            ws.readyState = 3; // Closed state.\n",
       "        }\n",
       "    }\n",
       "    comm.kernel.ws.addEventListener('open', updateReadyState);\n",
       "    comm.kernel.ws.addEventListener('close', updateReadyState);\n",
       "    comm.kernel.ws.addEventListener('error', updateReadyState);\n",
       "\n",
       "    ws.close = function () {\n",
       "        comm.close();\n",
       "    };\n",
       "    ws.send = function (m) {\n",
       "        //console.log('sending', m);\n",
       "        comm.send(m);\n",
       "    };\n",
       "    // Register the callback with on_msg.\n",
       "    comm.on_msg(function (msg) {\n",
       "        //console.log('receiving', msg['content']['data'], msg);\n",
       "        var data = msg['content']['data'];\n",
       "        if (data['blob'] !== undefined) {\n",
       "            data = {\n",
       "                data: new Blob(msg['buffers'], { type: data['blob'] }),\n",
       "            };\n",
       "        }\n",
       "        // Pass the mpl event to the overridden (by mpl) onmessage function.\n",
       "        ws.onmessage(data);\n",
       "    });\n",
       "    return ws;\n",
       "};\n",
       "\n",
       "mpl.mpl_figure_comm = function (comm, msg) {\n",
       "    // This is the function which gets called when the mpl process\n",
       "    // starts-up an IPython Comm through the \"matplotlib\" channel.\n",
       "\n",
       "    var id = msg.content.data.id;\n",
       "    // Get hold of the div created by the display call when the Comm\n",
       "    // socket was opened in Python.\n",
       "    var element = document.getElementById(id);\n",
       "    var ws_proxy = comm_websocket_adapter(comm);\n",
       "\n",
       "    function ondownload(figure, _format) {\n",
       "        window.open(figure.canvas.toDataURL());\n",
       "    }\n",
       "\n",
       "    var fig = new mpl.figure(id, ws_proxy, ondownload, element);\n",
       "\n",
       "    // Call onopen now - mpl needs it, as it is assuming we've passed it a real\n",
       "    // web socket which is closed, not our websocket->open comm proxy.\n",
       "    ws_proxy.onopen();\n",
       "\n",
       "    fig.parent_element = element;\n",
       "    fig.cell_info = mpl.find_output_cell(\"<div id='\" + id + \"'></div>\");\n",
       "    if (!fig.cell_info) {\n",
       "        console.error('Failed to find cell for figure', id, fig);\n",
       "        return;\n",
       "    }\n",
       "    fig.cell_info[0].output_area.element.on(\n",
       "        'cleared',\n",
       "        { fig: fig },\n",
       "        fig._remove_fig_handler\n",
       "    );\n",
       "};\n",
       "\n",
       "mpl.figure.prototype.handle_close = function (fig, msg) {\n",
       "    var width = fig.canvas.width / fig.ratio;\n",
       "    fig.cell_info[0].output_area.element.off(\n",
       "        'cleared',\n",
       "        fig._remove_fig_handler\n",
       "    );\n",
       "    fig.resizeObserverInstance.unobserve(fig.canvas_div);\n",
       "\n",
       "    // Update the output cell to use the data from the current canvas.\n",
       "    fig.push_to_output();\n",
       "    var dataURL = fig.canvas.toDataURL();\n",
       "    // Re-enable the keyboard manager in IPython - without this line, in FF,\n",
       "    // the notebook keyboard shortcuts fail.\n",
       "    IPython.keyboard_manager.enable();\n",
       "    fig.parent_element.innerHTML =\n",
       "        '<img src=\"' + dataURL + '\" width=\"' + width + '\">';\n",
       "    fig.close_ws(fig, msg);\n",
       "};\n",
       "\n",
       "mpl.figure.prototype.close_ws = function (fig, msg) {\n",
       "    fig.send_message('closing', msg);\n",
       "    // fig.ws.close()\n",
       "};\n",
       "\n",
       "mpl.figure.prototype.push_to_output = function (_remove_interactive) {\n",
       "    // Turn the data on the canvas into data in the output cell.\n",
       "    var width = this.canvas.width / this.ratio;\n",
       "    var dataURL = this.canvas.toDataURL();\n",
       "    this.cell_info[1]['text/html'] =\n",
       "        '<img src=\"' + dataURL + '\" width=\"' + width + '\">';\n",
       "};\n",
       "\n",
       "mpl.figure.prototype.updated_canvas_event = function () {\n",
       "    // Tell IPython that the notebook contents must change.\n",
       "    IPython.notebook.set_dirty(true);\n",
       "    this.send_message('ack', {});\n",
       "    var fig = this;\n",
       "    // Wait a second, then push the new image to the DOM so\n",
       "    // that it is saved nicely (might be nice to debounce this).\n",
       "    setTimeout(function () {\n",
       "        fig.push_to_output();\n",
       "    }, 1000);\n",
       "};\n",
       "\n",
       "mpl.figure.prototype._init_toolbar = function () {\n",
       "    var fig = this;\n",
       "\n",
       "    var toolbar = document.createElement('div');\n",
       "    toolbar.classList = 'btn-toolbar';\n",
       "    this.root.appendChild(toolbar);\n",
       "\n",
       "    function on_click_closure(name) {\n",
       "        return function (_event) {\n",
       "            return fig.toolbar_button_onclick(name);\n",
       "        };\n",
       "    }\n",
       "\n",
       "    function on_mouseover_closure(tooltip) {\n",
       "        return function (event) {\n",
       "            if (!event.currentTarget.disabled) {\n",
       "                return fig.toolbar_button_onmouseover(tooltip);\n",
       "            }\n",
       "        };\n",
       "    }\n",
       "\n",
       "    fig.buttons = {};\n",
       "    var buttonGroup = document.createElement('div');\n",
       "    buttonGroup.classList = 'btn-group';\n",
       "    var button;\n",
       "    for (var toolbar_ind in mpl.toolbar_items) {\n",
       "        var name = mpl.toolbar_items[toolbar_ind][0];\n",
       "        var tooltip = mpl.toolbar_items[toolbar_ind][1];\n",
       "        var image = mpl.toolbar_items[toolbar_ind][2];\n",
       "        var method_name = mpl.toolbar_items[toolbar_ind][3];\n",
       "\n",
       "        if (!name) {\n",
       "            /* Instead of a spacer, we start a new button group. */\n",
       "            if (buttonGroup.hasChildNodes()) {\n",
       "                toolbar.appendChild(buttonGroup);\n",
       "            }\n",
       "            buttonGroup = document.createElement('div');\n",
       "            buttonGroup.classList = 'btn-group';\n",
       "            continue;\n",
       "        }\n",
       "\n",
       "        button = fig.buttons[name] = document.createElement('button');\n",
       "        button.classList = 'btn btn-default';\n",
       "        button.href = '#';\n",
       "        button.title = name;\n",
       "        button.innerHTML = '<i class=\"fa ' + image + ' fa-lg\"></i>';\n",
       "        button.addEventListener('click', on_click_closure(method_name));\n",
       "        button.addEventListener('mouseover', on_mouseover_closure(tooltip));\n",
       "        buttonGroup.appendChild(button);\n",
       "    }\n",
       "\n",
       "    if (buttonGroup.hasChildNodes()) {\n",
       "        toolbar.appendChild(buttonGroup);\n",
       "    }\n",
       "\n",
       "    // Add the status bar.\n",
       "    var status_bar = document.createElement('span');\n",
       "    status_bar.classList = 'mpl-message pull-right';\n",
       "    toolbar.appendChild(status_bar);\n",
       "    this.message = status_bar;\n",
       "\n",
       "    // Add the close button to the window.\n",
       "    var buttongrp = document.createElement('div');\n",
       "    buttongrp.classList = 'btn-group inline pull-right';\n",
       "    button = document.createElement('button');\n",
       "    button.classList = 'btn btn-mini btn-primary';\n",
       "    button.href = '#';\n",
       "    button.title = 'Stop Interaction';\n",
       "    button.innerHTML = '<i class=\"fa fa-power-off icon-remove icon-large\"></i>';\n",
       "    button.addEventListener('click', function (_evt) {\n",
       "        fig.handle_close(fig, {});\n",
       "    });\n",
       "    button.addEventListener(\n",
       "        'mouseover',\n",
       "        on_mouseover_closure('Stop Interaction')\n",
       "    );\n",
       "    buttongrp.appendChild(button);\n",
       "    var titlebar = this.root.querySelector('.ui-dialog-titlebar');\n",
       "    titlebar.insertBefore(buttongrp, titlebar.firstChild);\n",
       "};\n",
       "\n",
       "mpl.figure.prototype._remove_fig_handler = function (event) {\n",
       "    var fig = event.data.fig;\n",
       "    if (event.target !== this) {\n",
       "        // Ignore bubbled events from children.\n",
       "        return;\n",
       "    }\n",
       "    fig.close_ws(fig, {});\n",
       "};\n",
       "\n",
       "mpl.figure.prototype._root_extra_style = function (el) {\n",
       "    el.style.boxSizing = 'content-box'; // override notebook setting of border-box.\n",
       "};\n",
       "\n",
       "mpl.figure.prototype._canvas_extra_style = function (el) {\n",
       "    // this is important to make the div 'focusable\n",
       "    el.setAttribute('tabindex', 0);\n",
       "    // reach out to IPython and tell the keyboard manager to turn it's self\n",
       "    // off when our div gets focus\n",
       "\n",
       "    // location in version 3\n",
       "    if (IPython.notebook.keyboard_manager) {\n",
       "        IPython.notebook.keyboard_manager.register_events(el);\n",
       "    } else {\n",
       "        // location in version 2\n",
       "        IPython.keyboard_manager.register_events(el);\n",
       "    }\n",
       "};\n",
       "\n",
       "mpl.figure.prototype._key_event_extra = function (event, _name) {\n",
       "    // Check for shift+enter\n",
       "    if (event.shiftKey && event.which === 13) {\n",
       "        this.canvas_div.blur();\n",
       "        // select the cell after this one\n",
       "        var index = IPython.notebook.find_cell_index(this.cell_info[0]);\n",
       "        IPython.notebook.select(index + 1);\n",
       "    }\n",
       "};\n",
       "\n",
       "mpl.figure.prototype.handle_save = function (fig, _msg) {\n",
       "    fig.ondownload(fig, null);\n",
       "};\n",
       "\n",
       "mpl.find_output_cell = function (html_output) {\n",
       "    // Return the cell and output element which can be found *uniquely* in the notebook.\n",
       "    // Note - this is a bit hacky, but it is done because the \"notebook_saving.Notebook\"\n",
       "    // IPython event is triggered only after the cells have been serialised, which for\n",
       "    // our purposes (turning an active figure into a static one), is too late.\n",
       "    var cells = IPython.notebook.get_cells();\n",
       "    var ncells = cells.length;\n",
       "    for (var i = 0; i < ncells; i++) {\n",
       "        var cell = cells[i];\n",
       "        if (cell.cell_type === 'code') {\n",
       "            for (var j = 0; j < cell.output_area.outputs.length; j++) {\n",
       "                var data = cell.output_area.outputs[j];\n",
       "                if (data.data) {\n",
       "                    // IPython >= 3 moved mimebundle to data attribute of output\n",
       "                    data = data.data;\n",
       "                }\n",
       "                if (data['text/html'] === html_output) {\n",
       "                    return [cell, data, j];\n",
       "                }\n",
       "            }\n",
       "        }\n",
       "    }\n",
       "};\n",
       "\n",
       "// Register the function which deals with the matplotlib target/channel.\n",
       "// The kernel may be null if the page has been refreshed.\n",
       "if (IPython.notebook.kernel !== null) {\n",
       "    IPython.notebook.kernel.comm_manager.register_target(\n",
       "        'matplotlib',\n",
       "        mpl.mpl_figure_comm\n",
       "    );\n",
       "}\n"
      ],
      "text/plain": [
       "<IPython.core.display.Javascript object>"
      ]
     },
     "metadata": {},
     "output_type": "display_data"
    },
    {
     "data": {
      "text/html": [
       "<img src=\"data:image/png;base64,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\" width=\"640\">"
      ],
      "text/plain": [
       "<IPython.core.display.HTML object>"
      ]
     },
     "metadata": {},
     "output_type": "display_data"
    }
   ],
   "source": [
    "# interpolate a smooth curve betwen some data\n",
    "\n",
    "from scipy import interpolate\n",
    "# choose 8 points between 0 and 10\n",
    "x = np.linspace(0,10,8)\n",
    "y = np.sin(x)\n",
    "\n",
    "# create a cubic interplation function\n",
    "func = interpolate.interp1d(x,y,kind=\"cubic\")\n",
    "\n",
    "# interpolate on a grid of 1,000 points\n",
    "x_interp = np.linspace(0,10,1000)\n",
    "y_interp = func(x_interp)\n",
    "\n",
    "# plot the results\n",
    "plt.figure() # new figure\n",
    "plt.plot(x,y,'o')\n",
    "plt.plot(x_interp, y_interp);"
   ]
  },
  {
   "cell_type": "code",
   "execution_count": null,
   "id": "ca075ee4",
   "metadata": {},
   "outputs": [],
   "source": [
    "# Built on top of these tools are a host of other data science packages, including general tools like \n",
    "# Scikit-Learn for machine learning, \n",
    "# Scikit-Image for image analysis, and \n",
    "# Statsmodels for statistical modeling, as well as more domain-specific packages like \n",
    "# AstroPy for astronomy and astrophysics, \n",
    "# NiPy for neuro-imaging, \n",
    "# and many, many more."
   ]
  }
 ],
 "metadata": {
  "kernelspec": {
   "display_name": "Python 3 (ipykernel)",
   "language": "python",
   "name": "python3"
  },
  "language_info": {
   "codemirror_mode": {
    "name": "ipython",
    "version": 3
   },
   "file_extension": ".py",
   "mimetype": "text/x-python",
   "name": "python",
   "nbconvert_exporter": "python",
   "pygments_lexer": "ipython3",
   "version": "3.11.5"
  }
 },
 "nbformat": 4,
 "nbformat_minor": 5
}
